{
  "cells": [
    {
      "cell_type": "markdown",
      "metadata": {
        "id": "view-in-github",
        "colab_type": "text"
      },
      "source": [
        "<a href=\"https://colab.research.google.com/github/esther-nyokabi/Mchezo-Pesa-Ltd/blob/main/Mchezopesa_Group_1_Project.ipynb\" target=\"_parent\"><img src=\"https://colab.research.google.com/assets/colab-badge.svg\" alt=\"Open In Colab\"/></a>"
      ]
    },
    {
      "cell_type": "markdown",
      "metadata": {
        "id": "PcGPesEvDcpK"
      },
      "source": [
        "# **Business Understanding**\n",
        "\n",
        "\n",
        "\n"
      ]
    },
    {
      "cell_type": "markdown",
      "metadata": {
        "id": "bJHqTEWDvQrx"
      },
      "source": [
        "### a) **Understanding the Context**\n",
        "\n",
        "The FIFA Men's World Ranking is a ranking system for men's national teams in association football. The teams of the men's member nations of FIFA, football's world governing body, are ranked based on their game results with the most successful teams being ranked highest. The rankings were introduced in December 1992.\n",
        "\n",
        "A points system is used, with points being awarded based on the results of all FIFA-recognised full international matches. It is called the Elo rating system.\n",
        "\n",
        "Elo ratings are a numerical way to rank the skill level of various competitors based on their performance as well as the relative skill level of their opponents. The idea is that beating a tougher opponent should give you more points than beating an easier opponent.\n",
        "\n",
        "The study is meant to predict the number of scores made by both the away team and home teams.\n"
      ]
    },
    {
      "cell_type": "markdown",
      "metadata": {
        "id": "TMJOWSOFviDU"
      },
      "source": [
        "### b) **Defining the Question**\n",
        "\n",
        "You have been recruited as a football analyst in a company - Mchezopesa Ltd and tasked to accomplish the task below.\n",
        "A prediction result of a game between team 1 and team 2, based on who's home and who's away, and on whether or not the game is friendly (include rank in your training).\n",
        "\n"
      ]
    },
    {
      "cell_type": "markdown",
      "metadata": {
        "id": "ZBNUGo9AvmmT"
      },
      "source": [
        "### c) **Defining the Metric for Success**\n",
        "\n",
        "\n",
        "The research will be viewed and deemed successful if the model could make a prediction of at least 80%.\n"
      ]
    },
    {
      "cell_type": "markdown",
      "metadata": {
        "id": "C3RGJjwevqTO"
      },
      "source": [
        "### d) **Recordning the Experiments Design**\n",
        "\n",
        "* Load data and preview preliminary characteristics\n",
        "* Read the data\n",
        "* Perform Data Cleaning & Merge the data (check for and deal with outliers, anomalies and missing data)\n",
        "* Petform Exploratory Data Analysis\n",
        "* Implementing the Solution\n",
        "* Challenging the Solution\n",
        "* Follow Up Questions\n",
        "\n"
      ]
    },
    {
      "cell_type": "markdown",
      "metadata": {
        "id": "PI50SEymEujU"
      },
      "source": [
        "# **Reading the Data** \n",
        "\n",
        "Importing the Libraries"
      ]
    },
    {
      "cell_type": "code",
      "execution_count": null,
      "metadata": {
        "id": "Jdccv227FeYr"
      },
      "outputs": [],
      "source": [
        "import pandas as pd\n",
        "import numpy as np\n",
        "import matplotlib.pyplot as plt\n",
        "import seaborn as sns\n",
        "\n",
        "\n",
        "from sklearn import metrics\n",
        "from sklearn.linear_model import LinearRegression\n",
        "from sklearn.linear_model import LogisticRegression # For use in Logistic regression\n",
        "from sklearn.preprocessing import PolynomialFeatures # For use in polynomial regression\n",
        "from sklearn.preprocessing import LabelEncoder # For encoding purposes\n",
        "from sklearn.model_selection import GridSearchCV\n",
        "from sklearn.metrics import mean_squared_error\n",
        "from sklearn import linear_model\n",
        "\n",
        "from sklearn.model_selection import cross_val_score\n",
        "from sklearn.model_selection import KFold\n",
        "from sklearn.model_selection import train_test_split\n",
        "from sklearn.neighbors import KNeighborsClassifier\n",
        "\n",
        "import matplotlib.pyplot as plt\n"
      ]
    },
    {
      "cell_type": "code",
      "execution_count": null,
      "metadata": {
        "colab": {
          "base_uri": "https://localhost:8080/",
          "height": 357
        },
        "id": "IGC1zjmMGdx5",
        "outputId": "caac6223-05f3-4635-9f9d-44dd41885863"
      },
      "outputs": [
        {
          "data": {
            "text/html": [
              "\n",
              "  <div id=\"df-a61500d7-c1d2-4d67-b242-792285a8d419\">\n",
              "    <div class=\"colab-df-container\">\n",
              "      <div>\n",
              "<style scoped>\n",
              "    .dataframe tbody tr th:only-of-type {\n",
              "        vertical-align: middle;\n",
              "    }\n",
              "\n",
              "    .dataframe tbody tr th {\n",
              "        vertical-align: top;\n",
              "    }\n",
              "\n",
              "    .dataframe thead th {\n",
              "        text-align: right;\n",
              "    }\n",
              "</style>\n",
              "<table border=\"1\" class=\"dataframe\">\n",
              "  <thead>\n",
              "    <tr style=\"text-align: right;\">\n",
              "      <th></th>\n",
              "      <th>rank</th>\n",
              "      <th>country_full</th>\n",
              "      <th>country_abrv</th>\n",
              "      <th>total_points</th>\n",
              "      <th>previous_points</th>\n",
              "      <th>rank_change</th>\n",
              "      <th>cur_year_avg</th>\n",
              "      <th>cur_year_avg_weighted</th>\n",
              "      <th>last_year_avg</th>\n",
              "      <th>last_year_avg_weighted</th>\n",
              "      <th>two_year_ago_avg</th>\n",
              "      <th>two_year_ago_weighted</th>\n",
              "      <th>three_year_ago_avg</th>\n",
              "      <th>three_year_ago_weighted</th>\n",
              "      <th>confederation</th>\n",
              "      <th>rank_date</th>\n",
              "    </tr>\n",
              "  </thead>\n",
              "  <tbody>\n",
              "    <tr>\n",
              "      <th>0</th>\n",
              "      <td>1</td>\n",
              "      <td>Germany</td>\n",
              "      <td>GER</td>\n",
              "      <td>0.0</td>\n",
              "      <td>57</td>\n",
              "      <td>0</td>\n",
              "      <td>0.0</td>\n",
              "      <td>0.0</td>\n",
              "      <td>0.0</td>\n",
              "      <td>0.0</td>\n",
              "      <td>0.0</td>\n",
              "      <td>0.0</td>\n",
              "      <td>0.0</td>\n",
              "      <td>0.0</td>\n",
              "      <td>UEFA</td>\n",
              "      <td>1993-08-08</td>\n",
              "    </tr>\n",
              "    <tr>\n",
              "      <th>1</th>\n",
              "      <td>2</td>\n",
              "      <td>Italy</td>\n",
              "      <td>ITA</td>\n",
              "      <td>0.0</td>\n",
              "      <td>57</td>\n",
              "      <td>0</td>\n",
              "      <td>0.0</td>\n",
              "      <td>0.0</td>\n",
              "      <td>0.0</td>\n",
              "      <td>0.0</td>\n",
              "      <td>0.0</td>\n",
              "      <td>0.0</td>\n",
              "      <td>0.0</td>\n",
              "      <td>0.0</td>\n",
              "      <td>UEFA</td>\n",
              "      <td>1993-08-08</td>\n",
              "    </tr>\n",
              "    <tr>\n",
              "      <th>2</th>\n",
              "      <td>3</td>\n",
              "      <td>Switzerland</td>\n",
              "      <td>SUI</td>\n",
              "      <td>0.0</td>\n",
              "      <td>50</td>\n",
              "      <td>9</td>\n",
              "      <td>0.0</td>\n",
              "      <td>0.0</td>\n",
              "      <td>0.0</td>\n",
              "      <td>0.0</td>\n",
              "      <td>0.0</td>\n",
              "      <td>0.0</td>\n",
              "      <td>0.0</td>\n",
              "      <td>0.0</td>\n",
              "      <td>UEFA</td>\n",
              "      <td>1993-08-08</td>\n",
              "    </tr>\n",
              "    <tr>\n",
              "      <th>3</th>\n",
              "      <td>4</td>\n",
              "      <td>Sweden</td>\n",
              "      <td>SWE</td>\n",
              "      <td>0.0</td>\n",
              "      <td>55</td>\n",
              "      <td>0</td>\n",
              "      <td>0.0</td>\n",
              "      <td>0.0</td>\n",
              "      <td>0.0</td>\n",
              "      <td>0.0</td>\n",
              "      <td>0.0</td>\n",
              "      <td>0.0</td>\n",
              "      <td>0.0</td>\n",
              "      <td>0.0</td>\n",
              "      <td>UEFA</td>\n",
              "      <td>1993-08-08</td>\n",
              "    </tr>\n",
              "    <tr>\n",
              "      <th>4</th>\n",
              "      <td>5</td>\n",
              "      <td>Argentina</td>\n",
              "      <td>ARG</td>\n",
              "      <td>0.0</td>\n",
              "      <td>51</td>\n",
              "      <td>5</td>\n",
              "      <td>0.0</td>\n",
              "      <td>0.0</td>\n",
              "      <td>0.0</td>\n",
              "      <td>0.0</td>\n",
              "      <td>0.0</td>\n",
              "      <td>0.0</td>\n",
              "      <td>0.0</td>\n",
              "      <td>0.0</td>\n",
              "      <td>CONMEBOL</td>\n",
              "      <td>1993-08-08</td>\n",
              "    </tr>\n",
              "  </tbody>\n",
              "</table>\n",
              "</div>\n",
              "      <button class=\"colab-df-convert\" onclick=\"convertToInteractive('df-a61500d7-c1d2-4d67-b242-792285a8d419')\"\n",
              "              title=\"Convert this dataframe to an interactive table.\"\n",
              "              style=\"display:none;\">\n",
              "        \n",
              "  <svg xmlns=\"http://www.w3.org/2000/svg\" height=\"24px\"viewBox=\"0 0 24 24\"\n",
              "       width=\"24px\">\n",
              "    <path d=\"M0 0h24v24H0V0z\" fill=\"none\"/>\n",
              "    <path d=\"M18.56 5.44l.94 2.06.94-2.06 2.06-.94-2.06-.94-.94-2.06-.94 2.06-2.06.94zm-11 1L8.5 8.5l.94-2.06 2.06-.94-2.06-.94L8.5 2.5l-.94 2.06-2.06.94zm10 10l.94 2.06.94-2.06 2.06-.94-2.06-.94-.94-2.06-.94 2.06-2.06.94z\"/><path d=\"M17.41 7.96l-1.37-1.37c-.4-.4-.92-.59-1.43-.59-.52 0-1.04.2-1.43.59L10.3 9.45l-7.72 7.72c-.78.78-.78 2.05 0 2.83L4 21.41c.39.39.9.59 1.41.59.51 0 1.02-.2 1.41-.59l7.78-7.78 2.81-2.81c.8-.78.8-2.07 0-2.86zM5.41 20L4 18.59l7.72-7.72 1.47 1.35L5.41 20z\"/>\n",
              "  </svg>\n",
              "      </button>\n",
              "      \n",
              "  <style>\n",
              "    .colab-df-container {\n",
              "      display:flex;\n",
              "      flex-wrap:wrap;\n",
              "      gap: 12px;\n",
              "    }\n",
              "\n",
              "    .colab-df-convert {\n",
              "      background-color: #E8F0FE;\n",
              "      border: none;\n",
              "      border-radius: 50%;\n",
              "      cursor: pointer;\n",
              "      display: none;\n",
              "      fill: #1967D2;\n",
              "      height: 32px;\n",
              "      padding: 0 0 0 0;\n",
              "      width: 32px;\n",
              "    }\n",
              "\n",
              "    .colab-df-convert:hover {\n",
              "      background-color: #E2EBFA;\n",
              "      box-shadow: 0px 1px 2px rgba(60, 64, 67, 0.3), 0px 1px 3px 1px rgba(60, 64, 67, 0.15);\n",
              "      fill: #174EA6;\n",
              "    }\n",
              "\n",
              "    [theme=dark] .colab-df-convert {\n",
              "      background-color: #3B4455;\n",
              "      fill: #D2E3FC;\n",
              "    }\n",
              "\n",
              "    [theme=dark] .colab-df-convert:hover {\n",
              "      background-color: #434B5C;\n",
              "      box-shadow: 0px 1px 3px 1px rgba(0, 0, 0, 0.15);\n",
              "      filter: drop-shadow(0px 1px 2px rgba(0, 0, 0, 0.3));\n",
              "      fill: #FFFFFF;\n",
              "    }\n",
              "  </style>\n",
              "\n",
              "      <script>\n",
              "        const buttonEl =\n",
              "          document.querySelector('#df-a61500d7-c1d2-4d67-b242-792285a8d419 button.colab-df-convert');\n",
              "        buttonEl.style.display =\n",
              "          google.colab.kernel.accessAllowed ? 'block' : 'none';\n",
              "\n",
              "        async function convertToInteractive(key) {\n",
              "          const element = document.querySelector('#df-a61500d7-c1d2-4d67-b242-792285a8d419');\n",
              "          const dataTable =\n",
              "            await google.colab.kernel.invokeFunction('convertToInteractive',\n",
              "                                                     [key], {});\n",
              "          if (!dataTable) return;\n",
              "\n",
              "          const docLinkHtml = 'Like what you see? Visit the ' +\n",
              "            '<a target=\"_blank\" href=https://colab.research.google.com/notebooks/data_table.ipynb>data table notebook</a>'\n",
              "            + ' to learn more about interactive tables.';\n",
              "          element.innerHTML = '';\n",
              "          dataTable['output_type'] = 'display_data';\n",
              "          await google.colab.output.renderOutput(dataTable, element);\n",
              "          const docLink = document.createElement('div');\n",
              "          docLink.innerHTML = docLinkHtml;\n",
              "          element.appendChild(docLink);\n",
              "        }\n",
              "      </script>\n",
              "    </div>\n",
              "  </div>\n",
              "  "
            ],
            "text/plain": [
              "   rank country_full country_abrv  total_points  previous_points  rank_change  \\\n",
              "0     1      Germany          GER           0.0               57            0   \n",
              "1     2        Italy          ITA           0.0               57            0   \n",
              "2     3  Switzerland          SUI           0.0               50            9   \n",
              "3     4       Sweden          SWE           0.0               55            0   \n",
              "4     5    Argentina          ARG           0.0               51            5   \n",
              "\n",
              "   cur_year_avg  cur_year_avg_weighted  last_year_avg  last_year_avg_weighted  \\\n",
              "0           0.0                    0.0            0.0                     0.0   \n",
              "1           0.0                    0.0            0.0                     0.0   \n",
              "2           0.0                    0.0            0.0                     0.0   \n",
              "3           0.0                    0.0            0.0                     0.0   \n",
              "4           0.0                    0.0            0.0                     0.0   \n",
              "\n",
              "   two_year_ago_avg  two_year_ago_weighted  three_year_ago_avg  \\\n",
              "0               0.0                    0.0                 0.0   \n",
              "1               0.0                    0.0                 0.0   \n",
              "2               0.0                    0.0                 0.0   \n",
              "3               0.0                    0.0                 0.0   \n",
              "4               0.0                    0.0                 0.0   \n",
              "\n",
              "   three_year_ago_weighted confederation   rank_date  \n",
              "0                      0.0          UEFA  1993-08-08  \n",
              "1                      0.0          UEFA  1993-08-08  \n",
              "2                      0.0          UEFA  1993-08-08  \n",
              "3                      0.0          UEFA  1993-08-08  \n",
              "4                      0.0      CONMEBOL  1993-08-08  "
            ]
          },
          "execution_count": 2,
          "metadata": {},
          "output_type": "execute_result"
        }
      ],
      "source": [
        "ranking = pd.read_csv('/content/fifa_ranking.csv')\n",
        "results = pd.read_csv('/content/results.csv')\n",
        "ranking.head(5)"
      ]
    },
    {
      "cell_type": "markdown",
      "metadata": {
        "id": "dQmB26R0Jzbi"
      },
      "source": [
        "###**Fifa_ranking Dataset**"
      ]
    },
    {
      "cell_type": "code",
      "execution_count": null,
      "metadata": {
        "colab": {
          "base_uri": "https://localhost:8080/",
          "height": 844
        },
        "id": "WgIIH2MdHHDI",
        "outputId": "e6d21cfe-c8a3-47bb-d2d5-7d9fdb9861d6"
      },
      "outputs": [
        {
          "data": {
            "text/html": [
              "\n",
              "  <div id=\"df-6c2489d5-4f26-40ce-9bf9-520627e8f039\">\n",
              "    <div class=\"colab-df-container\">\n",
              "      <div>\n",
              "<style scoped>\n",
              "    .dataframe tbody tr th:only-of-type {\n",
              "        vertical-align: middle;\n",
              "    }\n",
              "\n",
              "    .dataframe tbody tr th {\n",
              "        vertical-align: top;\n",
              "    }\n",
              "\n",
              "    .dataframe thead th {\n",
              "        text-align: right;\n",
              "    }\n",
              "</style>\n",
              "<table border=\"1\" class=\"dataframe\">\n",
              "  <thead>\n",
              "    <tr style=\"text-align: right;\">\n",
              "      <th></th>\n",
              "      <th>rank</th>\n",
              "      <th>country_full</th>\n",
              "      <th>country_abrv</th>\n",
              "      <th>total_points</th>\n",
              "      <th>previous_points</th>\n",
              "      <th>rank_change</th>\n",
              "      <th>cur_year_avg</th>\n",
              "      <th>cur_year_avg_weighted</th>\n",
              "      <th>last_year_avg</th>\n",
              "      <th>last_year_avg_weighted</th>\n",
              "      <th>two_year_ago_avg</th>\n",
              "      <th>two_year_ago_weighted</th>\n",
              "      <th>three_year_ago_avg</th>\n",
              "      <th>three_year_ago_weighted</th>\n",
              "      <th>confederation</th>\n",
              "      <th>rank_date</th>\n",
              "    </tr>\n",
              "  </thead>\n",
              "  <tbody>\n",
              "    <tr>\n",
              "      <th>0</th>\n",
              "      <td>1</td>\n",
              "      <td>Germany</td>\n",
              "      <td>GER</td>\n",
              "      <td>0.0</td>\n",
              "      <td>57</td>\n",
              "      <td>0</td>\n",
              "      <td>0.0</td>\n",
              "      <td>0.0</td>\n",
              "      <td>0.0</td>\n",
              "      <td>0.0</td>\n",
              "      <td>0.0</td>\n",
              "      <td>0.0</td>\n",
              "      <td>0.0</td>\n",
              "      <td>0.0</td>\n",
              "      <td>UEFA</td>\n",
              "      <td>1993-08-08</td>\n",
              "    </tr>\n",
              "    <tr>\n",
              "      <th>1</th>\n",
              "      <td>2</td>\n",
              "      <td>Italy</td>\n",
              "      <td>ITA</td>\n",
              "      <td>0.0</td>\n",
              "      <td>57</td>\n",
              "      <td>0</td>\n",
              "      <td>0.0</td>\n",
              "      <td>0.0</td>\n",
              "      <td>0.0</td>\n",
              "      <td>0.0</td>\n",
              "      <td>0.0</td>\n",
              "      <td>0.0</td>\n",
              "      <td>0.0</td>\n",
              "      <td>0.0</td>\n",
              "      <td>UEFA</td>\n",
              "      <td>1993-08-08</td>\n",
              "    </tr>\n",
              "    <tr>\n",
              "      <th>2</th>\n",
              "      <td>3</td>\n",
              "      <td>Switzerland</td>\n",
              "      <td>SUI</td>\n",
              "      <td>0.0</td>\n",
              "      <td>50</td>\n",
              "      <td>9</td>\n",
              "      <td>0.0</td>\n",
              "      <td>0.0</td>\n",
              "      <td>0.0</td>\n",
              "      <td>0.0</td>\n",
              "      <td>0.0</td>\n",
              "      <td>0.0</td>\n",
              "      <td>0.0</td>\n",
              "      <td>0.0</td>\n",
              "      <td>UEFA</td>\n",
              "      <td>1993-08-08</td>\n",
              "    </tr>\n",
              "    <tr>\n",
              "      <th>3</th>\n",
              "      <td>4</td>\n",
              "      <td>Sweden</td>\n",
              "      <td>SWE</td>\n",
              "      <td>0.0</td>\n",
              "      <td>55</td>\n",
              "      <td>0</td>\n",
              "      <td>0.0</td>\n",
              "      <td>0.0</td>\n",
              "      <td>0.0</td>\n",
              "      <td>0.0</td>\n",
              "      <td>0.0</td>\n",
              "      <td>0.0</td>\n",
              "      <td>0.0</td>\n",
              "      <td>0.0</td>\n",
              "      <td>UEFA</td>\n",
              "      <td>1993-08-08</td>\n",
              "    </tr>\n",
              "    <tr>\n",
              "      <th>4</th>\n",
              "      <td>5</td>\n",
              "      <td>Argentina</td>\n",
              "      <td>ARG</td>\n",
              "      <td>0.0</td>\n",
              "      <td>51</td>\n",
              "      <td>5</td>\n",
              "      <td>0.0</td>\n",
              "      <td>0.0</td>\n",
              "      <td>0.0</td>\n",
              "      <td>0.0</td>\n",
              "      <td>0.0</td>\n",
              "      <td>0.0</td>\n",
              "      <td>0.0</td>\n",
              "      <td>0.0</td>\n",
              "      <td>CONMEBOL</td>\n",
              "      <td>1993-08-08</td>\n",
              "    </tr>\n",
              "    <tr>\n",
              "      <th>5</th>\n",
              "      <td>6</td>\n",
              "      <td>Republic of Ireland</td>\n",
              "      <td>IRL</td>\n",
              "      <td>0.0</td>\n",
              "      <td>54</td>\n",
              "      <td>0</td>\n",
              "      <td>0.0</td>\n",
              "      <td>0.0</td>\n",
              "      <td>0.0</td>\n",
              "      <td>0.0</td>\n",
              "      <td>0.0</td>\n",
              "      <td>0.0</td>\n",
              "      <td>0.0</td>\n",
              "      <td>0.0</td>\n",
              "      <td>UEFA</td>\n",
              "      <td>1993-08-08</td>\n",
              "    </tr>\n",
              "    <tr>\n",
              "      <th>6</th>\n",
              "      <td>7</td>\n",
              "      <td>Russia</td>\n",
              "      <td>RUS</td>\n",
              "      <td>0.0</td>\n",
              "      <td>52</td>\n",
              "      <td>1</td>\n",
              "      <td>0.0</td>\n",
              "      <td>0.0</td>\n",
              "      <td>0.0</td>\n",
              "      <td>0.0</td>\n",
              "      <td>0.0</td>\n",
              "      <td>0.0</td>\n",
              "      <td>0.0</td>\n",
              "      <td>0.0</td>\n",
              "      <td>UEFA</td>\n",
              "      <td>1993-08-08</td>\n",
              "    </tr>\n",
              "    <tr>\n",
              "      <th>7</th>\n",
              "      <td>8</td>\n",
              "      <td>Brazil</td>\n",
              "      <td>BRA</td>\n",
              "      <td>0.0</td>\n",
              "      <td>55</td>\n",
              "      <td>-5</td>\n",
              "      <td>0.0</td>\n",
              "      <td>0.0</td>\n",
              "      <td>0.0</td>\n",
              "      <td>0.0</td>\n",
              "      <td>0.0</td>\n",
              "      <td>0.0</td>\n",
              "      <td>0.0</td>\n",
              "      <td>0.0</td>\n",
              "      <td>CONMEBOL</td>\n",
              "      <td>1993-08-08</td>\n",
              "    </tr>\n",
              "    <tr>\n",
              "      <th>8</th>\n",
              "      <td>9</td>\n",
              "      <td>Norway</td>\n",
              "      <td>NOR</td>\n",
              "      <td>0.0</td>\n",
              "      <td>49</td>\n",
              "      <td>5</td>\n",
              "      <td>0.0</td>\n",
              "      <td>0.0</td>\n",
              "      <td>0.0</td>\n",
              "      <td>0.0</td>\n",
              "      <td>0.0</td>\n",
              "      <td>0.0</td>\n",
              "      <td>0.0</td>\n",
              "      <td>0.0</td>\n",
              "      <td>UEFA</td>\n",
              "      <td>1993-08-08</td>\n",
              "    </tr>\n",
              "    <tr>\n",
              "      <th>9</th>\n",
              "      <td>10</td>\n",
              "      <td>Denmark</td>\n",
              "      <td>DEN</td>\n",
              "      <td>0.0</td>\n",
              "      <td>51</td>\n",
              "      <td>-1</td>\n",
              "      <td>0.0</td>\n",
              "      <td>0.0</td>\n",
              "      <td>0.0</td>\n",
              "      <td>0.0</td>\n",
              "      <td>0.0</td>\n",
              "      <td>0.0</td>\n",
              "      <td>0.0</td>\n",
              "      <td>0.0</td>\n",
              "      <td>UEFA</td>\n",
              "      <td>1993-08-08</td>\n",
              "    </tr>\n",
              "    <tr>\n",
              "      <th>10</th>\n",
              "      <td>11</td>\n",
              "      <td>England</td>\n",
              "      <td>ENG</td>\n",
              "      <td>0.0</td>\n",
              "      <td>55</td>\n",
              "      <td>-6</td>\n",
              "      <td>0.0</td>\n",
              "      <td>0.0</td>\n",
              "      <td>0.0</td>\n",
              "      <td>0.0</td>\n",
              "      <td>0.0</td>\n",
              "      <td>0.0</td>\n",
              "      <td>0.0</td>\n",
              "      <td>0.0</td>\n",
              "      <td>UEFA</td>\n",
              "      <td>1993-08-08</td>\n",
              "    </tr>\n",
              "    <tr>\n",
              "      <th>11</th>\n",
              "      <td>12</td>\n",
              "      <td>France</td>\n",
              "      <td>FRA</td>\n",
              "      <td>0.0</td>\n",
              "      <td>45</td>\n",
              "      <td>7</td>\n",
              "      <td>0.0</td>\n",
              "      <td>0.0</td>\n",
              "      <td>0.0</td>\n",
              "      <td>0.0</td>\n",
              "      <td>0.0</td>\n",
              "      <td>0.0</td>\n",
              "      <td>0.0</td>\n",
              "      <td>0.0</td>\n",
              "      <td>UEFA</td>\n",
              "      <td>1993-08-08</td>\n",
              "    </tr>\n",
              "    <tr>\n",
              "      <th>12</th>\n",
              "      <td>13</td>\n",
              "      <td>Spain</td>\n",
              "      <td>ESP</td>\n",
              "      <td>0.0</td>\n",
              "      <td>49</td>\n",
              "      <td>2</td>\n",
              "      <td>0.0</td>\n",
              "      <td>0.0</td>\n",
              "      <td>0.0</td>\n",
              "      <td>0.0</td>\n",
              "      <td>0.0</td>\n",
              "      <td>0.0</td>\n",
              "      <td>0.0</td>\n",
              "      <td>0.0</td>\n",
              "      <td>UEFA</td>\n",
              "      <td>1993-08-08</td>\n",
              "    </tr>\n",
              "    <tr>\n",
              "      <th>13</th>\n",
              "      <td>14</td>\n",
              "      <td>Mexico</td>\n",
              "      <td>MEX</td>\n",
              "      <td>0.0</td>\n",
              "      <td>42</td>\n",
              "      <td>11</td>\n",
              "      <td>0.0</td>\n",
              "      <td>0.0</td>\n",
              "      <td>0.0</td>\n",
              "      <td>0.0</td>\n",
              "      <td>0.0</td>\n",
              "      <td>0.0</td>\n",
              "      <td>0.0</td>\n",
              "      <td>0.0</td>\n",
              "      <td>CONCACAF</td>\n",
              "      <td>1993-08-08</td>\n",
              "    </tr>\n",
              "    <tr>\n",
              "      <th>14</th>\n",
              "      <td>15</td>\n",
              "      <td>RCS</td>\n",
              "      <td>TCH</td>\n",
              "      <td>0.0</td>\n",
              "      <td>47</td>\n",
              "      <td>3</td>\n",
              "      <td>0.0</td>\n",
              "      <td>0.0</td>\n",
              "      <td>0.0</td>\n",
              "      <td>0.0</td>\n",
              "      <td>0.0</td>\n",
              "      <td>0.0</td>\n",
              "      <td>0.0</td>\n",
              "      <td>0.0</td>\n",
              "      <td>UEFA</td>\n",
              "      <td>1993-08-08</td>\n",
              "    </tr>\n",
              "  </tbody>\n",
              "</table>\n",
              "</div>\n",
              "      <button class=\"colab-df-convert\" onclick=\"convertToInteractive('df-6c2489d5-4f26-40ce-9bf9-520627e8f039')\"\n",
              "              title=\"Convert this dataframe to an interactive table.\"\n",
              "              style=\"display:none;\">\n",
              "        \n",
              "  <svg xmlns=\"http://www.w3.org/2000/svg\" height=\"24px\"viewBox=\"0 0 24 24\"\n",
              "       width=\"24px\">\n",
              "    <path d=\"M0 0h24v24H0V0z\" fill=\"none\"/>\n",
              "    <path d=\"M18.56 5.44l.94 2.06.94-2.06 2.06-.94-2.06-.94-.94-2.06-.94 2.06-2.06.94zm-11 1L8.5 8.5l.94-2.06 2.06-.94-2.06-.94L8.5 2.5l-.94 2.06-2.06.94zm10 10l.94 2.06.94-2.06 2.06-.94-2.06-.94-.94-2.06-.94 2.06-2.06.94z\"/><path d=\"M17.41 7.96l-1.37-1.37c-.4-.4-.92-.59-1.43-.59-.52 0-1.04.2-1.43.59L10.3 9.45l-7.72 7.72c-.78.78-.78 2.05 0 2.83L4 21.41c.39.39.9.59 1.41.59.51 0 1.02-.2 1.41-.59l7.78-7.78 2.81-2.81c.8-.78.8-2.07 0-2.86zM5.41 20L4 18.59l7.72-7.72 1.47 1.35L5.41 20z\"/>\n",
              "  </svg>\n",
              "      </button>\n",
              "      \n",
              "  <style>\n",
              "    .colab-df-container {\n",
              "      display:flex;\n",
              "      flex-wrap:wrap;\n",
              "      gap: 12px;\n",
              "    }\n",
              "\n",
              "    .colab-df-convert {\n",
              "      background-color: #E8F0FE;\n",
              "      border: none;\n",
              "      border-radius: 50%;\n",
              "      cursor: pointer;\n",
              "      display: none;\n",
              "      fill: #1967D2;\n",
              "      height: 32px;\n",
              "      padding: 0 0 0 0;\n",
              "      width: 32px;\n",
              "    }\n",
              "\n",
              "    .colab-df-convert:hover {\n",
              "      background-color: #E2EBFA;\n",
              "      box-shadow: 0px 1px 2px rgba(60, 64, 67, 0.3), 0px 1px 3px 1px rgba(60, 64, 67, 0.15);\n",
              "      fill: #174EA6;\n",
              "    }\n",
              "\n",
              "    [theme=dark] .colab-df-convert {\n",
              "      background-color: #3B4455;\n",
              "      fill: #D2E3FC;\n",
              "    }\n",
              "\n",
              "    [theme=dark] .colab-df-convert:hover {\n",
              "      background-color: #434B5C;\n",
              "      box-shadow: 0px 1px 3px 1px rgba(0, 0, 0, 0.15);\n",
              "      filter: drop-shadow(0px 1px 2px rgba(0, 0, 0, 0.3));\n",
              "      fill: #FFFFFF;\n",
              "    }\n",
              "  </style>\n",
              "\n",
              "      <script>\n",
              "        const buttonEl =\n",
              "          document.querySelector('#df-6c2489d5-4f26-40ce-9bf9-520627e8f039 button.colab-df-convert');\n",
              "        buttonEl.style.display =\n",
              "          google.colab.kernel.accessAllowed ? 'block' : 'none';\n",
              "\n",
              "        async function convertToInteractive(key) {\n",
              "          const element = document.querySelector('#df-6c2489d5-4f26-40ce-9bf9-520627e8f039');\n",
              "          const dataTable =\n",
              "            await google.colab.kernel.invokeFunction('convertToInteractive',\n",
              "                                                     [key], {});\n",
              "          if (!dataTable) return;\n",
              "\n",
              "          const docLinkHtml = 'Like what you see? Visit the ' +\n",
              "            '<a target=\"_blank\" href=https://colab.research.google.com/notebooks/data_table.ipynb>data table notebook</a>'\n",
              "            + ' to learn more about interactive tables.';\n",
              "          element.innerHTML = '';\n",
              "          dataTable['output_type'] = 'display_data';\n",
              "          await google.colab.output.renderOutput(dataTable, element);\n",
              "          const docLink = document.createElement('div');\n",
              "          docLink.innerHTML = docLinkHtml;\n",
              "          element.appendChild(docLink);\n",
              "        }\n",
              "      </script>\n",
              "    </div>\n",
              "  </div>\n",
              "  "
            ],
            "text/plain": [
              "    rank         country_full country_abrv  total_points  previous_points  \\\n",
              "0      1              Germany          GER           0.0               57   \n",
              "1      2                Italy          ITA           0.0               57   \n",
              "2      3          Switzerland          SUI           0.0               50   \n",
              "3      4               Sweden          SWE           0.0               55   \n",
              "4      5            Argentina          ARG           0.0               51   \n",
              "5      6  Republic of Ireland          IRL           0.0               54   \n",
              "6      7               Russia          RUS           0.0               52   \n",
              "7      8               Brazil          BRA           0.0               55   \n",
              "8      9               Norway          NOR           0.0               49   \n",
              "9     10              Denmark          DEN           0.0               51   \n",
              "10    11              England          ENG           0.0               55   \n",
              "11    12               France          FRA           0.0               45   \n",
              "12    13                Spain          ESP           0.0               49   \n",
              "13    14               Mexico          MEX           0.0               42   \n",
              "14    15                  RCS          TCH           0.0               47   \n",
              "\n",
              "    rank_change  cur_year_avg  cur_year_avg_weighted  last_year_avg  \\\n",
              "0             0           0.0                    0.0            0.0   \n",
              "1             0           0.0                    0.0            0.0   \n",
              "2             9           0.0                    0.0            0.0   \n",
              "3             0           0.0                    0.0            0.0   \n",
              "4             5           0.0                    0.0            0.0   \n",
              "5             0           0.0                    0.0            0.0   \n",
              "6             1           0.0                    0.0            0.0   \n",
              "7            -5           0.0                    0.0            0.0   \n",
              "8             5           0.0                    0.0            0.0   \n",
              "9            -1           0.0                    0.0            0.0   \n",
              "10           -6           0.0                    0.0            0.0   \n",
              "11            7           0.0                    0.0            0.0   \n",
              "12            2           0.0                    0.0            0.0   \n",
              "13           11           0.0                    0.0            0.0   \n",
              "14            3           0.0                    0.0            0.0   \n",
              "\n",
              "    last_year_avg_weighted  two_year_ago_avg  two_year_ago_weighted  \\\n",
              "0                      0.0               0.0                    0.0   \n",
              "1                      0.0               0.0                    0.0   \n",
              "2                      0.0               0.0                    0.0   \n",
              "3                      0.0               0.0                    0.0   \n",
              "4                      0.0               0.0                    0.0   \n",
              "5                      0.0               0.0                    0.0   \n",
              "6                      0.0               0.0                    0.0   \n",
              "7                      0.0               0.0                    0.0   \n",
              "8                      0.0               0.0                    0.0   \n",
              "9                      0.0               0.0                    0.0   \n",
              "10                     0.0               0.0                    0.0   \n",
              "11                     0.0               0.0                    0.0   \n",
              "12                     0.0               0.0                    0.0   \n",
              "13                     0.0               0.0                    0.0   \n",
              "14                     0.0               0.0                    0.0   \n",
              "\n",
              "    three_year_ago_avg  three_year_ago_weighted confederation   rank_date  \n",
              "0                  0.0                      0.0          UEFA  1993-08-08  \n",
              "1                  0.0                      0.0          UEFA  1993-08-08  \n",
              "2                  0.0                      0.0          UEFA  1993-08-08  \n",
              "3                  0.0                      0.0          UEFA  1993-08-08  \n",
              "4                  0.0                      0.0      CONMEBOL  1993-08-08  \n",
              "5                  0.0                      0.0          UEFA  1993-08-08  \n",
              "6                  0.0                      0.0          UEFA  1993-08-08  \n",
              "7                  0.0                      0.0      CONMEBOL  1993-08-08  \n",
              "8                  0.0                      0.0          UEFA  1993-08-08  \n",
              "9                  0.0                      0.0          UEFA  1993-08-08  \n",
              "10                 0.0                      0.0          UEFA  1993-08-08  \n",
              "11                 0.0                      0.0          UEFA  1993-08-08  \n",
              "12                 0.0                      0.0          UEFA  1993-08-08  \n",
              "13                 0.0                      0.0      CONCACAF  1993-08-08  \n",
              "14                 0.0                      0.0          UEFA  1993-08-08  "
            ]
          },
          "execution_count": 3,
          "metadata": {},
          "output_type": "execute_result"
        }
      ],
      "source": [
        "# Preview the Head part of the data\n",
        "ranking.head(15)"
      ]
    },
    {
      "cell_type": "code",
      "execution_count": null,
      "metadata": {
        "colab": {
          "base_uri": "https://localhost:8080/",
          "height": 844
        },
        "id": "k-F878wFHUep",
        "outputId": "b3326a81-5296-47e1-a6b5-c4a4404102a7"
      },
      "outputs": [
        {
          "data": {
            "text/html": [
              "\n",
              "  <div id=\"df-1bafb9d0-27db-4a19-abf9-c4efadc4d5de\">\n",
              "    <div class=\"colab-df-container\">\n",
              "      <div>\n",
              "<style scoped>\n",
              "    .dataframe tbody tr th:only-of-type {\n",
              "        vertical-align: middle;\n",
              "    }\n",
              "\n",
              "    .dataframe tbody tr th {\n",
              "        vertical-align: top;\n",
              "    }\n",
              "\n",
              "    .dataframe thead th {\n",
              "        text-align: right;\n",
              "    }\n",
              "</style>\n",
              "<table border=\"1\" class=\"dataframe\">\n",
              "  <thead>\n",
              "    <tr style=\"text-align: right;\">\n",
              "      <th></th>\n",
              "      <th>rank</th>\n",
              "      <th>country_full</th>\n",
              "      <th>country_abrv</th>\n",
              "      <th>total_points</th>\n",
              "      <th>previous_points</th>\n",
              "      <th>rank_change</th>\n",
              "      <th>cur_year_avg</th>\n",
              "      <th>cur_year_avg_weighted</th>\n",
              "      <th>last_year_avg</th>\n",
              "      <th>last_year_avg_weighted</th>\n",
              "      <th>two_year_ago_avg</th>\n",
              "      <th>two_year_ago_weighted</th>\n",
              "      <th>three_year_ago_avg</th>\n",
              "      <th>three_year_ago_weighted</th>\n",
              "      <th>confederation</th>\n",
              "      <th>rank_date</th>\n",
              "    </tr>\n",
              "  </thead>\n",
              "  <tbody>\n",
              "    <tr>\n",
              "      <th>57778</th>\n",
              "      <td>197</td>\n",
              "      <td>Djibouti</td>\n",
              "      <td>DJI</td>\n",
              "      <td>31.88</td>\n",
              "      <td>27</td>\n",
              "      <td>1</td>\n",
              "      <td>0.0</td>\n",
              "      <td>0.0</td>\n",
              "      <td>63.75</td>\n",
              "      <td>31.88</td>\n",
              "      <td>0.00</td>\n",
              "      <td>0.00</td>\n",
              "      <td>0.00</td>\n",
              "      <td>0.00</td>\n",
              "      <td>CAF</td>\n",
              "      <td>2018-06-07</td>\n",
              "    </tr>\n",
              "    <tr>\n",
              "      <th>57779</th>\n",
              "      <td>197</td>\n",
              "      <td>Samoa</td>\n",
              "      <td>SAM</td>\n",
              "      <td>31.88</td>\n",
              "      <td>38</td>\n",
              "      <td>-6</td>\n",
              "      <td>0.0</td>\n",
              "      <td>0.0</td>\n",
              "      <td>0.00</td>\n",
              "      <td>0.00</td>\n",
              "      <td>106.25</td>\n",
              "      <td>31.88</td>\n",
              "      <td>0.00</td>\n",
              "      <td>0.00</td>\n",
              "      <td>OFC</td>\n",
              "      <td>2018-06-07</td>\n",
              "    </tr>\n",
              "    <tr>\n",
              "      <th>57780</th>\n",
              "      <td>199</td>\n",
              "      <td>US Virgin Islands</td>\n",
              "      <td>VIR</td>\n",
              "      <td>17.60</td>\n",
              "      <td>18</td>\n",
              "      <td>0</td>\n",
              "      <td>0.0</td>\n",
              "      <td>0.0</td>\n",
              "      <td>0.00</td>\n",
              "      <td>0.00</td>\n",
              "      <td>0.00</td>\n",
              "      <td>0.00</td>\n",
              "      <td>87.98</td>\n",
              "      <td>17.60</td>\n",
              "      <td>CONCACAF</td>\n",
              "      <td>2018-06-07</td>\n",
              "    </tr>\n",
              "    <tr>\n",
              "      <th>57781</th>\n",
              "      <td>200</td>\n",
              "      <td>Sri Lanka</td>\n",
              "      <td>SRI</td>\n",
              "      <td>16.76</td>\n",
              "      <td>17</td>\n",
              "      <td>0</td>\n",
              "      <td>0.0</td>\n",
              "      <td>0.0</td>\n",
              "      <td>8.50</td>\n",
              "      <td>4.25</td>\n",
              "      <td>25.50</td>\n",
              "      <td>7.65</td>\n",
              "      <td>24.29</td>\n",
              "      <td>4.86</td>\n",
              "      <td>AFC</td>\n",
              "      <td>2018-06-07</td>\n",
              "    </tr>\n",
              "    <tr>\n",
              "      <th>57782</th>\n",
              "      <td>201</td>\n",
              "      <td>Pakistan</td>\n",
              "      <td>PAK</td>\n",
              "      <td>10.17</td>\n",
              "      <td>10</td>\n",
              "      <td>2</td>\n",
              "      <td>0.0</td>\n",
              "      <td>0.0</td>\n",
              "      <td>0.00</td>\n",
              "      <td>0.00</td>\n",
              "      <td>0.00</td>\n",
              "      <td>0.00</td>\n",
              "      <td>50.83</td>\n",
              "      <td>10.17</td>\n",
              "      <td>AFC</td>\n",
              "      <td>2018-06-07</td>\n",
              "    </tr>\n",
              "    <tr>\n",
              "      <th>57783</th>\n",
              "      <td>202</td>\n",
              "      <td>Cayman Islands</td>\n",
              "      <td>CAY</td>\n",
              "      <td>8.50</td>\n",
              "      <td>9</td>\n",
              "      <td>2</td>\n",
              "      <td>0.0</td>\n",
              "      <td>0.0</td>\n",
              "      <td>0.00</td>\n",
              "      <td>0.00</td>\n",
              "      <td>0.00</td>\n",
              "      <td>0.00</td>\n",
              "      <td>42.50</td>\n",
              "      <td>8.50</td>\n",
              "      <td>CONCACAF</td>\n",
              "      <td>2018-06-07</td>\n",
              "    </tr>\n",
              "    <tr>\n",
              "      <th>57784</th>\n",
              "      <td>203</td>\n",
              "      <td>San Marino</td>\n",
              "      <td>SMR</td>\n",
              "      <td>7.92</td>\n",
              "      <td>8</td>\n",
              "      <td>2</td>\n",
              "      <td>0.0</td>\n",
              "      <td>0.0</td>\n",
              "      <td>0.00</td>\n",
              "      <td>0.00</td>\n",
              "      <td>0.00</td>\n",
              "      <td>0.00</td>\n",
              "      <td>39.60</td>\n",
              "      <td>7.92</td>\n",
              "      <td>UEFA</td>\n",
              "      <td>2018-06-07</td>\n",
              "    </tr>\n",
              "    <tr>\n",
              "      <th>57785</th>\n",
              "      <td>204</td>\n",
              "      <td>British Virgin Islands</td>\n",
              "      <td>VGB</td>\n",
              "      <td>4.25</td>\n",
              "      <td>4</td>\n",
              "      <td>2</td>\n",
              "      <td>0.0</td>\n",
              "      <td>0.0</td>\n",
              "      <td>0.00</td>\n",
              "      <td>0.00</td>\n",
              "      <td>0.00</td>\n",
              "      <td>0.00</td>\n",
              "      <td>21.25</td>\n",
              "      <td>4.25</td>\n",
              "      <td>CONCACAF</td>\n",
              "      <td>2018-06-07</td>\n",
              "    </tr>\n",
              "    <tr>\n",
              "      <th>57786</th>\n",
              "      <td>204</td>\n",
              "      <td>Montserrat</td>\n",
              "      <td>MSR</td>\n",
              "      <td>4.25</td>\n",
              "      <td>17</td>\n",
              "      <td>-4</td>\n",
              "      <td>0.0</td>\n",
              "      <td>0.0</td>\n",
              "      <td>0.00</td>\n",
              "      <td>0.00</td>\n",
              "      <td>0.00</td>\n",
              "      <td>0.00</td>\n",
              "      <td>21.25</td>\n",
              "      <td>4.25</td>\n",
              "      <td>CONCACAF</td>\n",
              "      <td>2018-06-07</td>\n",
              "    </tr>\n",
              "    <tr>\n",
              "      <th>57787</th>\n",
              "      <td>206</td>\n",
              "      <td>Turks and Caicos Islands</td>\n",
              "      <td>TCA</td>\n",
              "      <td>0.00</td>\n",
              "      <td>13</td>\n",
              "      <td>-4</td>\n",
              "      <td>0.0</td>\n",
              "      <td>0.0</td>\n",
              "      <td>0.00</td>\n",
              "      <td>0.00</td>\n",
              "      <td>0.00</td>\n",
              "      <td>0.00</td>\n",
              "      <td>0.00</td>\n",
              "      <td>0.00</td>\n",
              "      <td>CONCACAF</td>\n",
              "      <td>2018-06-07</td>\n",
              "    </tr>\n",
              "    <tr>\n",
              "      <th>57788</th>\n",
              "      <td>206</td>\n",
              "      <td>Anguilla</td>\n",
              "      <td>AIA</td>\n",
              "      <td>0.00</td>\n",
              "      <td>0</td>\n",
              "      <td>1</td>\n",
              "      <td>0.0</td>\n",
              "      <td>0.0</td>\n",
              "      <td>0.00</td>\n",
              "      <td>0.00</td>\n",
              "      <td>0.00</td>\n",
              "      <td>0.00</td>\n",
              "      <td>0.00</td>\n",
              "      <td>0.00</td>\n",
              "      <td>CONCACAF</td>\n",
              "      <td>2018-06-07</td>\n",
              "    </tr>\n",
              "    <tr>\n",
              "      <th>57789</th>\n",
              "      <td>206</td>\n",
              "      <td>Bahamas</td>\n",
              "      <td>BAH</td>\n",
              "      <td>0.00</td>\n",
              "      <td>0</td>\n",
              "      <td>1</td>\n",
              "      <td>0.0</td>\n",
              "      <td>0.0</td>\n",
              "      <td>0.00</td>\n",
              "      <td>0.00</td>\n",
              "      <td>0.00</td>\n",
              "      <td>0.00</td>\n",
              "      <td>0.00</td>\n",
              "      <td>0.00</td>\n",
              "      <td>CONCACAF</td>\n",
              "      <td>2018-06-07</td>\n",
              "    </tr>\n",
              "    <tr>\n",
              "      <th>57790</th>\n",
              "      <td>206</td>\n",
              "      <td>Eritrea</td>\n",
              "      <td>ERI</td>\n",
              "      <td>0.00</td>\n",
              "      <td>0</td>\n",
              "      <td>1</td>\n",
              "      <td>0.0</td>\n",
              "      <td>0.0</td>\n",
              "      <td>0.00</td>\n",
              "      <td>0.00</td>\n",
              "      <td>0.00</td>\n",
              "      <td>0.00</td>\n",
              "      <td>0.00</td>\n",
              "      <td>0.00</td>\n",
              "      <td>CAF</td>\n",
              "      <td>2018-06-07</td>\n",
              "    </tr>\n",
              "    <tr>\n",
              "      <th>57791</th>\n",
              "      <td>206</td>\n",
              "      <td>Somalia</td>\n",
              "      <td>SOM</td>\n",
              "      <td>0.00</td>\n",
              "      <td>0</td>\n",
              "      <td>1</td>\n",
              "      <td>0.0</td>\n",
              "      <td>0.0</td>\n",
              "      <td>0.00</td>\n",
              "      <td>0.00</td>\n",
              "      <td>0.00</td>\n",
              "      <td>0.00</td>\n",
              "      <td>0.00</td>\n",
              "      <td>0.00</td>\n",
              "      <td>CAF</td>\n",
              "      <td>2018-06-07</td>\n",
              "    </tr>\n",
              "    <tr>\n",
              "      <th>57792</th>\n",
              "      <td>206</td>\n",
              "      <td>Tonga</td>\n",
              "      <td>TGA</td>\n",
              "      <td>0.00</td>\n",
              "      <td>0</td>\n",
              "      <td>1</td>\n",
              "      <td>0.0</td>\n",
              "      <td>0.0</td>\n",
              "      <td>0.00</td>\n",
              "      <td>0.00</td>\n",
              "      <td>0.00</td>\n",
              "      <td>0.00</td>\n",
              "      <td>0.00</td>\n",
              "      <td>0.00</td>\n",
              "      <td>OFC</td>\n",
              "      <td>2018-06-07</td>\n",
              "    </tr>\n",
              "  </tbody>\n",
              "</table>\n",
              "</div>\n",
              "      <button class=\"colab-df-convert\" onclick=\"convertToInteractive('df-1bafb9d0-27db-4a19-abf9-c4efadc4d5de')\"\n",
              "              title=\"Convert this dataframe to an interactive table.\"\n",
              "              style=\"display:none;\">\n",
              "        \n",
              "  <svg xmlns=\"http://www.w3.org/2000/svg\" height=\"24px\"viewBox=\"0 0 24 24\"\n",
              "       width=\"24px\">\n",
              "    <path d=\"M0 0h24v24H0V0z\" fill=\"none\"/>\n",
              "    <path d=\"M18.56 5.44l.94 2.06.94-2.06 2.06-.94-2.06-.94-.94-2.06-.94 2.06-2.06.94zm-11 1L8.5 8.5l.94-2.06 2.06-.94-2.06-.94L8.5 2.5l-.94 2.06-2.06.94zm10 10l.94 2.06.94-2.06 2.06-.94-2.06-.94-.94-2.06-.94 2.06-2.06.94z\"/><path d=\"M17.41 7.96l-1.37-1.37c-.4-.4-.92-.59-1.43-.59-.52 0-1.04.2-1.43.59L10.3 9.45l-7.72 7.72c-.78.78-.78 2.05 0 2.83L4 21.41c.39.39.9.59 1.41.59.51 0 1.02-.2 1.41-.59l7.78-7.78 2.81-2.81c.8-.78.8-2.07 0-2.86zM5.41 20L4 18.59l7.72-7.72 1.47 1.35L5.41 20z\"/>\n",
              "  </svg>\n",
              "      </button>\n",
              "      \n",
              "  <style>\n",
              "    .colab-df-container {\n",
              "      display:flex;\n",
              "      flex-wrap:wrap;\n",
              "      gap: 12px;\n",
              "    }\n",
              "\n",
              "    .colab-df-convert {\n",
              "      background-color: #E8F0FE;\n",
              "      border: none;\n",
              "      border-radius: 50%;\n",
              "      cursor: pointer;\n",
              "      display: none;\n",
              "      fill: #1967D2;\n",
              "      height: 32px;\n",
              "      padding: 0 0 0 0;\n",
              "      width: 32px;\n",
              "    }\n",
              "\n",
              "    .colab-df-convert:hover {\n",
              "      background-color: #E2EBFA;\n",
              "      box-shadow: 0px 1px 2px rgba(60, 64, 67, 0.3), 0px 1px 3px 1px rgba(60, 64, 67, 0.15);\n",
              "      fill: #174EA6;\n",
              "    }\n",
              "\n",
              "    [theme=dark] .colab-df-convert {\n",
              "      background-color: #3B4455;\n",
              "      fill: #D2E3FC;\n",
              "    }\n",
              "\n",
              "    [theme=dark] .colab-df-convert:hover {\n",
              "      background-color: #434B5C;\n",
              "      box-shadow: 0px 1px 3px 1px rgba(0, 0, 0, 0.15);\n",
              "      filter: drop-shadow(0px 1px 2px rgba(0, 0, 0, 0.3));\n",
              "      fill: #FFFFFF;\n",
              "    }\n",
              "  </style>\n",
              "\n",
              "      <script>\n",
              "        const buttonEl =\n",
              "          document.querySelector('#df-1bafb9d0-27db-4a19-abf9-c4efadc4d5de button.colab-df-convert');\n",
              "        buttonEl.style.display =\n",
              "          google.colab.kernel.accessAllowed ? 'block' : 'none';\n",
              "\n",
              "        async function convertToInteractive(key) {\n",
              "          const element = document.querySelector('#df-1bafb9d0-27db-4a19-abf9-c4efadc4d5de');\n",
              "          const dataTable =\n",
              "            await google.colab.kernel.invokeFunction('convertToInteractive',\n",
              "                                                     [key], {});\n",
              "          if (!dataTable) return;\n",
              "\n",
              "          const docLinkHtml = 'Like what you see? Visit the ' +\n",
              "            '<a target=\"_blank\" href=https://colab.research.google.com/notebooks/data_table.ipynb>data table notebook</a>'\n",
              "            + ' to learn more about interactive tables.';\n",
              "          element.innerHTML = '';\n",
              "          dataTable['output_type'] = 'display_data';\n",
              "          await google.colab.output.renderOutput(dataTable, element);\n",
              "          const docLink = document.createElement('div');\n",
              "          docLink.innerHTML = docLinkHtml;\n",
              "          element.appendChild(docLink);\n",
              "        }\n",
              "      </script>\n",
              "    </div>\n",
              "  </div>\n",
              "  "
            ],
            "text/plain": [
              "       rank              country_full country_abrv  total_points  \\\n",
              "57778   197                  Djibouti          DJI         31.88   \n",
              "57779   197                     Samoa          SAM         31.88   \n",
              "57780   199         US Virgin Islands          VIR         17.60   \n",
              "57781   200                 Sri Lanka          SRI         16.76   \n",
              "57782   201                  Pakistan          PAK         10.17   \n",
              "57783   202            Cayman Islands          CAY          8.50   \n",
              "57784   203                San Marino          SMR          7.92   \n",
              "57785   204    British Virgin Islands          VGB          4.25   \n",
              "57786   204                Montserrat          MSR          4.25   \n",
              "57787   206  Turks and Caicos Islands          TCA          0.00   \n",
              "57788   206                  Anguilla          AIA          0.00   \n",
              "57789   206                   Bahamas          BAH          0.00   \n",
              "57790   206                   Eritrea          ERI          0.00   \n",
              "57791   206                   Somalia          SOM          0.00   \n",
              "57792   206                     Tonga          TGA          0.00   \n",
              "\n",
              "       previous_points  rank_change  cur_year_avg  cur_year_avg_weighted  \\\n",
              "57778               27            1           0.0                    0.0   \n",
              "57779               38           -6           0.0                    0.0   \n",
              "57780               18            0           0.0                    0.0   \n",
              "57781               17            0           0.0                    0.0   \n",
              "57782               10            2           0.0                    0.0   \n",
              "57783                9            2           0.0                    0.0   \n",
              "57784                8            2           0.0                    0.0   \n",
              "57785                4            2           0.0                    0.0   \n",
              "57786               17           -4           0.0                    0.0   \n",
              "57787               13           -4           0.0                    0.0   \n",
              "57788                0            1           0.0                    0.0   \n",
              "57789                0            1           0.0                    0.0   \n",
              "57790                0            1           0.0                    0.0   \n",
              "57791                0            1           0.0                    0.0   \n",
              "57792                0            1           0.0                    0.0   \n",
              "\n",
              "       last_year_avg  last_year_avg_weighted  two_year_ago_avg  \\\n",
              "57778          63.75                   31.88              0.00   \n",
              "57779           0.00                    0.00            106.25   \n",
              "57780           0.00                    0.00              0.00   \n",
              "57781           8.50                    4.25             25.50   \n",
              "57782           0.00                    0.00              0.00   \n",
              "57783           0.00                    0.00              0.00   \n",
              "57784           0.00                    0.00              0.00   \n",
              "57785           0.00                    0.00              0.00   \n",
              "57786           0.00                    0.00              0.00   \n",
              "57787           0.00                    0.00              0.00   \n",
              "57788           0.00                    0.00              0.00   \n",
              "57789           0.00                    0.00              0.00   \n",
              "57790           0.00                    0.00              0.00   \n",
              "57791           0.00                    0.00              0.00   \n",
              "57792           0.00                    0.00              0.00   \n",
              "\n",
              "       two_year_ago_weighted  three_year_ago_avg  three_year_ago_weighted  \\\n",
              "57778                   0.00                0.00                     0.00   \n",
              "57779                  31.88                0.00                     0.00   \n",
              "57780                   0.00               87.98                    17.60   \n",
              "57781                   7.65               24.29                     4.86   \n",
              "57782                   0.00               50.83                    10.17   \n",
              "57783                   0.00               42.50                     8.50   \n",
              "57784                   0.00               39.60                     7.92   \n",
              "57785                   0.00               21.25                     4.25   \n",
              "57786                   0.00               21.25                     4.25   \n",
              "57787                   0.00                0.00                     0.00   \n",
              "57788                   0.00                0.00                     0.00   \n",
              "57789                   0.00                0.00                     0.00   \n",
              "57790                   0.00                0.00                     0.00   \n",
              "57791                   0.00                0.00                     0.00   \n",
              "57792                   0.00                0.00                     0.00   \n",
              "\n",
              "      confederation   rank_date  \n",
              "57778           CAF  2018-06-07  \n",
              "57779           OFC  2018-06-07  \n",
              "57780      CONCACAF  2018-06-07  \n",
              "57781           AFC  2018-06-07  \n",
              "57782           AFC  2018-06-07  \n",
              "57783      CONCACAF  2018-06-07  \n",
              "57784          UEFA  2018-06-07  \n",
              "57785      CONCACAF  2018-06-07  \n",
              "57786      CONCACAF  2018-06-07  \n",
              "57787      CONCACAF  2018-06-07  \n",
              "57788      CONCACAF  2018-06-07  \n",
              "57789      CONCACAF  2018-06-07  \n",
              "57790           CAF  2018-06-07  \n",
              "57791           CAF  2018-06-07  \n",
              "57792           OFC  2018-06-07  "
            ]
          },
          "execution_count": 4,
          "metadata": {},
          "output_type": "execute_result"
        }
      ],
      "source": [
        "# Preview the tail part of the data\n",
        "ranking.tail(15)"
      ]
    },
    {
      "cell_type": "code",
      "execution_count": null,
      "metadata": {
        "colab": {
          "base_uri": "https://localhost:8080/"
        },
        "id": "1sYtMkPPKnmT",
        "outputId": "3adee9e8-74d1-453c-d4d6-371641170635"
      },
      "outputs": [
        {
          "data": {
            "text/plain": [
              "(57793, 16)"
            ]
          },
          "execution_count": 5,
          "metadata": {},
          "output_type": "execute_result"
        }
      ],
      "source": [
        "# Determine the number of records in our dataset\n",
        "ranking.shape"
      ]
    },
    {
      "cell_type": "code",
      "execution_count": null,
      "metadata": {
        "colab": {
          "base_uri": "https://localhost:8080/"
        },
        "id": "X38DYactKf1T",
        "outputId": "4e09d6c9-d26b-488c-9e4d-18c8b9cb9047"
      },
      "outputs": [
        {
          "data": {
            "text/plain": [
              "Index(['rank', 'country_full', 'country_abrv', 'total_points',\n",
              "       'previous_points', 'rank_change', 'cur_year_avg',\n",
              "       'cur_year_avg_weighted', 'last_year_avg', 'last_year_avg_weighted',\n",
              "       'two_year_ago_avg', 'two_year_ago_weighted', 'three_year_ago_avg',\n",
              "       'three_year_ago_weighted', 'confederation', 'rank_date'],\n",
              "      dtype='object')"
            ]
          },
          "execution_count": 6,
          "metadata": {},
          "output_type": "execute_result"
        }
      ],
      "source": [
        "# Lets get the names of the columns in the data\n",
        "ranking.columns"
      ]
    },
    {
      "cell_type": "code",
      "execution_count": null,
      "metadata": {
        "colab": {
          "base_uri": "https://localhost:8080/",
          "height": 364
        },
        "id": "PsDg9iIELWrS",
        "outputId": "16c8f865-89aa-40ae-f197-161926ef86cd"
      },
      "outputs": [
        {
          "data": {
            "text/html": [
              "\n",
              "  <div id=\"df-077d986b-7701-4fa2-802a-142e34ffe7d0\">\n",
              "    <div class=\"colab-df-container\">\n",
              "      <div>\n",
              "<style scoped>\n",
              "    .dataframe tbody tr th:only-of-type {\n",
              "        vertical-align: middle;\n",
              "    }\n",
              "\n",
              "    .dataframe tbody tr th {\n",
              "        vertical-align: top;\n",
              "    }\n",
              "\n",
              "    .dataframe thead th {\n",
              "        text-align: right;\n",
              "    }\n",
              "</style>\n",
              "<table border=\"1\" class=\"dataframe\">\n",
              "  <thead>\n",
              "    <tr style=\"text-align: right;\">\n",
              "      <th></th>\n",
              "      <th>rank</th>\n",
              "      <th>total_points</th>\n",
              "      <th>previous_points</th>\n",
              "      <th>rank_change</th>\n",
              "      <th>cur_year_avg</th>\n",
              "      <th>cur_year_avg_weighted</th>\n",
              "      <th>last_year_avg</th>\n",
              "      <th>last_year_avg_weighted</th>\n",
              "      <th>two_year_ago_avg</th>\n",
              "      <th>two_year_ago_weighted</th>\n",
              "      <th>three_year_ago_avg</th>\n",
              "      <th>three_year_ago_weighted</th>\n",
              "    </tr>\n",
              "  </thead>\n",
              "  <tbody>\n",
              "    <tr>\n",
              "      <th>count</th>\n",
              "      <td>57793.000000</td>\n",
              "      <td>57793.000000</td>\n",
              "      <td>57793.000000</td>\n",
              "      <td>57793.000000</td>\n",
              "      <td>57793.000000</td>\n",
              "      <td>57793.000000</td>\n",
              "      <td>57793.000000</td>\n",
              "      <td>57793.000000</td>\n",
              "      <td>57793.000000</td>\n",
              "      <td>57793.000000</td>\n",
              "      <td>57793.000000</td>\n",
              "      <td>57793.000000</td>\n",
              "    </tr>\n",
              "    <tr>\n",
              "      <th>mean</th>\n",
              "      <td>101.628086</td>\n",
              "      <td>122.068637</td>\n",
              "      <td>332.302926</td>\n",
              "      <td>-0.009897</td>\n",
              "      <td>61.798602</td>\n",
              "      <td>61.798602</td>\n",
              "      <td>61.004602</td>\n",
              "      <td>30.502377</td>\n",
              "      <td>59.777462</td>\n",
              "      <td>17.933277</td>\n",
              "      <td>59.173916</td>\n",
              "      <td>11.834811</td>\n",
              "    </tr>\n",
              "    <tr>\n",
              "      <th>std</th>\n",
              "      <td>58.618424</td>\n",
              "      <td>260.426863</td>\n",
              "      <td>302.872948</td>\n",
              "      <td>5.804309</td>\n",
              "      <td>138.014883</td>\n",
              "      <td>138.014883</td>\n",
              "      <td>137.688204</td>\n",
              "      <td>68.844143</td>\n",
              "      <td>136.296079</td>\n",
              "      <td>40.888849</td>\n",
              "      <td>135.533343</td>\n",
              "      <td>27.106675</td>\n",
              "    </tr>\n",
              "    <tr>\n",
              "      <th>min</th>\n",
              "      <td>1.000000</td>\n",
              "      <td>0.000000</td>\n",
              "      <td>0.000000</td>\n",
              "      <td>-72.000000</td>\n",
              "      <td>0.000000</td>\n",
              "      <td>0.000000</td>\n",
              "      <td>0.000000</td>\n",
              "      <td>0.000000</td>\n",
              "      <td>0.000000</td>\n",
              "      <td>0.000000</td>\n",
              "      <td>0.000000</td>\n",
              "      <td>0.000000</td>\n",
              "    </tr>\n",
              "    <tr>\n",
              "      <th>25%</th>\n",
              "      <td>51.000000</td>\n",
              "      <td>0.000000</td>\n",
              "      <td>56.000000</td>\n",
              "      <td>-2.000000</td>\n",
              "      <td>0.000000</td>\n",
              "      <td>0.000000</td>\n",
              "      <td>0.000000</td>\n",
              "      <td>0.000000</td>\n",
              "      <td>0.000000</td>\n",
              "      <td>0.000000</td>\n",
              "      <td>0.000000</td>\n",
              "      <td>0.000000</td>\n",
              "    </tr>\n",
              "    <tr>\n",
              "      <th>50%</th>\n",
              "      <td>101.000000</td>\n",
              "      <td>0.000000</td>\n",
              "      <td>272.000000</td>\n",
              "      <td>0.000000</td>\n",
              "      <td>0.000000</td>\n",
              "      <td>0.000000</td>\n",
              "      <td>0.000000</td>\n",
              "      <td>0.000000</td>\n",
              "      <td>0.000000</td>\n",
              "      <td>0.000000</td>\n",
              "      <td>0.000000</td>\n",
              "      <td>0.000000</td>\n",
              "    </tr>\n",
              "    <tr>\n",
              "      <th>75%</th>\n",
              "      <td>152.000000</td>\n",
              "      <td>92.790000</td>\n",
              "      <td>525.000000</td>\n",
              "      <td>1.000000</td>\n",
              "      <td>32.250000</td>\n",
              "      <td>32.250000</td>\n",
              "      <td>26.660000</td>\n",
              "      <td>13.330000</td>\n",
              "      <td>21.500000</td>\n",
              "      <td>6.450000</td>\n",
              "      <td>21.250000</td>\n",
              "      <td>4.250000</td>\n",
              "    </tr>\n",
              "    <tr>\n",
              "      <th>max</th>\n",
              "      <td>209.000000</td>\n",
              "      <td>1775.030000</td>\n",
              "      <td>1920.000000</td>\n",
              "      <td>92.000000</td>\n",
              "      <td>1158.660000</td>\n",
              "      <td>1158.660000</td>\n",
              "      <td>1169.570000</td>\n",
              "      <td>584.790000</td>\n",
              "      <td>1159.710000</td>\n",
              "      <td>347.910000</td>\n",
              "      <td>1200.770000</td>\n",
              "      <td>240.150000</td>\n",
              "    </tr>\n",
              "  </tbody>\n",
              "</table>\n",
              "</div>\n",
              "      <button class=\"colab-df-convert\" onclick=\"convertToInteractive('df-077d986b-7701-4fa2-802a-142e34ffe7d0')\"\n",
              "              title=\"Convert this dataframe to an interactive table.\"\n",
              "              style=\"display:none;\">\n",
              "        \n",
              "  <svg xmlns=\"http://www.w3.org/2000/svg\" height=\"24px\"viewBox=\"0 0 24 24\"\n",
              "       width=\"24px\">\n",
              "    <path d=\"M0 0h24v24H0V0z\" fill=\"none\"/>\n",
              "    <path d=\"M18.56 5.44l.94 2.06.94-2.06 2.06-.94-2.06-.94-.94-2.06-.94 2.06-2.06.94zm-11 1L8.5 8.5l.94-2.06 2.06-.94-2.06-.94L8.5 2.5l-.94 2.06-2.06.94zm10 10l.94 2.06.94-2.06 2.06-.94-2.06-.94-.94-2.06-.94 2.06-2.06.94z\"/><path d=\"M17.41 7.96l-1.37-1.37c-.4-.4-.92-.59-1.43-.59-.52 0-1.04.2-1.43.59L10.3 9.45l-7.72 7.72c-.78.78-.78 2.05 0 2.83L4 21.41c.39.39.9.59 1.41.59.51 0 1.02-.2 1.41-.59l7.78-7.78 2.81-2.81c.8-.78.8-2.07 0-2.86zM5.41 20L4 18.59l7.72-7.72 1.47 1.35L5.41 20z\"/>\n",
              "  </svg>\n",
              "      </button>\n",
              "      \n",
              "  <style>\n",
              "    .colab-df-container {\n",
              "      display:flex;\n",
              "      flex-wrap:wrap;\n",
              "      gap: 12px;\n",
              "    }\n",
              "\n",
              "    .colab-df-convert {\n",
              "      background-color: #E8F0FE;\n",
              "      border: none;\n",
              "      border-radius: 50%;\n",
              "      cursor: pointer;\n",
              "      display: none;\n",
              "      fill: #1967D2;\n",
              "      height: 32px;\n",
              "      padding: 0 0 0 0;\n",
              "      width: 32px;\n",
              "    }\n",
              "\n",
              "    .colab-df-convert:hover {\n",
              "      background-color: #E2EBFA;\n",
              "      box-shadow: 0px 1px 2px rgba(60, 64, 67, 0.3), 0px 1px 3px 1px rgba(60, 64, 67, 0.15);\n",
              "      fill: #174EA6;\n",
              "    }\n",
              "\n",
              "    [theme=dark] .colab-df-convert {\n",
              "      background-color: #3B4455;\n",
              "      fill: #D2E3FC;\n",
              "    }\n",
              "\n",
              "    [theme=dark] .colab-df-convert:hover {\n",
              "      background-color: #434B5C;\n",
              "      box-shadow: 0px 1px 3px 1px rgba(0, 0, 0, 0.15);\n",
              "      filter: drop-shadow(0px 1px 2px rgba(0, 0, 0, 0.3));\n",
              "      fill: #FFFFFF;\n",
              "    }\n",
              "  </style>\n",
              "\n",
              "      <script>\n",
              "        const buttonEl =\n",
              "          document.querySelector('#df-077d986b-7701-4fa2-802a-142e34ffe7d0 button.colab-df-convert');\n",
              "        buttonEl.style.display =\n",
              "          google.colab.kernel.accessAllowed ? 'block' : 'none';\n",
              "\n",
              "        async function convertToInteractive(key) {\n",
              "          const element = document.querySelector('#df-077d986b-7701-4fa2-802a-142e34ffe7d0');\n",
              "          const dataTable =\n",
              "            await google.colab.kernel.invokeFunction('convertToInteractive',\n",
              "                                                     [key], {});\n",
              "          if (!dataTable) return;\n",
              "\n",
              "          const docLinkHtml = 'Like what you see? Visit the ' +\n",
              "            '<a target=\"_blank\" href=https://colab.research.google.com/notebooks/data_table.ipynb>data table notebook</a>'\n",
              "            + ' to learn more about interactive tables.';\n",
              "          element.innerHTML = '';\n",
              "          dataTable['output_type'] = 'display_data';\n",
              "          await google.colab.output.renderOutput(dataTable, element);\n",
              "          const docLink = document.createElement('div');\n",
              "          docLink.innerHTML = docLinkHtml;\n",
              "          element.appendChild(docLink);\n",
              "        }\n",
              "      </script>\n",
              "    </div>\n",
              "  </div>\n",
              "  "
            ],
            "text/plain": [
              "               rank  total_points  previous_points   rank_change  \\\n",
              "count  57793.000000  57793.000000     57793.000000  57793.000000   \n",
              "mean     101.628086    122.068637       332.302926     -0.009897   \n",
              "std       58.618424    260.426863       302.872948      5.804309   \n",
              "min        1.000000      0.000000         0.000000    -72.000000   \n",
              "25%       51.000000      0.000000        56.000000     -2.000000   \n",
              "50%      101.000000      0.000000       272.000000      0.000000   \n",
              "75%      152.000000     92.790000       525.000000      1.000000   \n",
              "max      209.000000   1775.030000      1920.000000     92.000000   \n",
              "\n",
              "       cur_year_avg  cur_year_avg_weighted  last_year_avg  \\\n",
              "count  57793.000000           57793.000000   57793.000000   \n",
              "mean      61.798602              61.798602      61.004602   \n",
              "std      138.014883             138.014883     137.688204   \n",
              "min        0.000000               0.000000       0.000000   \n",
              "25%        0.000000               0.000000       0.000000   \n",
              "50%        0.000000               0.000000       0.000000   \n",
              "75%       32.250000              32.250000      26.660000   \n",
              "max     1158.660000            1158.660000    1169.570000   \n",
              "\n",
              "       last_year_avg_weighted  two_year_ago_avg  two_year_ago_weighted  \\\n",
              "count            57793.000000      57793.000000           57793.000000   \n",
              "mean                30.502377         59.777462              17.933277   \n",
              "std                 68.844143        136.296079              40.888849   \n",
              "min                  0.000000          0.000000               0.000000   \n",
              "25%                  0.000000          0.000000               0.000000   \n",
              "50%                  0.000000          0.000000               0.000000   \n",
              "75%                 13.330000         21.500000               6.450000   \n",
              "max                584.790000       1159.710000             347.910000   \n",
              "\n",
              "       three_year_ago_avg  three_year_ago_weighted  \n",
              "count        57793.000000             57793.000000  \n",
              "mean            59.173916                11.834811  \n",
              "std            135.533343                27.106675  \n",
              "min              0.000000                 0.000000  \n",
              "25%              0.000000                 0.000000  \n",
              "50%              0.000000                 0.000000  \n",
              "75%             21.250000                 4.250000  \n",
              "max           1200.770000               240.150000  "
            ]
          },
          "execution_count": 7,
          "metadata": {},
          "output_type": "execute_result"
        }
      ],
      "source": [
        "# Check the details of the Dataset(mode,median,mean)\n",
        "ranking.describe()"
      ]
    },
    {
      "cell_type": "markdown",
      "metadata": {
        "id": "4IBMTvO8KFGe"
      },
      "source": [
        "###**Results Dataset**"
      ]
    },
    {
      "cell_type": "code",
      "execution_count": null,
      "metadata": {
        "colab": {
          "base_uri": "https://localhost:8080/",
          "height": 363
        },
        "id": "RnJUeyHrHpqb",
        "outputId": "340c918e-dc50-49d3-8fa1-c1f814955087"
      },
      "outputs": [
        {
          "data": {
            "text/html": [
              "\n",
              "  <div id=\"df-9283c62c-7c60-480e-835b-0f1d2a1e923c\">\n",
              "    <div class=\"colab-df-container\">\n",
              "      <div>\n",
              "<style scoped>\n",
              "    .dataframe tbody tr th:only-of-type {\n",
              "        vertical-align: middle;\n",
              "    }\n",
              "\n",
              "    .dataframe tbody tr th {\n",
              "        vertical-align: top;\n",
              "    }\n",
              "\n",
              "    .dataframe thead th {\n",
              "        text-align: right;\n",
              "    }\n",
              "</style>\n",
              "<table border=\"1\" class=\"dataframe\">\n",
              "  <thead>\n",
              "    <tr style=\"text-align: right;\">\n",
              "      <th></th>\n",
              "      <th>date</th>\n",
              "      <th>home_team</th>\n",
              "      <th>away_team</th>\n",
              "      <th>home_score</th>\n",
              "      <th>away_score</th>\n",
              "      <th>tournament</th>\n",
              "      <th>city</th>\n",
              "      <th>country</th>\n",
              "      <th>neutral</th>\n",
              "    </tr>\n",
              "  </thead>\n",
              "  <tbody>\n",
              "    <tr>\n",
              "      <th>0</th>\n",
              "      <td>1872-11-30</td>\n",
              "      <td>Scotland</td>\n",
              "      <td>England</td>\n",
              "      <td>0</td>\n",
              "      <td>0</td>\n",
              "      <td>Friendly</td>\n",
              "      <td>Glasgow</td>\n",
              "      <td>Scotland</td>\n",
              "      <td>False</td>\n",
              "    </tr>\n",
              "    <tr>\n",
              "      <th>1</th>\n",
              "      <td>1873-03-08</td>\n",
              "      <td>England</td>\n",
              "      <td>Scotland</td>\n",
              "      <td>4</td>\n",
              "      <td>2</td>\n",
              "      <td>Friendly</td>\n",
              "      <td>London</td>\n",
              "      <td>England</td>\n",
              "      <td>False</td>\n",
              "    </tr>\n",
              "    <tr>\n",
              "      <th>2</th>\n",
              "      <td>1874-03-07</td>\n",
              "      <td>Scotland</td>\n",
              "      <td>England</td>\n",
              "      <td>2</td>\n",
              "      <td>1</td>\n",
              "      <td>Friendly</td>\n",
              "      <td>Glasgow</td>\n",
              "      <td>Scotland</td>\n",
              "      <td>False</td>\n",
              "    </tr>\n",
              "    <tr>\n",
              "      <th>3</th>\n",
              "      <td>1875-03-06</td>\n",
              "      <td>England</td>\n",
              "      <td>Scotland</td>\n",
              "      <td>2</td>\n",
              "      <td>2</td>\n",
              "      <td>Friendly</td>\n",
              "      <td>London</td>\n",
              "      <td>England</td>\n",
              "      <td>False</td>\n",
              "    </tr>\n",
              "    <tr>\n",
              "      <th>4</th>\n",
              "      <td>1876-03-04</td>\n",
              "      <td>Scotland</td>\n",
              "      <td>England</td>\n",
              "      <td>3</td>\n",
              "      <td>0</td>\n",
              "      <td>Friendly</td>\n",
              "      <td>Glasgow</td>\n",
              "      <td>Scotland</td>\n",
              "      <td>False</td>\n",
              "    </tr>\n",
              "    <tr>\n",
              "      <th>5</th>\n",
              "      <td>1876-03-25</td>\n",
              "      <td>Scotland</td>\n",
              "      <td>Wales</td>\n",
              "      <td>4</td>\n",
              "      <td>0</td>\n",
              "      <td>Friendly</td>\n",
              "      <td>Glasgow</td>\n",
              "      <td>Scotland</td>\n",
              "      <td>False</td>\n",
              "    </tr>\n",
              "    <tr>\n",
              "      <th>6</th>\n",
              "      <td>1877-03-03</td>\n",
              "      <td>England</td>\n",
              "      <td>Scotland</td>\n",
              "      <td>1</td>\n",
              "      <td>3</td>\n",
              "      <td>Friendly</td>\n",
              "      <td>London</td>\n",
              "      <td>England</td>\n",
              "      <td>False</td>\n",
              "    </tr>\n",
              "    <tr>\n",
              "      <th>7</th>\n",
              "      <td>1877-03-05</td>\n",
              "      <td>Wales</td>\n",
              "      <td>Scotland</td>\n",
              "      <td>0</td>\n",
              "      <td>2</td>\n",
              "      <td>Friendly</td>\n",
              "      <td>Wrexham</td>\n",
              "      <td>Wales</td>\n",
              "      <td>False</td>\n",
              "    </tr>\n",
              "    <tr>\n",
              "      <th>8</th>\n",
              "      <td>1878-03-02</td>\n",
              "      <td>Scotland</td>\n",
              "      <td>England</td>\n",
              "      <td>7</td>\n",
              "      <td>2</td>\n",
              "      <td>Friendly</td>\n",
              "      <td>Glasgow</td>\n",
              "      <td>Scotland</td>\n",
              "      <td>False</td>\n",
              "    </tr>\n",
              "    <tr>\n",
              "      <th>9</th>\n",
              "      <td>1878-03-23</td>\n",
              "      <td>Scotland</td>\n",
              "      <td>Wales</td>\n",
              "      <td>9</td>\n",
              "      <td>0</td>\n",
              "      <td>Friendly</td>\n",
              "      <td>Glasgow</td>\n",
              "      <td>Scotland</td>\n",
              "      <td>False</td>\n",
              "    </tr>\n",
              "  </tbody>\n",
              "</table>\n",
              "</div>\n",
              "      <button class=\"colab-df-convert\" onclick=\"convertToInteractive('df-9283c62c-7c60-480e-835b-0f1d2a1e923c')\"\n",
              "              title=\"Convert this dataframe to an interactive table.\"\n",
              "              style=\"display:none;\">\n",
              "        \n",
              "  <svg xmlns=\"http://www.w3.org/2000/svg\" height=\"24px\"viewBox=\"0 0 24 24\"\n",
              "       width=\"24px\">\n",
              "    <path d=\"M0 0h24v24H0V0z\" fill=\"none\"/>\n",
              "    <path d=\"M18.56 5.44l.94 2.06.94-2.06 2.06-.94-2.06-.94-.94-2.06-.94 2.06-2.06.94zm-11 1L8.5 8.5l.94-2.06 2.06-.94-2.06-.94L8.5 2.5l-.94 2.06-2.06.94zm10 10l.94 2.06.94-2.06 2.06-.94-2.06-.94-.94-2.06-.94 2.06-2.06.94z\"/><path d=\"M17.41 7.96l-1.37-1.37c-.4-.4-.92-.59-1.43-.59-.52 0-1.04.2-1.43.59L10.3 9.45l-7.72 7.72c-.78.78-.78 2.05 0 2.83L4 21.41c.39.39.9.59 1.41.59.51 0 1.02-.2 1.41-.59l7.78-7.78 2.81-2.81c.8-.78.8-2.07 0-2.86zM5.41 20L4 18.59l7.72-7.72 1.47 1.35L5.41 20z\"/>\n",
              "  </svg>\n",
              "      </button>\n",
              "      \n",
              "  <style>\n",
              "    .colab-df-container {\n",
              "      display:flex;\n",
              "      flex-wrap:wrap;\n",
              "      gap: 12px;\n",
              "    }\n",
              "\n",
              "    .colab-df-convert {\n",
              "      background-color: #E8F0FE;\n",
              "      border: none;\n",
              "      border-radius: 50%;\n",
              "      cursor: pointer;\n",
              "      display: none;\n",
              "      fill: #1967D2;\n",
              "      height: 32px;\n",
              "      padding: 0 0 0 0;\n",
              "      width: 32px;\n",
              "    }\n",
              "\n",
              "    .colab-df-convert:hover {\n",
              "      background-color: #E2EBFA;\n",
              "      box-shadow: 0px 1px 2px rgba(60, 64, 67, 0.3), 0px 1px 3px 1px rgba(60, 64, 67, 0.15);\n",
              "      fill: #174EA6;\n",
              "    }\n",
              "\n",
              "    [theme=dark] .colab-df-convert {\n",
              "      background-color: #3B4455;\n",
              "      fill: #D2E3FC;\n",
              "    }\n",
              "\n",
              "    [theme=dark] .colab-df-convert:hover {\n",
              "      background-color: #434B5C;\n",
              "      box-shadow: 0px 1px 3px 1px rgba(0, 0, 0, 0.15);\n",
              "      filter: drop-shadow(0px 1px 2px rgba(0, 0, 0, 0.3));\n",
              "      fill: #FFFFFF;\n",
              "    }\n",
              "  </style>\n",
              "\n",
              "      <script>\n",
              "        const buttonEl =\n",
              "          document.querySelector('#df-9283c62c-7c60-480e-835b-0f1d2a1e923c button.colab-df-convert');\n",
              "        buttonEl.style.display =\n",
              "          google.colab.kernel.accessAllowed ? 'block' : 'none';\n",
              "\n",
              "        async function convertToInteractive(key) {\n",
              "          const element = document.querySelector('#df-9283c62c-7c60-480e-835b-0f1d2a1e923c');\n",
              "          const dataTable =\n",
              "            await google.colab.kernel.invokeFunction('convertToInteractive',\n",
              "                                                     [key], {});\n",
              "          if (!dataTable) return;\n",
              "\n",
              "          const docLinkHtml = 'Like what you see? Visit the ' +\n",
              "            '<a target=\"_blank\" href=https://colab.research.google.com/notebooks/data_table.ipynb>data table notebook</a>'\n",
              "            + ' to learn more about interactive tables.';\n",
              "          element.innerHTML = '';\n",
              "          dataTable['output_type'] = 'display_data';\n",
              "          await google.colab.output.renderOutput(dataTable, element);\n",
              "          const docLink = document.createElement('div');\n",
              "          docLink.innerHTML = docLinkHtml;\n",
              "          element.appendChild(docLink);\n",
              "        }\n",
              "      </script>\n",
              "    </div>\n",
              "  </div>\n",
              "  "
            ],
            "text/plain": [
              "         date home_team away_team  home_score  away_score tournament     city  \\\n",
              "0  1872-11-30  Scotland   England           0           0   Friendly  Glasgow   \n",
              "1  1873-03-08   England  Scotland           4           2   Friendly   London   \n",
              "2  1874-03-07  Scotland   England           2           1   Friendly  Glasgow   \n",
              "3  1875-03-06   England  Scotland           2           2   Friendly   London   \n",
              "4  1876-03-04  Scotland   England           3           0   Friendly  Glasgow   \n",
              "5  1876-03-25  Scotland     Wales           4           0   Friendly  Glasgow   \n",
              "6  1877-03-03   England  Scotland           1           3   Friendly   London   \n",
              "7  1877-03-05     Wales  Scotland           0           2   Friendly  Wrexham   \n",
              "8  1878-03-02  Scotland   England           7           2   Friendly  Glasgow   \n",
              "9  1878-03-23  Scotland     Wales           9           0   Friendly  Glasgow   \n",
              "\n",
              "    country  neutral  \n",
              "0  Scotland    False  \n",
              "1   England    False  \n",
              "2  Scotland    False  \n",
              "3   England    False  \n",
              "4  Scotland    False  \n",
              "5  Scotland    False  \n",
              "6   England    False  \n",
              "7     Wales    False  \n",
              "8  Scotland    False  \n",
              "9  Scotland    False  "
            ]
          },
          "execution_count": 8,
          "metadata": {},
          "output_type": "execute_result"
        }
      ],
      "source": [
        "# Preview the Head part of the dataset\n",
        "results.head(10)"
      ]
    },
    {
      "cell_type": "code",
      "execution_count": null,
      "metadata": {
        "colab": {
          "base_uri": "https://localhost:8080/",
          "height": 363
        },
        "id": "oBCIjh2CHxRN",
        "outputId": "975dc6c8-7c08-4f8e-fb9d-881be1c31a8c"
      },
      "outputs": [
        {
          "data": {
            "text/html": [
              "\n",
              "  <div id=\"df-958abbe4-ffb1-4fea-9b4b-ec3a4f77a361\">\n",
              "    <div class=\"colab-df-container\">\n",
              "      <div>\n",
              "<style scoped>\n",
              "    .dataframe tbody tr th:only-of-type {\n",
              "        vertical-align: middle;\n",
              "    }\n",
              "\n",
              "    .dataframe tbody tr th {\n",
              "        vertical-align: top;\n",
              "    }\n",
              "\n",
              "    .dataframe thead th {\n",
              "        text-align: right;\n",
              "    }\n",
              "</style>\n",
              "<table border=\"1\" class=\"dataframe\">\n",
              "  <thead>\n",
              "    <tr style=\"text-align: right;\">\n",
              "      <th></th>\n",
              "      <th>date</th>\n",
              "      <th>home_team</th>\n",
              "      <th>away_team</th>\n",
              "      <th>home_score</th>\n",
              "      <th>away_score</th>\n",
              "      <th>tournament</th>\n",
              "      <th>city</th>\n",
              "      <th>country</th>\n",
              "      <th>neutral</th>\n",
              "    </tr>\n",
              "  </thead>\n",
              "  <tbody>\n",
              "    <tr>\n",
              "      <th>40829</th>\n",
              "      <td>2019-07-16</td>\n",
              "      <td>India</td>\n",
              "      <td>Syria</td>\n",
              "      <td>1</td>\n",
              "      <td>1</td>\n",
              "      <td>Intercontinental Cup</td>\n",
              "      <td>Ahmedabad</td>\n",
              "      <td>India</td>\n",
              "      <td>False</td>\n",
              "    </tr>\n",
              "    <tr>\n",
              "      <th>40830</th>\n",
              "      <td>2019-07-17</td>\n",
              "      <td>Tunisia</td>\n",
              "      <td>Nigeria</td>\n",
              "      <td>0</td>\n",
              "      <td>1</td>\n",
              "      <td>African Cup of Nations</td>\n",
              "      <td>Cairo</td>\n",
              "      <td>Egypt</td>\n",
              "      <td>True</td>\n",
              "    </tr>\n",
              "    <tr>\n",
              "      <th>40831</th>\n",
              "      <td>2019-07-18</td>\n",
              "      <td>Papua New Guinea</td>\n",
              "      <td>Tonga</td>\n",
              "      <td>8</td>\n",
              "      <td>0</td>\n",
              "      <td>Pacific Games</td>\n",
              "      <td>Apia</td>\n",
              "      <td>Samoa</td>\n",
              "      <td>True</td>\n",
              "    </tr>\n",
              "    <tr>\n",
              "      <th>40832</th>\n",
              "      <td>2019-07-18</td>\n",
              "      <td>Samoa</td>\n",
              "      <td>Vanuatu</td>\n",
              "      <td>0</td>\n",
              "      <td>11</td>\n",
              "      <td>Pacific Games</td>\n",
              "      <td>Apia</td>\n",
              "      <td>Samoa</td>\n",
              "      <td>False</td>\n",
              "    </tr>\n",
              "    <tr>\n",
              "      <th>40833</th>\n",
              "      <td>2019-07-18</td>\n",
              "      <td>New Caledonia</td>\n",
              "      <td>Tuvalu</td>\n",
              "      <td>11</td>\n",
              "      <td>0</td>\n",
              "      <td>Pacific Games</td>\n",
              "      <td>Apia</td>\n",
              "      <td>Samoa</td>\n",
              "      <td>True</td>\n",
              "    </tr>\n",
              "    <tr>\n",
              "      <th>40834</th>\n",
              "      <td>2019-07-18</td>\n",
              "      <td>American Samoa</td>\n",
              "      <td>Tahiti</td>\n",
              "      <td>8</td>\n",
              "      <td>1</td>\n",
              "      <td>Pacific Games</td>\n",
              "      <td>Apia</td>\n",
              "      <td>Samoa</td>\n",
              "      <td>True</td>\n",
              "    </tr>\n",
              "    <tr>\n",
              "      <th>40835</th>\n",
              "      <td>2019-07-18</td>\n",
              "      <td>Fiji</td>\n",
              "      <td>Solomon Islands</td>\n",
              "      <td>4</td>\n",
              "      <td>4</td>\n",
              "      <td>Pacific Games</td>\n",
              "      <td>Apia</td>\n",
              "      <td>Samoa</td>\n",
              "      <td>True</td>\n",
              "    </tr>\n",
              "    <tr>\n",
              "      <th>40836</th>\n",
              "      <td>2019-07-19</td>\n",
              "      <td>Senegal</td>\n",
              "      <td>Algeria</td>\n",
              "      <td>0</td>\n",
              "      <td>1</td>\n",
              "      <td>African Cup of Nations</td>\n",
              "      <td>Cairo</td>\n",
              "      <td>Egypt</td>\n",
              "      <td>True</td>\n",
              "    </tr>\n",
              "    <tr>\n",
              "      <th>40837</th>\n",
              "      <td>2019-07-19</td>\n",
              "      <td>Tajikistan</td>\n",
              "      <td>North Korea</td>\n",
              "      <td>0</td>\n",
              "      <td>1</td>\n",
              "      <td>Intercontinental Cup</td>\n",
              "      <td>Ahmedabad</td>\n",
              "      <td>India</td>\n",
              "      <td>True</td>\n",
              "    </tr>\n",
              "    <tr>\n",
              "      <th>40838</th>\n",
              "      <td>2019-07-20</td>\n",
              "      <td>Papua New Guinea</td>\n",
              "      <td>Fiji</td>\n",
              "      <td>1</td>\n",
              "      <td>1</td>\n",
              "      <td>Pacific Games</td>\n",
              "      <td>Apia</td>\n",
              "      <td>Samoa</td>\n",
              "      <td>True</td>\n",
              "    </tr>\n",
              "  </tbody>\n",
              "</table>\n",
              "</div>\n",
              "      <button class=\"colab-df-convert\" onclick=\"convertToInteractive('df-958abbe4-ffb1-4fea-9b4b-ec3a4f77a361')\"\n",
              "              title=\"Convert this dataframe to an interactive table.\"\n",
              "              style=\"display:none;\">\n",
              "        \n",
              "  <svg xmlns=\"http://www.w3.org/2000/svg\" height=\"24px\"viewBox=\"0 0 24 24\"\n",
              "       width=\"24px\">\n",
              "    <path d=\"M0 0h24v24H0V0z\" fill=\"none\"/>\n",
              "    <path d=\"M18.56 5.44l.94 2.06.94-2.06 2.06-.94-2.06-.94-.94-2.06-.94 2.06-2.06.94zm-11 1L8.5 8.5l.94-2.06 2.06-.94-2.06-.94L8.5 2.5l-.94 2.06-2.06.94zm10 10l.94 2.06.94-2.06 2.06-.94-2.06-.94-.94-2.06-.94 2.06-2.06.94z\"/><path d=\"M17.41 7.96l-1.37-1.37c-.4-.4-.92-.59-1.43-.59-.52 0-1.04.2-1.43.59L10.3 9.45l-7.72 7.72c-.78.78-.78 2.05 0 2.83L4 21.41c.39.39.9.59 1.41.59.51 0 1.02-.2 1.41-.59l7.78-7.78 2.81-2.81c.8-.78.8-2.07 0-2.86zM5.41 20L4 18.59l7.72-7.72 1.47 1.35L5.41 20z\"/>\n",
              "  </svg>\n",
              "      </button>\n",
              "      \n",
              "  <style>\n",
              "    .colab-df-container {\n",
              "      display:flex;\n",
              "      flex-wrap:wrap;\n",
              "      gap: 12px;\n",
              "    }\n",
              "\n",
              "    .colab-df-convert {\n",
              "      background-color: #E8F0FE;\n",
              "      border: none;\n",
              "      border-radius: 50%;\n",
              "      cursor: pointer;\n",
              "      display: none;\n",
              "      fill: #1967D2;\n",
              "      height: 32px;\n",
              "      padding: 0 0 0 0;\n",
              "      width: 32px;\n",
              "    }\n",
              "\n",
              "    .colab-df-convert:hover {\n",
              "      background-color: #E2EBFA;\n",
              "      box-shadow: 0px 1px 2px rgba(60, 64, 67, 0.3), 0px 1px 3px 1px rgba(60, 64, 67, 0.15);\n",
              "      fill: #174EA6;\n",
              "    }\n",
              "\n",
              "    [theme=dark] .colab-df-convert {\n",
              "      background-color: #3B4455;\n",
              "      fill: #D2E3FC;\n",
              "    }\n",
              "\n",
              "    [theme=dark] .colab-df-convert:hover {\n",
              "      background-color: #434B5C;\n",
              "      box-shadow: 0px 1px 3px 1px rgba(0, 0, 0, 0.15);\n",
              "      filter: drop-shadow(0px 1px 2px rgba(0, 0, 0, 0.3));\n",
              "      fill: #FFFFFF;\n",
              "    }\n",
              "  </style>\n",
              "\n",
              "      <script>\n",
              "        const buttonEl =\n",
              "          document.querySelector('#df-958abbe4-ffb1-4fea-9b4b-ec3a4f77a361 button.colab-df-convert');\n",
              "        buttonEl.style.display =\n",
              "          google.colab.kernel.accessAllowed ? 'block' : 'none';\n",
              "\n",
              "        async function convertToInteractive(key) {\n",
              "          const element = document.querySelector('#df-958abbe4-ffb1-4fea-9b4b-ec3a4f77a361');\n",
              "          const dataTable =\n",
              "            await google.colab.kernel.invokeFunction('convertToInteractive',\n",
              "                                                     [key], {});\n",
              "          if (!dataTable) return;\n",
              "\n",
              "          const docLinkHtml = 'Like what you see? Visit the ' +\n",
              "            '<a target=\"_blank\" href=https://colab.research.google.com/notebooks/data_table.ipynb>data table notebook</a>'\n",
              "            + ' to learn more about interactive tables.';\n",
              "          element.innerHTML = '';\n",
              "          dataTable['output_type'] = 'display_data';\n",
              "          await google.colab.output.renderOutput(dataTable, element);\n",
              "          const docLink = document.createElement('div');\n",
              "          docLink.innerHTML = docLinkHtml;\n",
              "          element.appendChild(docLink);\n",
              "        }\n",
              "      </script>\n",
              "    </div>\n",
              "  </div>\n",
              "  "
            ],
            "text/plain": [
              "             date         home_team        away_team  home_score  away_score  \\\n",
              "40829  2019-07-16             India            Syria           1           1   \n",
              "40830  2019-07-17           Tunisia          Nigeria           0           1   \n",
              "40831  2019-07-18  Papua New Guinea            Tonga           8           0   \n",
              "40832  2019-07-18             Samoa          Vanuatu           0          11   \n",
              "40833  2019-07-18     New Caledonia           Tuvalu          11           0   \n",
              "40834  2019-07-18    American Samoa           Tahiti           8           1   \n",
              "40835  2019-07-18              Fiji  Solomon Islands           4           4   \n",
              "40836  2019-07-19           Senegal          Algeria           0           1   \n",
              "40837  2019-07-19        Tajikistan      North Korea           0           1   \n",
              "40838  2019-07-20  Papua New Guinea             Fiji           1           1   \n",
              "\n",
              "                   tournament       city country  neutral  \n",
              "40829    Intercontinental Cup  Ahmedabad   India    False  \n",
              "40830  African Cup of Nations      Cairo   Egypt     True  \n",
              "40831           Pacific Games       Apia   Samoa     True  \n",
              "40832           Pacific Games       Apia   Samoa    False  \n",
              "40833           Pacific Games       Apia   Samoa     True  \n",
              "40834           Pacific Games       Apia   Samoa     True  \n",
              "40835           Pacific Games       Apia   Samoa     True  \n",
              "40836  African Cup of Nations      Cairo   Egypt     True  \n",
              "40837    Intercontinental Cup  Ahmedabad   India     True  \n",
              "40838           Pacific Games       Apia   Samoa     True  "
            ]
          },
          "execution_count": 9,
          "metadata": {},
          "output_type": "execute_result"
        }
      ],
      "source": [
        "# Preview the tail part of the dataset\n",
        "results.tail(10)"
      ]
    },
    {
      "cell_type": "code",
      "execution_count": null,
      "metadata": {
        "colab": {
          "base_uri": "https://localhost:8080/"
        },
        "id": "iFvDnYUeL_sI",
        "outputId": "f31b077b-d6fe-4431-f8a4-06eaef502fb3"
      },
      "outputs": [
        {
          "data": {
            "text/plain": [
              "(40839, 9)"
            ]
          },
          "execution_count": 10,
          "metadata": {},
          "output_type": "execute_result"
        }
      ],
      "source": [
        "# Determine the number of records in our dataset\n",
        "results.shape"
      ]
    },
    {
      "cell_type": "code",
      "execution_count": null,
      "metadata": {
        "colab": {
          "base_uri": "https://localhost:8080/"
        },
        "id": "b43cH_4KMD7k",
        "outputId": "da4a2724-3b06-4473-dc45-fc0af61964c9"
      },
      "outputs": [
        {
          "data": {
            "text/plain": [
              "Index(['date', 'home_team', 'away_team', 'home_score', 'away_score',\n",
              "       'tournament', 'city', 'country', 'neutral'],\n",
              "      dtype='object')"
            ]
          },
          "execution_count": 11,
          "metadata": {},
          "output_type": "execute_result"
        }
      ],
      "source": [
        "# Lets get the names of the columns in the data\n",
        "results.columns"
      ]
    },
    {
      "cell_type": "code",
      "execution_count": null,
      "metadata": {
        "colab": {
          "base_uri": "https://localhost:8080/",
          "height": 300
        },
        "id": "FxscREFCU3Ck",
        "outputId": "722807ce-2a54-494e-cda3-18261ae100f6"
      },
      "outputs": [
        {
          "data": {
            "text/html": [
              "\n",
              "  <div id=\"df-c5444b3f-6025-4fee-b9a5-5d0a6d3fd33b\">\n",
              "    <div class=\"colab-df-container\">\n",
              "      <div>\n",
              "<style scoped>\n",
              "    .dataframe tbody tr th:only-of-type {\n",
              "        vertical-align: middle;\n",
              "    }\n",
              "\n",
              "    .dataframe tbody tr th {\n",
              "        vertical-align: top;\n",
              "    }\n",
              "\n",
              "    .dataframe thead th {\n",
              "        text-align: right;\n",
              "    }\n",
              "</style>\n",
              "<table border=\"1\" class=\"dataframe\">\n",
              "  <thead>\n",
              "    <tr style=\"text-align: right;\">\n",
              "      <th></th>\n",
              "      <th>home_score</th>\n",
              "      <th>away_score</th>\n",
              "    </tr>\n",
              "  </thead>\n",
              "  <tbody>\n",
              "    <tr>\n",
              "      <th>count</th>\n",
              "      <td>40839.000000</td>\n",
              "      <td>40839.000000</td>\n",
              "    </tr>\n",
              "    <tr>\n",
              "      <th>mean</th>\n",
              "      <td>1.745709</td>\n",
              "      <td>1.188105</td>\n",
              "    </tr>\n",
              "    <tr>\n",
              "      <th>std</th>\n",
              "      <td>1.749145</td>\n",
              "      <td>1.405120</td>\n",
              "    </tr>\n",
              "    <tr>\n",
              "      <th>min</th>\n",
              "      <td>0.000000</td>\n",
              "      <td>0.000000</td>\n",
              "    </tr>\n",
              "    <tr>\n",
              "      <th>25%</th>\n",
              "      <td>1.000000</td>\n",
              "      <td>0.000000</td>\n",
              "    </tr>\n",
              "    <tr>\n",
              "      <th>50%</th>\n",
              "      <td>1.000000</td>\n",
              "      <td>1.000000</td>\n",
              "    </tr>\n",
              "    <tr>\n",
              "      <th>75%</th>\n",
              "      <td>2.000000</td>\n",
              "      <td>2.000000</td>\n",
              "    </tr>\n",
              "    <tr>\n",
              "      <th>max</th>\n",
              "      <td>31.000000</td>\n",
              "      <td>21.000000</td>\n",
              "    </tr>\n",
              "  </tbody>\n",
              "</table>\n",
              "</div>\n",
              "      <button class=\"colab-df-convert\" onclick=\"convertToInteractive('df-c5444b3f-6025-4fee-b9a5-5d0a6d3fd33b')\"\n",
              "              title=\"Convert this dataframe to an interactive table.\"\n",
              "              style=\"display:none;\">\n",
              "        \n",
              "  <svg xmlns=\"http://www.w3.org/2000/svg\" height=\"24px\"viewBox=\"0 0 24 24\"\n",
              "       width=\"24px\">\n",
              "    <path d=\"M0 0h24v24H0V0z\" fill=\"none\"/>\n",
              "    <path d=\"M18.56 5.44l.94 2.06.94-2.06 2.06-.94-2.06-.94-.94-2.06-.94 2.06-2.06.94zm-11 1L8.5 8.5l.94-2.06 2.06-.94-2.06-.94L8.5 2.5l-.94 2.06-2.06.94zm10 10l.94 2.06.94-2.06 2.06-.94-2.06-.94-.94-2.06-.94 2.06-2.06.94z\"/><path d=\"M17.41 7.96l-1.37-1.37c-.4-.4-.92-.59-1.43-.59-.52 0-1.04.2-1.43.59L10.3 9.45l-7.72 7.72c-.78.78-.78 2.05 0 2.83L4 21.41c.39.39.9.59 1.41.59.51 0 1.02-.2 1.41-.59l7.78-7.78 2.81-2.81c.8-.78.8-2.07 0-2.86zM5.41 20L4 18.59l7.72-7.72 1.47 1.35L5.41 20z\"/>\n",
              "  </svg>\n",
              "      </button>\n",
              "      \n",
              "  <style>\n",
              "    .colab-df-container {\n",
              "      display:flex;\n",
              "      flex-wrap:wrap;\n",
              "      gap: 12px;\n",
              "    }\n",
              "\n",
              "    .colab-df-convert {\n",
              "      background-color: #E8F0FE;\n",
              "      border: none;\n",
              "      border-radius: 50%;\n",
              "      cursor: pointer;\n",
              "      display: none;\n",
              "      fill: #1967D2;\n",
              "      height: 32px;\n",
              "      padding: 0 0 0 0;\n",
              "      width: 32px;\n",
              "    }\n",
              "\n",
              "    .colab-df-convert:hover {\n",
              "      background-color: #E2EBFA;\n",
              "      box-shadow: 0px 1px 2px rgba(60, 64, 67, 0.3), 0px 1px 3px 1px rgba(60, 64, 67, 0.15);\n",
              "      fill: #174EA6;\n",
              "    }\n",
              "\n",
              "    [theme=dark] .colab-df-convert {\n",
              "      background-color: #3B4455;\n",
              "      fill: #D2E3FC;\n",
              "    }\n",
              "\n",
              "    [theme=dark] .colab-df-convert:hover {\n",
              "      background-color: #434B5C;\n",
              "      box-shadow: 0px 1px 3px 1px rgba(0, 0, 0, 0.15);\n",
              "      filter: drop-shadow(0px 1px 2px rgba(0, 0, 0, 0.3));\n",
              "      fill: #FFFFFF;\n",
              "    }\n",
              "  </style>\n",
              "\n",
              "      <script>\n",
              "        const buttonEl =\n",
              "          document.querySelector('#df-c5444b3f-6025-4fee-b9a5-5d0a6d3fd33b button.colab-df-convert');\n",
              "        buttonEl.style.display =\n",
              "          google.colab.kernel.accessAllowed ? 'block' : 'none';\n",
              "\n",
              "        async function convertToInteractive(key) {\n",
              "          const element = document.querySelector('#df-c5444b3f-6025-4fee-b9a5-5d0a6d3fd33b');\n",
              "          const dataTable =\n",
              "            await google.colab.kernel.invokeFunction('convertToInteractive',\n",
              "                                                     [key], {});\n",
              "          if (!dataTable) return;\n",
              "\n",
              "          const docLinkHtml = 'Like what you see? Visit the ' +\n",
              "            '<a target=\"_blank\" href=https://colab.research.google.com/notebooks/data_table.ipynb>data table notebook</a>'\n",
              "            + ' to learn more about interactive tables.';\n",
              "          element.innerHTML = '';\n",
              "          dataTable['output_type'] = 'display_data';\n",
              "          await google.colab.output.renderOutput(dataTable, element);\n",
              "          const docLink = document.createElement('div');\n",
              "          docLink.innerHTML = docLinkHtml;\n",
              "          element.appendChild(docLink);\n",
              "        }\n",
              "      </script>\n",
              "    </div>\n",
              "  </div>\n",
              "  "
            ],
            "text/plain": [
              "         home_score    away_score\n",
              "count  40839.000000  40839.000000\n",
              "mean       1.745709      1.188105\n",
              "std        1.749145      1.405120\n",
              "min        0.000000      0.000000\n",
              "25%        1.000000      0.000000\n",
              "50%        1.000000      1.000000\n",
              "75%        2.000000      2.000000\n",
              "max       31.000000     21.000000"
            ]
          },
          "execution_count": 12,
          "metadata": {},
          "output_type": "execute_result"
        }
      ],
      "source": [
        "# Check the details of the Dataset(mode,median,mean)\n",
        "results.describe()"
      ]
    },
    {
      "cell_type": "markdown",
      "metadata": {
        "id": "TlNyLBNzQp4d"
      },
      "source": [
        "# **External Data Source Validation**\n",
        "\n",
        "FIFA Men's World Ranking : https://en.wikipedia.org/wiki/FIFA_Men%27s_World_Ranking\n",
        "\n",
        "Current Fifa World Rankings: https://www.fifa.com/fifa-world-ranking/men?\n",
        "\n",
        "Elo rating system : https://en.wikipedia.org/wiki/Elo_rating_system"
      ]
    },
    {
      "cell_type": "markdown",
      "metadata": {
        "id": "d6oiFaPURDO8"
      },
      "source": [
        "# **Data Cleaning**\n"
      ]
    },
    {
      "cell_type": "markdown",
      "metadata": {
        "id": "PCsckPP2kV1U"
      },
      "source": [
        "####**Check for outliers and anomalies within the datasets.**"
      ]
    },
    {
      "cell_type": "code",
      "execution_count": null,
      "metadata": {
        "colab": {
          "base_uri": "https://localhost:8080/"
        },
        "id": "oXIBQKrZRE1a",
        "outputId": "8552e960-85e3-4772-8ff8-a961c0f45aeb"
      },
      "outputs": [
        {
          "data": {
            "text/plain": [
              "rank                       False\n",
              "country_full               False\n",
              "country_abrv               False\n",
              "total_points               False\n",
              "previous_points            False\n",
              "rank_change                False\n",
              "cur_year_avg               False\n",
              "cur_year_avg_weighted      False\n",
              "last_year_avg              False\n",
              "last_year_avg_weighted     False\n",
              "two_year_ago_avg           False\n",
              "two_year_ago_weighted      False\n",
              "three_year_ago_avg         False\n",
              "three_year_ago_weighted    False\n",
              "confederation              False\n",
              "rank_date                  False\n",
              "dtype: bool"
            ]
          },
          "execution_count": 13,
          "metadata": {},
          "output_type": "execute_result"
        }
      ],
      "source": [
        "# Check for null values in the fifa_ranking dataset\n",
        "ranking.isnull().any()"
      ]
    },
    {
      "cell_type": "code",
      "execution_count": null,
      "metadata": {
        "colab": {
          "base_uri": "https://localhost:8080/"
        },
        "id": "V3lGEx1DtWp2",
        "outputId": "57bdca33-8b82-473b-dcef-1c992f8a6bbb"
      },
      "outputs": [
        {
          "data": {
            "text/plain": [
              "date          False\n",
              "home_team     False\n",
              "away_team     False\n",
              "home_score    False\n",
              "away_score    False\n",
              "tournament    False\n",
              "city          False\n",
              "country       False\n",
              "neutral       False\n",
              "dtype: bool"
            ]
          },
          "execution_count": 14,
          "metadata": {},
          "output_type": "execute_result"
        }
      ],
      "source": [
        "# Check for null values in the results dataset\n",
        "results.isnull().any()"
      ]
    },
    {
      "cell_type": "code",
      "execution_count": null,
      "metadata": {
        "colab": {
          "base_uri": "https://localhost:8080/"
        },
        "id": "U9evnWPfMcnD",
        "outputId": "d3fe7bf8-43f8-4ca9-9ba8-a306cca60e14"
      },
      "outputs": [
        {
          "data": {
            "text/plain": [
              "37"
            ]
          },
          "execution_count": 15,
          "metadata": {},
          "output_type": "execute_result"
        }
      ],
      "source": [
        "# Check for duplicates in both datasets \n",
        "# Checking for duplicates in the fifa_rankings dataset\n",
        "ranking.duplicated().sum()"
      ]
    },
    {
      "cell_type": "code",
      "execution_count": null,
      "metadata": {
        "colab": {
          "base_uri": "https://localhost:8080/"
        },
        "id": "1ZpuTDkJM3M4",
        "outputId": "1c69cb75-50fc-49ca-c0cb-e25f9106d1e3"
      },
      "outputs": [
        {
          "data": {
            "text/plain": [
              "0"
            ]
          },
          "execution_count": 16,
          "metadata": {},
          "output_type": "execute_result"
        }
      ],
      "source": [
        "# Checking for duplicates in the results dataset\n",
        "results.duplicated().sum()"
      ]
    },
    {
      "cell_type": "code",
      "execution_count": null,
      "metadata": {
        "id": "8OTbbRGGNLL0"
      },
      "outputs": [],
      "source": [
        "# Dealing with the Duplicate Data\n",
        "# They are few entries that are duplicates so we can procceed to drop them\n",
        "ranking = ranking.drop_duplicates()"
      ]
    },
    {
      "cell_type": "code",
      "execution_count": null,
      "metadata": {
        "colab": {
          "base_uri": "https://localhost:8080/"
        },
        "id": "9Uxu9-A9iB2k",
        "outputId": "f5d40ce5-6f35-4f06-fc85-6d722084486e"
      },
      "outputs": [
        {
          "data": {
            "image/png": "[encoded data removed]",
            "text/plain": [
              "<Figure size 432x288 with 1 Axes>"
            ]
          },
          "metadata": {},
          "output_type": "display_data"
        },
        {
          "data": {
            "image/png": "[encoded data removed]",
            "text/plain": [
              "<Figure size 432x288 with 1 Axes>"
            ]
          },
          "metadata": {},
          "output_type": "display_data"
        },
        {
          "data": {
            "image/png": "[encoded data removed]",
            "text/plain": [
              "<Figure size 432x288 with 1 Axes>"
            ]
          },
          "metadata": {},
          "output_type": "display_data"
        },
        {
          "data": {
            "image/png": "[encoded data removed]",
            "text/plain": [
              "<Figure size 432x288 with 1 Axes>"
            ]
          },
          "metadata": {},
          "output_type": "display_data"
        },
        {
          "data": {
            "image/png": "[encoded data removed]",
            "text/plain": [
              "<Figure size 432x288 with 1 Axes>"
            ]
          },
          "metadata": {},
          "output_type": "display_data"
        },
        {
          "data": {
            "image/png": "[encoded data removed]",
            "text/plain": [
              "<Figure size 432x288 with 1 Axes>"
            ]
          },
          "metadata": {},
          "output_type": "display_data"
        },
        {
          "data": {
            "image/png": "[encoded data removed]",
            "text/plain": [
              "<Figure size 432x288 with 1 Axes>"
            ]
          },
          "metadata": {},
          "output_type": "display_data"
        },
        {
          "data": {
            "image/png": "[encoded data removed]",
            "text/plain": [
              "<Figure size 432x288 with 1 Axes>"
            ]
          },
          "metadata": {},
          "output_type": "display_data"
        },
        {
          "data": {
            "image/png": "[encoded data removed]",
            "text/plain": [
              "<Figure size 432x288 with 1 Axes>"
            ]
          },
          "metadata": {},
          "output_type": "display_data"
        },
        {
          "data": {
            "image/png": "[encoded data removed]",
            "text/plain": [
              "<Figure size 432x288 with 1 Axes>"
            ]
          },
          "metadata": {},
          "output_type": "display_data"
        },
        {
          "data": {
            "image/png": "[encoded data removed]",
            "text/plain": [
              "<Figure size 432x288 with 1 Axes>"
            ]
          },
          "metadata": {},
          "output_type": "display_data"
        },
        {
          "data": {
            "image/png": "[encoded data removed]",
            "text/plain": [
              "<Figure size 432x288 with 1 Axes>"
            ]
          },
          "metadata": {},
          "output_type": "display_data"
        }
      ],
      "source": [
        "# Lets plot boxplots and check for outliers for the fifa_rankings columns.\n",
        "newcol = (ranking[['rank','total_points','previous_points','rank_change','cur_year_avg','cur_year_avg_weighted','last_year_avg','last_year_avg_weighted','two_year_ago_avg','two_year_ago_weighted','three_year_ago_avg','three_year_ago_weighted']])\n",
        "\n",
        "for column in newcol:\n",
        "    plt.figure()\n",
        "    sns.boxplot(x=newcol[column])"
      ]
    },
    {
      "cell_type": "code",
      "execution_count": null,
      "metadata": {
        "colab": {
          "base_uri": "https://localhost:8080/"
        },
        "id": "JyaF0T_xLJwg",
        "outputId": "757da857-9291-4f25-882d-3cdca7666fb1"
      },
      "outputs": [
        {
          "data": {
            "image/png": "[encoded data removed]",
            "text/plain": [
              "<Figure size 432x288 with 1 Axes>"
            ]
          },
          "metadata": {},
          "output_type": "display_data"
        },
        {
          "data": {
            "image/png": "[encoded data removed]",
            "text/plain": [
              "<Figure size 432x288 with 1 Axes>"
            ]
          },
          "metadata": {},
          "output_type": "display_data"
        }
      ],
      "source": [
        "# Lets plot boxplots and check for outliers for the results columns.\n",
        "results_col=(results[['home_score','away_score']])\n",
        "\n",
        "for column in results_col:\n",
        "  plt.figure()\n",
        "  sns.boxplot(x=results_col[column])"
      ]
    },
    {
      "cell_type": "code",
      "execution_count": null,
      "metadata": {
        "colab": {
          "base_uri": "https://localhost:8080/"
        },
        "id": "m7cfkaCVMu8K",
        "outputId": "b1b8e489-3853-4f1e-cce9-aae9ebe9daa5"
      },
      "outputs": [
        {
          "data": {
            "text/html": [
              "\n",
              "  <div id=\"df-b66f1d8e-78a6-4e41-9ef5-96f04592b51d\">\n",
              "    <div class=\"colab-df-container\">\n",
              "      <div>\n",
              "<style scoped>\n",
              "    .dataframe tbody tr th:only-of-type {\n",
              "        vertical-align: middle;\n",
              "    }\n",
              "\n",
              "    .dataframe tbody tr th {\n",
              "        vertical-align: top;\n",
              "    }\n",
              "\n",
              "    .dataframe thead th {\n",
              "        text-align: right;\n",
              "    }\n",
              "</style>\n",
              "<table border=\"1\" class=\"dataframe\">\n",
              "  <thead>\n",
              "    <tr style=\"text-align: right;\">\n",
              "      <th></th>\n",
              "      <th>date</th>\n",
              "      <th>home_team</th>\n",
              "      <th>away_team</th>\n",
              "      <th>home_score</th>\n",
              "      <th>away_score</th>\n",
              "      <th>tournament</th>\n",
              "      <th>city</th>\n",
              "      <th>country</th>\n",
              "      <th>neutral</th>\n",
              "    </tr>\n",
              "  </thead>\n",
              "  <tbody>\n",
              "    <tr>\n",
              "      <th>17914</th>\n",
              "      <td>1993-08-07</td>\n",
              "      <td>Senegal</td>\n",
              "      <td>Zambia</td>\n",
              "      <td>0</td>\n",
              "      <td>0</td>\n",
              "      <td>FIFA World Cup qualification</td>\n",
              "      <td>Abidjan</td>\n",
              "      <td>Ivory Coast</td>\n",
              "      <td>True</td>\n",
              "    </tr>\n",
              "    <tr>\n",
              "      <th>17915</th>\n",
              "      <td>1993-08-08</td>\n",
              "      <td>Bolivia</td>\n",
              "      <td>Uruguay</td>\n",
              "      <td>3</td>\n",
              "      <td>1</td>\n",
              "      <td>FIFA World Cup qualification</td>\n",
              "      <td>La Paz</td>\n",
              "      <td>Bolivia</td>\n",
              "      <td>False</td>\n",
              "    </tr>\n",
              "    <tr>\n",
              "      <th>17916</th>\n",
              "      <td>1993-08-08</td>\n",
              "      <td>Brazil</td>\n",
              "      <td>Mexico</td>\n",
              "      <td>1</td>\n",
              "      <td>1</td>\n",
              "      <td>Friendly</td>\n",
              "      <td>Maceió</td>\n",
              "      <td>Brazil</td>\n",
              "      <td>False</td>\n",
              "    </tr>\n",
              "    <tr>\n",
              "      <th>17917</th>\n",
              "      <td>1993-08-08</td>\n",
              "      <td>Ecuador</td>\n",
              "      <td>Venezuela</td>\n",
              "      <td>5</td>\n",
              "      <td>0</td>\n",
              "      <td>FIFA World Cup qualification</td>\n",
              "      <td>Quito</td>\n",
              "      <td>Ecuador</td>\n",
              "      <td>False</td>\n",
              "    </tr>\n",
              "    <tr>\n",
              "      <th>17918</th>\n",
              "      <td>1993-08-08</td>\n",
              "      <td>Guinea</td>\n",
              "      <td>Sierra Leone</td>\n",
              "      <td>1</td>\n",
              "      <td>0</td>\n",
              "      <td>Friendly</td>\n",
              "      <td>Conakry</td>\n",
              "      <td>Guinea</td>\n",
              "      <td>False</td>\n",
              "    </tr>\n",
              "    <tr>\n",
              "      <th>...</th>\n",
              "      <td>...</td>\n",
              "      <td>...</td>\n",
              "      <td>...</td>\n",
              "      <td>...</td>\n",
              "      <td>...</td>\n",
              "      <td>...</td>\n",
              "      <td>...</td>\n",
              "      <td>...</td>\n",
              "      <td>...</td>\n",
              "    </tr>\n",
              "    <tr>\n",
              "      <th>39815</th>\n",
              "      <td>2018-06-06</td>\n",
              "      <td>Czech Republic</td>\n",
              "      <td>Nigeria</td>\n",
              "      <td>1</td>\n",
              "      <td>0</td>\n",
              "      <td>Friendly</td>\n",
              "      <td>Schwechat</td>\n",
              "      <td>Austria</td>\n",
              "      <td>True</td>\n",
              "    </tr>\n",
              "    <tr>\n",
              "      <th>39816</th>\n",
              "      <td>2018-06-06</td>\n",
              "      <td>Belgium</td>\n",
              "      <td>Egypt</td>\n",
              "      <td>3</td>\n",
              "      <td>0</td>\n",
              "      <td>Friendly</td>\n",
              "      <td>Brussels</td>\n",
              "      <td>Belgium</td>\n",
              "      <td>False</td>\n",
              "    </tr>\n",
              "    <tr>\n",
              "      <th>39817</th>\n",
              "      <td>2018-06-06</td>\n",
              "      <td>Belarus</td>\n",
              "      <td>Hungary</td>\n",
              "      <td>1</td>\n",
              "      <td>1</td>\n",
              "      <td>Friendly</td>\n",
              "      <td>Brest</td>\n",
              "      <td>Belarus</td>\n",
              "      <td>False</td>\n",
              "    </tr>\n",
              "    <tr>\n",
              "      <th>39818</th>\n",
              "      <td>2018-06-06</td>\n",
              "      <td>Zambia</td>\n",
              "      <td>Madagascar</td>\n",
              "      <td>1</td>\n",
              "      <td>0</td>\n",
              "      <td>COSAFA Cup</td>\n",
              "      <td>Polokwane</td>\n",
              "      <td>South Africa</td>\n",
              "      <td>True</td>\n",
              "    </tr>\n",
              "    <tr>\n",
              "      <th>39819</th>\n",
              "      <td>2018-06-06</td>\n",
              "      <td>Lesotho</td>\n",
              "      <td>Zimbabwe</td>\n",
              "      <td>0</td>\n",
              "      <td>0</td>\n",
              "      <td>COSAFA Cup</td>\n",
              "      <td>Polokwane</td>\n",
              "      <td>South Africa</td>\n",
              "      <td>True</td>\n",
              "    </tr>\n",
              "  </tbody>\n",
              "</table>\n",
              "<p>21906 rows × 9 columns</p>\n",
              "</div>\n",
              "      <button class=\"colab-df-convert\" onclick=\"convertToInteractive('df-b66f1d8e-78a6-4e41-9ef5-96f04592b51d')\"\n",
              "              title=\"Convert this dataframe to an interactive table.\"\n",
              "              style=\"display:none;\">\n",
              "        \n",
              "  <svg xmlns=\"http://www.w3.org/2000/svg\" height=\"24px\"viewBox=\"0 0 24 24\"\n",
              "       width=\"24px\">\n",
              "    <path d=\"M0 0h24v24H0V0z\" fill=\"none\"/>\n",
              "    <path d=\"M18.56 5.44l.94 2.06.94-2.06 2.06-.94-2.06-.94-.94-2.06-.94 2.06-2.06.94zm-11 1L8.5 8.5l.94-2.06 2.06-.94-2.06-.94L8.5 2.5l-.94 2.06-2.06.94zm10 10l.94 2.06.94-2.06 2.06-.94-2.06-.94-.94-2.06-.94 2.06-2.06.94z\"/><path d=\"M17.41 7.96l-1.37-1.37c-.4-.4-.92-.59-1.43-.59-.52 0-1.04.2-1.43.59L10.3 9.45l-7.72 7.72c-.78.78-.78 2.05 0 2.83L4 21.41c.39.39.9.59 1.41.59.51 0 1.02-.2 1.41-.59l7.78-7.78 2.81-2.81c.8-.78.8-2.07 0-2.86zM5.41 20L4 18.59l7.72-7.72 1.47 1.35L5.41 20z\"/>\n",
              "  </svg>\n",
              "      </button>\n",
              "      \n",
              "  <style>\n",
              "    .colab-df-container {\n",
              "      display:flex;\n",
              "      flex-wrap:wrap;\n",
              "      gap: 12px;\n",
              "    }\n",
              "\n",
              "    .colab-df-convert {\n",
              "      background-color: #E8F0FE;\n",
              "      border: none;\n",
              "      border-radius: 50%;\n",
              "      cursor: pointer;\n",
              "      display: none;\n",
              "      fill: #1967D2;\n",
              "      height: 32px;\n",
              "      padding: 0 0 0 0;\n",
              "      width: 32px;\n",
              "    }\n",
              "\n",
              "    .colab-df-convert:hover {\n",
              "      background-color: #E2EBFA;\n",
              "      box-shadow: 0px 1px 2px rgba(60, 64, 67, 0.3), 0px 1px 3px 1px rgba(60, 64, 67, 0.15);\n",
              "      fill: #174EA6;\n",
              "    }\n",
              "\n",
              "    [theme=dark] .colab-df-convert {\n",
              "      background-color: #3B4455;\n",
              "      fill: #D2E3FC;\n",
              "    }\n",
              "\n",
              "    [theme=dark] .colab-df-convert:hover {\n",
              "      background-color: #434B5C;\n",
              "      box-shadow: 0px 1px 3px 1px rgba(0, 0, 0, 0.15);\n",
              "      filter: drop-shadow(0px 1px 2px rgba(0, 0, 0, 0.3));\n",
              "      fill: #FFFFFF;\n",
              "    }\n",
              "  </style>\n",
              "\n",
              "      <script>\n",
              "        const buttonEl =\n",
              "          document.querySelector('#df-b66f1d8e-78a6-4e41-9ef5-96f04592b51d button.colab-df-convert');\n",
              "        buttonEl.style.display =\n",
              "          google.colab.kernel.accessAllowed ? 'block' : 'none';\n",
              "\n",
              "        async function convertToInteractive(key) {\n",
              "          const element = document.querySelector('#df-b66f1d8e-78a6-4e41-9ef5-96f04592b51d');\n",
              "          const dataTable =\n",
              "            await google.colab.kernel.invokeFunction('convertToInteractive',\n",
              "                                                     [key], {});\n",
              "          if (!dataTable) return;\n",
              "\n",
              "          const docLinkHtml = 'Like what you see? Visit the ' +\n",
              "            '<a target=\"_blank\" href=https://colab.research.google.com/notebooks/data_table.ipynb>data table notebook</a>'\n",
              "            + ' to learn more about interactive tables.';\n",
              "          element.innerHTML = '';\n",
              "          dataTable['output_type'] = 'display_data';\n",
              "          await google.colab.output.renderOutput(dataTable, element);\n",
              "          const docLink = document.createElement('div');\n",
              "          docLink.innerHTML = docLinkHtml;\n",
              "          element.appendChild(docLink);\n",
              "        }\n",
              "      </script>\n",
              "    </div>\n",
              "  </div>\n",
              "  "
            ],
            "text/plain": [
              "             date       home_team     away_team  home_score  away_score  \\\n",
              "17914  1993-08-07         Senegal        Zambia           0           0   \n",
              "17915  1993-08-08         Bolivia       Uruguay           3           1   \n",
              "17916  1993-08-08          Brazil        Mexico           1           1   \n",
              "17917  1993-08-08         Ecuador     Venezuela           5           0   \n",
              "17918  1993-08-08          Guinea  Sierra Leone           1           0   \n",
              "...           ...             ...           ...         ...         ...   \n",
              "39815  2018-06-06  Czech Republic       Nigeria           1           0   \n",
              "39816  2018-06-06         Belgium         Egypt           3           0   \n",
              "39817  2018-06-06         Belarus       Hungary           1           1   \n",
              "39818  2018-06-06          Zambia    Madagascar           1           0   \n",
              "39819  2018-06-06         Lesotho      Zimbabwe           0           0   \n",
              "\n",
              "                         tournament       city       country  neutral  \n",
              "17914  FIFA World Cup qualification    Abidjan   Ivory Coast     True  \n",
              "17915  FIFA World Cup qualification     La Paz       Bolivia    False  \n",
              "17916                      Friendly     Maceió        Brazil    False  \n",
              "17917  FIFA World Cup qualification      Quito       Ecuador    False  \n",
              "17918                      Friendly    Conakry        Guinea    False  \n",
              "...                             ...        ...           ...      ...  \n",
              "39815                      Friendly  Schwechat       Austria     True  \n",
              "39816                      Friendly   Brussels       Belgium    False  \n",
              "39817                      Friendly      Brest       Belarus    False  \n",
              "39818                    COSAFA Cup  Polokwane  South Africa     True  \n",
              "39819                    COSAFA Cup  Polokwane  South Africa     True  \n",
              "\n",
              "[21906 rows x 9 columns]"
            ]
          },
          "execution_count": 20,
          "metadata": {},
          "output_type": "execute_result"
        }
      ],
      "source": [
        "#dropping the years prior to 1993 and after 2018 to retain the same time period for both datasets\n",
        "tresults=results.loc[(results[\"date\"] > '1993-08-01') & (results[\"date\"]< '2018-06-07')]\n",
        "tresults"
      ]
    },
    {
      "cell_type": "code",
      "execution_count": null,
      "metadata": {
        "colab": {
          "base_uri": "https://localhost:8080/"
        },
        "id": "S--i1X2rM762",
        "outputId": "c4c78552-5fc5-49d0-edd0-00c4bdb65dba"
      },
      "outputs": [
        {
          "data": {
            "image/png": "[encoded data removed]",
            "text/plain": [
              "<Figure size 432x288 with 1 Axes>"
            ]
          },
          "metadata": {},
          "output_type": "display_data"
        },
        {
          "data": {
            "image/png": "[encoded data removed]",
            "text/plain": [
              "<Figure size 432x288 with 1 Axes>"
            ]
          },
          "metadata": {},
          "output_type": "display_data"
        }
      ],
      "source": [
        "#checking outliers after dropping the years before 1993 and after 2018\n",
        "nresults_col=(tresults[['home_score','away_score']])\n",
        "\n",
        "for column in nresults_col:\n",
        "  plt.figure()\n",
        "  sns.boxplot(x=nresults_col[column])"
      ]
    },
    {
      "cell_type": "markdown",
      "metadata": {
        "id": "tTjHmBL1ke7l"
      },
      "source": [
        "###**Data comparisons of both datasets**"
      ]
    },
    {
      "cell_type": "code",
      "execution_count": null,
      "metadata": {
        "colab": {
          "base_uri": "https://localhost:8080/"
        },
        "id": "w_DPP96juKNW",
        "outputId": "08281b6d-d498-4783-aaaa-411e82b7dd29"
      },
      "outputs": [
        {
          "name": "stdout",
          "output_type": "stream",
          "text": [
            "<class 'pandas.core.frame.DataFrame'>\n",
            "Int64Index: 57756 entries, 0 to 57792\n",
            "Data columns (total 16 columns):\n",
            " #   Column                   Non-Null Count  Dtype  \n",
            "---  ------                   --------------  -----  \n",
            " 0   rank                     57756 non-null  int64  \n",
            " 1   country_full             57756 non-null  object \n",
            " 2   country_abrv             57756 non-null  object \n",
            " 3   total_points             57756 non-null  float64\n",
            " 4   previous_points          57756 non-null  int64  \n",
            " 5   rank_change              57756 non-null  int64  \n",
            " 6   cur_year_avg             57756 non-null  float64\n",
            " 7   cur_year_avg_weighted    57756 non-null  float64\n",
            " 8   last_year_avg            57756 non-null  float64\n",
            " 9   last_year_avg_weighted   57756 non-null  float64\n",
            " 10  two_year_ago_avg         57756 non-null  float64\n",
            " 11  two_year_ago_weighted    57756 non-null  float64\n",
            " 12  three_year_ago_avg       57756 non-null  float64\n",
            " 13  three_year_ago_weighted  57756 non-null  float64\n",
            " 14  confederation            57756 non-null  object \n",
            " 15  rank_date                57756 non-null  object \n",
            "dtypes: float64(9), int64(3), object(4)\n",
            "memory usage: 7.5+ MB\n",
            "\n",
            "<class 'pandas.core.frame.DataFrame'>\n",
            "RangeIndex: 40839 entries, 0 to 40838\n",
            "Data columns (total 9 columns):\n",
            " #   Column      Non-Null Count  Dtype \n",
            "---  ------      --------------  ----- \n",
            " 0   date        40839 non-null  object\n",
            " 1   home_team   40839 non-null  object\n",
            " 2   away_team   40839 non-null  object\n",
            " 3   home_score  40839 non-null  int64 \n",
            " 4   away_score  40839 non-null  int64 \n",
            " 5   tournament  40839 non-null  object\n",
            " 6   city        40839 non-null  object\n",
            " 7   country     40839 non-null  object\n",
            " 8   neutral     40839 non-null  bool  \n",
            "dtypes: bool(1), int64(2), object(6)\n",
            "memory usage: 2.5+ MB\n"
          ]
        }
      ],
      "source": [
        "# Check whether each column has an appropriate datatype for the fifa_ranking dataset\n",
        "ranking.info()\n",
        "print('')\n",
        "results.info()"
      ]
    },
    {
      "cell_type": "markdown",
      "metadata": {
        "id": "DyUQa9aqDKLx"
      },
      "source": [
        "* In the Ranking dataset rank_date needs to be changed to be of type datetime"
      ]
    },
    {
      "cell_type": "code",
      "execution_count": null,
      "metadata": {
        "colab": {
          "base_uri": "https://localhost:8080/"
        },
        "id": "mCgho7-0mIUd",
        "outputId": "e05adec0-9c9b-4f06-b359-f6aa836d37c4"
      },
      "outputs": [
        {
          "name": "stdout",
          "output_type": "stream",
          "text": [
            "<class 'pandas.core.frame.DataFrame'>\n",
            "Int64Index: 57756 entries, 0 to 57792\n",
            "Data columns (total 16 columns):\n",
            " #   Column                   Non-Null Count  Dtype         \n",
            "---  ------                   --------------  -----         \n",
            " 0   rank                     57756 non-null  int64         \n",
            " 1   country_full             57756 non-null  object        \n",
            " 2   country_abrv             57756 non-null  object        \n",
            " 3   total_points             57756 non-null  float64       \n",
            " 4   previous_points          57756 non-null  int64         \n",
            " 5   rank_change              57756 non-null  int64         \n",
            " 6   cur_year_avg             57756 non-null  float64       \n",
            " 7   cur_year_avg_weighted    57756 non-null  float64       \n",
            " 8   last_year_avg            57756 non-null  float64       \n",
            " 9   last_year_avg_weighted   57756 non-null  float64       \n",
            " 10  two_year_ago_avg         57756 non-null  float64       \n",
            " 11  two_year_ago_weighted    57756 non-null  float64       \n",
            " 12  three_year_ago_avg       57756 non-null  float64       \n",
            " 13  three_year_ago_weighted  57756 non-null  float64       \n",
            " 14  confederation            57756 non-null  object        \n",
            " 15  rank_date                57756 non-null  datetime64[ns]\n",
            "dtypes: datetime64[ns](1), float64(9), int64(3), object(3)\n",
            "memory usage: 7.5+ MB\n"
          ]
        }
      ],
      "source": [
        "# Changing the Dtype of the rank_date column\n",
        "ranking[\"rank_date\"]= pd.to_datetime(ranking[\"rank_date\"])\n",
        "ranking.info()"
      ]
    },
    {
      "cell_type": "code",
      "execution_count": null,
      "metadata": {
        "colab": {
          "base_uri": "https://localhost:8080/"
        },
        "id": "0xJePaS4slcM",
        "outputId": "8b19732e-30b5-4eda-bc18-e4170e70e3ec"
      },
      "outputs": [
        {
          "name": "stdout",
          "output_type": "stream",
          "text": [
            "<class 'pandas.core.frame.DataFrame'>\n",
            "RangeIndex: 40839 entries, 0 to 40838\n",
            "Data columns (total 9 columns):\n",
            " #   Column      Non-Null Count  Dtype         \n",
            "---  ------      --------------  -----         \n",
            " 0   date        40839 non-null  datetime64[ns]\n",
            " 1   home_team   40839 non-null  object        \n",
            " 2   away_team   40839 non-null  object        \n",
            " 3   home_score  40839 non-null  int64         \n",
            " 4   away_score  40839 non-null  int64         \n",
            " 5   tournament  40839 non-null  object        \n",
            " 6   city        40839 non-null  object        \n",
            " 7   country     40839 non-null  object        \n",
            " 8   neutral     40839 non-null  bool          \n",
            "dtypes: bool(1), datetime64[ns](1), int64(2), object(5)\n",
            "memory usage: 2.5+ MB\n"
          ]
        }
      ],
      "source": [
        "# Changing the Dtype of the date column in the results dataset\n",
        "results[\"date\"]= pd.to_datetime(results[\"date\"])\n",
        "results.info()"
      ]
    },
    {
      "cell_type": "code",
      "execution_count": null,
      "metadata": {
        "colab": {
          "base_uri": "https://localhost:8080/"
        },
        "id": "SjVQsNR8w_pi",
        "outputId": "ee75e2e3-62fe-48e2-9656-ea78e687ede6"
      },
      "outputs": [
        {
          "data": {
            "text/plain": [
              "array(['Germany', 'Italy', 'Switzerland', 'Sweden', 'Argentina',\n",
              "       'Republic of Ireland', 'Russia', 'Brazil', 'Norway', 'Denmark',\n",
              "       'England', 'France', 'Spain', 'Mexico', 'RCS', 'Netherlands',\n",
              "       'Nigeria', 'Belgium', 'Colombia', 'Poland', 'Romania', 'Uruguay',\n",
              "       'Portugal', 'Cameroon', 'Zambia', 'Egypt', 'Wales', 'USA',\n",
              "       \"Côte d'Ivoire\", 'Scotland', 'Tunisia', 'Greece', 'Morocco',\n",
              "       'Algeria', 'Ecuador', 'Korea Republic', 'Bulgaria', 'Austria',\n",
              "       'Costa Rica', 'Northern Ireland', 'Honduras', 'Hungary', 'Japan',\n",
              "       'Saudi Arabia', 'China PR', 'Canada', 'Finland', 'Ghana', 'Chile',\n",
              "       'Zimbabwe'], dtype=object)"
            ]
          },
          "execution_count": 25,
          "metadata": {},
          "output_type": "execute_result"
        }
      ],
      "source": [
        "# Comparing common columns that are common\n",
        "ranking.country_full.unique()[:50]"
      ]
    },
    {
      "cell_type": "code",
      "execution_count": null,
      "metadata": {
        "colab": {
          "base_uri": "https://localhost:8080/"
        },
        "id": "mDDodraOxFDc",
        "outputId": "b43e550d-8a80-4e19-92c2-0a3f30134157"
      },
      "outputs": [
        {
          "data": {
            "text/plain": [
              "array(['Scotland', 'England', 'Wales', 'Republic of Ireland',\n",
              "       'United States', 'Uruguay', 'Austria', 'Hungary', 'Argentina',\n",
              "       'Belgium', 'France', 'Netherlands', 'Bohemia', 'Switzerland',\n",
              "       'Sweden', 'Germany', 'Italy', 'Chile', 'Norway', 'Finland',\n",
              "       'Luxembourg', 'Russia', 'Denmark', 'Spain', 'Japan', 'Brazil',\n",
              "       'Paraguay', 'China PR', 'Canada', 'Estonia', 'Guatemala',\n",
              "       'Czechoslovakia', 'Poland', 'Yugoslavia', 'New Zealand', 'Romania',\n",
              "       'Latvia', 'Portugal', 'Northern Ireland', 'Australia', 'Lithuania',\n",
              "       'Turkey', 'Mexico', 'Aruba', 'Soviet Union', 'Haiti',\n",
              "       'Philippines', 'Bulgaria', 'Jamaica', 'Kenya'], dtype=object)"
            ]
          },
          "execution_count": 26,
          "metadata": {},
          "output_type": "execute_result"
        }
      ],
      "source": [
        "# Comparing common columns that are common\n",
        "results.country.unique()[:50]"
      ]
    },
    {
      "cell_type": "markdown",
      "metadata": {
        "id": "ler-EKdJxwo9"
      },
      "source": [
        "* Fifa rankings will now change with each passing match as compared to the previous method of updating the rankings once every month on a particular date. \n",
        "* The points which will be deducted or added will partially be calculated by factoring in \n",
        "the strength of the two opponents."
      ]
    },
    {
      "cell_type": "code",
      "execution_count": null,
      "metadata": {
        "id": "79b-xpAIxGDl"
      },
      "outputs": [],
      "source": [
        "# Display the years of the fifa_rankings\n",
        "#ranking.rank_date.dt.year()\n"
      ]
    },
    {
      "cell_type": "markdown",
      "metadata": {
        "id": "h0T20Ls0zgnE"
      },
      "source": [
        "The rakings in Fifa have taken place between 1993 and 2018"
      ]
    },
    {
      "cell_type": "code",
      "execution_count": null,
      "metadata": {
        "colab": {
          "base_uri": "https://localhost:8080/"
        },
        "id": "vjRijkY_7Z02",
        "outputId": "bab27975-d54c-4f2e-8307-0aeccbda3719"
      },
      "outputs": [
        {
          "name": "stdout",
          "output_type": "stream",
          "text": [
            "Index(['rank', 'country_full', 'confederation', 'rank_date'], dtype='object')\n"
          ]
        }
      ],
      "source": [
        "# Drop unnecessary columns from the fifa_rakings dataset\n",
        "ranking = ranking.drop(['country_abrv', 'total_points',\n",
        "       'previous_points', 'rank_change', 'cur_year_avg',\n",
        "       'cur_year_avg_weighted', 'last_year_avg', 'last_year_avg_weighted',\n",
        "       'two_year_ago_avg', 'two_year_ago_weighted', 'three_year_ago_avg',\n",
        "       'three_year_ago_weighted',],axis=1)\n",
        "print(ranking.columns)"
      ]
    },
    {
      "cell_type": "code",
      "execution_count": null,
      "metadata": {
        "colab": {
          "base_uri": "https://localhost:8080/"
        },
        "id": "D0RKPCM82dUP",
        "outputId": "fcf83318-f564-48e3-f32b-9b0cd442d67d"
      },
      "outputs": [
        {
          "data": {
            "text/html": [
              "\n",
              "  <div id=\"df-37ca206d-eb2e-42a3-91a9-426974e2d6f3\">\n",
              "    <div class=\"colab-df-container\">\n",
              "      <div>\n",
              "<style scoped>\n",
              "    .dataframe tbody tr th:only-of-type {\n",
              "        vertical-align: middle;\n",
              "    }\n",
              "\n",
              "    .dataframe tbody tr th {\n",
              "        vertical-align: top;\n",
              "    }\n",
              "\n",
              "    .dataframe thead th {\n",
              "        text-align: right;\n",
              "    }\n",
              "</style>\n",
              "<table border=\"1\" class=\"dataframe\">\n",
              "  <thead>\n",
              "    <tr style=\"text-align: right;\">\n",
              "      <th></th>\n",
              "      <th>rank</th>\n",
              "      <th>country_full</th>\n",
              "      <th>confederation</th>\n",
              "      <th>rank_date</th>\n",
              "    </tr>\n",
              "  </thead>\n",
              "  <tbody>\n",
              "    <tr>\n",
              "      <th>0</th>\n",
              "      <td>1</td>\n",
              "      <td>Germany</td>\n",
              "      <td>UEFA</td>\n",
              "      <td>1993-08-08</td>\n",
              "    </tr>\n",
              "    <tr>\n",
              "      <th>1</th>\n",
              "      <td>2</td>\n",
              "      <td>Italy</td>\n",
              "      <td>UEFA</td>\n",
              "      <td>1993-08-08</td>\n",
              "    </tr>\n",
              "    <tr>\n",
              "      <th>2</th>\n",
              "      <td>3</td>\n",
              "      <td>Switzerland</td>\n",
              "      <td>UEFA</td>\n",
              "      <td>1993-08-08</td>\n",
              "    </tr>\n",
              "    <tr>\n",
              "      <th>3</th>\n",
              "      <td>4</td>\n",
              "      <td>Sweden</td>\n",
              "      <td>UEFA</td>\n",
              "      <td>1993-08-08</td>\n",
              "    </tr>\n",
              "    <tr>\n",
              "      <th>4</th>\n",
              "      <td>5</td>\n",
              "      <td>Argentina</td>\n",
              "      <td>CONMEBOL</td>\n",
              "      <td>1993-08-08</td>\n",
              "    </tr>\n",
              "  </tbody>\n",
              "</table>\n",
              "</div>\n",
              "      <button class=\"colab-df-convert\" onclick=\"convertToInteractive('df-37ca206d-eb2e-42a3-91a9-426974e2d6f3')\"\n",
              "              title=\"Convert this dataframe to an interactive table.\"\n",
              "              style=\"display:none;\">\n",
              "        \n",
              "  <svg xmlns=\"http://www.w3.org/2000/svg\" height=\"24px\"viewBox=\"0 0 24 24\"\n",
              "       width=\"24px\">\n",
              "    <path d=\"M0 0h24v24H0V0z\" fill=\"none\"/>\n",
              "    <path d=\"M18.56 5.44l.94 2.06.94-2.06 2.06-.94-2.06-.94-.94-2.06-.94 2.06-2.06.94zm-11 1L8.5 8.5l.94-2.06 2.06-.94-2.06-.94L8.5 2.5l-.94 2.06-2.06.94zm10 10l.94 2.06.94-2.06 2.06-.94-2.06-.94-.94-2.06-.94 2.06-2.06.94z\"/><path d=\"M17.41 7.96l-1.37-1.37c-.4-.4-.92-.59-1.43-.59-.52 0-1.04.2-1.43.59L10.3 9.45l-7.72 7.72c-.78.78-.78 2.05 0 2.83L4 21.41c.39.39.9.59 1.41.59.51 0 1.02-.2 1.41-.59l7.78-7.78 2.81-2.81c.8-.78.8-2.07 0-2.86zM5.41 20L4 18.59l7.72-7.72 1.47 1.35L5.41 20z\"/>\n",
              "  </svg>\n",
              "      </button>\n",
              "      \n",
              "  <style>\n",
              "    .colab-df-container {\n",
              "      display:flex;\n",
              "      flex-wrap:wrap;\n",
              "      gap: 12px;\n",
              "    }\n",
              "\n",
              "    .colab-df-convert {\n",
              "      background-color: #E8F0FE;\n",
              "      border: none;\n",
              "      border-radius: 50%;\n",
              "      cursor: pointer;\n",
              "      display: none;\n",
              "      fill: #1967D2;\n",
              "      height: 32px;\n",
              "      padding: 0 0 0 0;\n",
              "      width: 32px;\n",
              "    }\n",
              "\n",
              "    .colab-df-convert:hover {\n",
              "      background-color: #E2EBFA;\n",
              "      box-shadow: 0px 1px 2px rgba(60, 64, 67, 0.3), 0px 1px 3px 1px rgba(60, 64, 67, 0.15);\n",
              "      fill: #174EA6;\n",
              "    }\n",
              "\n",
              "    [theme=dark] .colab-df-convert {\n",
              "      background-color: #3B4455;\n",
              "      fill: #D2E3FC;\n",
              "    }\n",
              "\n",
              "    [theme=dark] .colab-df-convert:hover {\n",
              "      background-color: #434B5C;\n",
              "      box-shadow: 0px 1px 3px 1px rgba(0, 0, 0, 0.15);\n",
              "      filter: drop-shadow(0px 1px 2px rgba(0, 0, 0, 0.3));\n",
              "      fill: #FFFFFF;\n",
              "    }\n",
              "  </style>\n",
              "\n",
              "      <script>\n",
              "        const buttonEl =\n",
              "          document.querySelector('#df-37ca206d-eb2e-42a3-91a9-426974e2d6f3 button.colab-df-convert');\n",
              "        buttonEl.style.display =\n",
              "          google.colab.kernel.accessAllowed ? 'block' : 'none';\n",
              "\n",
              "        async function convertToInteractive(key) {\n",
              "          const element = document.querySelector('#df-37ca206d-eb2e-42a3-91a9-426974e2d6f3');\n",
              "          const dataTable =\n",
              "            await google.colab.kernel.invokeFunction('convertToInteractive',\n",
              "                                                     [key], {});\n",
              "          if (!dataTable) return;\n",
              "\n",
              "          const docLinkHtml = 'Like what you see? Visit the ' +\n",
              "            '<a target=\"_blank\" href=https://colab.research.google.com/notebooks/data_table.ipynb>data table notebook</a>'\n",
              "            + ' to learn more about interactive tables.';\n",
              "          element.innerHTML = '';\n",
              "          dataTable['output_type'] = 'display_data';\n",
              "          await google.colab.output.renderOutput(dataTable, element);\n",
              "          const docLink = document.createElement('div');\n",
              "          docLink.innerHTML = docLinkHtml;\n",
              "          element.appendChild(docLink);\n",
              "        }\n",
              "      </script>\n",
              "    </div>\n",
              "  </div>\n",
              "  "
            ],
            "text/plain": [
              "   rank country_full confederation  rank_date\n",
              "0     1      Germany          UEFA 1993-08-08\n",
              "1     2        Italy          UEFA 1993-08-08\n",
              "2     3  Switzerland          UEFA 1993-08-08\n",
              "3     4       Sweden          UEFA 1993-08-08\n",
              "4     5    Argentina      CONMEBOL 1993-08-08"
            ]
          },
          "execution_count": 29,
          "metadata": {},
          "output_type": "execute_result"
        }
      ],
      "source": [
        "# Preview fifa_ranking head data\n",
        "ranking.head()"
      ]
    },
    {
      "cell_type": "code",
      "execution_count": null,
      "metadata": {
        "colab": {
          "base_uri": "https://localhost:8080/"
        },
        "id": "FxeWr2FG24OV",
        "outputId": "ac79ef6e-b2c3-4eba-b0d3-6590f340f984"
      },
      "outputs": [
        {
          "data": {
            "text/html": [
              "\n",
              "  <div id=\"df-0a9710a8-8390-4ed9-ad8c-6f87b66b1274\">\n",
              "    <div class=\"colab-df-container\">\n",
              "      <div>\n",
              "<style scoped>\n",
              "    .dataframe tbody tr th:only-of-type {\n",
              "        vertical-align: middle;\n",
              "    }\n",
              "\n",
              "    .dataframe tbody tr th {\n",
              "        vertical-align: top;\n",
              "    }\n",
              "\n",
              "    .dataframe thead th {\n",
              "        text-align: right;\n",
              "    }\n",
              "</style>\n",
              "<table border=\"1\" class=\"dataframe\">\n",
              "  <thead>\n",
              "    <tr style=\"text-align: right;\">\n",
              "      <th></th>\n",
              "      <th>date</th>\n",
              "      <th>home_team</th>\n",
              "      <th>away_team</th>\n",
              "      <th>home_score</th>\n",
              "      <th>away_score</th>\n",
              "      <th>tournament</th>\n",
              "      <th>city</th>\n",
              "      <th>country</th>\n",
              "      <th>neutral</th>\n",
              "    </tr>\n",
              "  </thead>\n",
              "  <tbody>\n",
              "    <tr>\n",
              "      <th>0</th>\n",
              "      <td>1872-11-30</td>\n",
              "      <td>Scotland</td>\n",
              "      <td>England</td>\n",
              "      <td>0</td>\n",
              "      <td>0</td>\n",
              "      <td>Friendly</td>\n",
              "      <td>Glasgow</td>\n",
              "      <td>Scotland</td>\n",
              "      <td>False</td>\n",
              "    </tr>\n",
              "    <tr>\n",
              "      <th>1</th>\n",
              "      <td>1873-03-08</td>\n",
              "      <td>England</td>\n",
              "      <td>Scotland</td>\n",
              "      <td>4</td>\n",
              "      <td>2</td>\n",
              "      <td>Friendly</td>\n",
              "      <td>London</td>\n",
              "      <td>England</td>\n",
              "      <td>False</td>\n",
              "    </tr>\n",
              "    <tr>\n",
              "      <th>2</th>\n",
              "      <td>1874-03-07</td>\n",
              "      <td>Scotland</td>\n",
              "      <td>England</td>\n",
              "      <td>2</td>\n",
              "      <td>1</td>\n",
              "      <td>Friendly</td>\n",
              "      <td>Glasgow</td>\n",
              "      <td>Scotland</td>\n",
              "      <td>False</td>\n",
              "    </tr>\n",
              "    <tr>\n",
              "      <th>3</th>\n",
              "      <td>1875-03-06</td>\n",
              "      <td>England</td>\n",
              "      <td>Scotland</td>\n",
              "      <td>2</td>\n",
              "      <td>2</td>\n",
              "      <td>Friendly</td>\n",
              "      <td>London</td>\n",
              "      <td>England</td>\n",
              "      <td>False</td>\n",
              "    </tr>\n",
              "    <tr>\n",
              "      <th>4</th>\n",
              "      <td>1876-03-04</td>\n",
              "      <td>Scotland</td>\n",
              "      <td>England</td>\n",
              "      <td>3</td>\n",
              "      <td>0</td>\n",
              "      <td>Friendly</td>\n",
              "      <td>Glasgow</td>\n",
              "      <td>Scotland</td>\n",
              "      <td>False</td>\n",
              "    </tr>\n",
              "  </tbody>\n",
              "</table>\n",
              "</div>\n",
              "      <button class=\"colab-df-convert\" onclick=\"convertToInteractive('df-0a9710a8-8390-4ed9-ad8c-6f87b66b1274')\"\n",
              "              title=\"Convert this dataframe to an interactive table.\"\n",
              "              style=\"display:none;\">\n",
              "        \n",
              "  <svg xmlns=\"http://www.w3.org/2000/svg\" height=\"24px\"viewBox=\"0 0 24 24\"\n",
              "       width=\"24px\">\n",
              "    <path d=\"M0 0h24v24H0V0z\" fill=\"none\"/>\n",
              "    <path d=\"M18.56 5.44l.94 2.06.94-2.06 2.06-.94-2.06-.94-.94-2.06-.94 2.06-2.06.94zm-11 1L8.5 8.5l.94-2.06 2.06-.94-2.06-.94L8.5 2.5l-.94 2.06-2.06.94zm10 10l.94 2.06.94-2.06 2.06-.94-2.06-.94-.94-2.06-.94 2.06-2.06.94z\"/><path d=\"M17.41 7.96l-1.37-1.37c-.4-.4-.92-.59-1.43-.59-.52 0-1.04.2-1.43.59L10.3 9.45l-7.72 7.72c-.78.78-.78 2.05 0 2.83L4 21.41c.39.39.9.59 1.41.59.51 0 1.02-.2 1.41-.59l7.78-7.78 2.81-2.81c.8-.78.8-2.07 0-2.86zM5.41 20L4 18.59l7.72-7.72 1.47 1.35L5.41 20z\"/>\n",
              "  </svg>\n",
              "      </button>\n",
              "      \n",
              "  <style>\n",
              "    .colab-df-container {\n",
              "      display:flex;\n",
              "      flex-wrap:wrap;\n",
              "      gap: 12px;\n",
              "    }\n",
              "\n",
              "    .colab-df-convert {\n",
              "      background-color: #E8F0FE;\n",
              "      border: none;\n",
              "      border-radius: 50%;\n",
              "      cursor: pointer;\n",
              "      display: none;\n",
              "      fill: #1967D2;\n",
              "      height: 32px;\n",
              "      padding: 0 0 0 0;\n",
              "      width: 32px;\n",
              "    }\n",
              "\n",
              "    .colab-df-convert:hover {\n",
              "      background-color: #E2EBFA;\n",
              "      box-shadow: 0px 1px 2px rgba(60, 64, 67, 0.3), 0px 1px 3px 1px rgba(60, 64, 67, 0.15);\n",
              "      fill: #174EA6;\n",
              "    }\n",
              "\n",
              "    [theme=dark] .colab-df-convert {\n",
              "      background-color: #3B4455;\n",
              "      fill: #D2E3FC;\n",
              "    }\n",
              "\n",
              "    [theme=dark] .colab-df-convert:hover {\n",
              "      background-color: #434B5C;\n",
              "      box-shadow: 0px 1px 3px 1px rgba(0, 0, 0, 0.15);\n",
              "      filter: drop-shadow(0px 1px 2px rgba(0, 0, 0, 0.3));\n",
              "      fill: #FFFFFF;\n",
              "    }\n",
              "  </style>\n",
              "\n",
              "      <script>\n",
              "        const buttonEl =\n",
              "          document.querySelector('#df-0a9710a8-8390-4ed9-ad8c-6f87b66b1274 button.colab-df-convert');\n",
              "        buttonEl.style.display =\n",
              "          google.colab.kernel.accessAllowed ? 'block' : 'none';\n",
              "\n",
              "        async function convertToInteractive(key) {\n",
              "          const element = document.querySelector('#df-0a9710a8-8390-4ed9-ad8c-6f87b66b1274');\n",
              "          const dataTable =\n",
              "            await google.colab.kernel.invokeFunction('convertToInteractive',\n",
              "                                                     [key], {});\n",
              "          if (!dataTable) return;\n",
              "\n",
              "          const docLinkHtml = 'Like what you see? Visit the ' +\n",
              "            '<a target=\"_blank\" href=https://colab.research.google.com/notebooks/data_table.ipynb>data table notebook</a>'\n",
              "            + ' to learn more about interactive tables.';\n",
              "          element.innerHTML = '';\n",
              "          dataTable['output_type'] = 'display_data';\n",
              "          await google.colab.output.renderOutput(dataTable, element);\n",
              "          const docLink = document.createElement('div');\n",
              "          docLink.innerHTML = docLinkHtml;\n",
              "          element.appendChild(docLink);\n",
              "        }\n",
              "      </script>\n",
              "    </div>\n",
              "  </div>\n",
              "  "
            ],
            "text/plain": [
              "        date home_team away_team  home_score  away_score tournament     city  \\\n",
              "0 1872-11-30  Scotland   England           0           0   Friendly  Glasgow   \n",
              "1 1873-03-08   England  Scotland           4           2   Friendly   London   \n",
              "2 1874-03-07  Scotland   England           2           1   Friendly  Glasgow   \n",
              "3 1875-03-06   England  Scotland           2           2   Friendly   London   \n",
              "4 1876-03-04  Scotland   England           3           0   Friendly  Glasgow   \n",
              "\n",
              "    country  neutral  \n",
              "0  Scotland    False  \n",
              "1   England    False  \n",
              "2  Scotland    False  \n",
              "3   England    False  \n",
              "4  Scotland    False  "
            ]
          },
          "execution_count": 30,
          "metadata": {},
          "output_type": "execute_result"
        }
      ],
      "source": [
        "# Preview results head\n",
        "results.head()"
      ]
    },
    {
      "cell_type": "markdown",
      "metadata": {
        "id": "7ZPbzzZL3JH9"
      },
      "source": [
        "* In the final merged dataset, we need ranks of both the home team and the away team.\n",
        "* We will drop the city and the country that each game was played from the results dataframe.\n",
        "* The column neutral will determine whether the game was in a neutral ground or not"
      ]
    },
    {
      "cell_type": "code",
      "execution_count": null,
      "metadata": {
        "colab": {
          "base_uri": "https://localhost:8080/"
        },
        "id": "mN9y593V4TXx",
        "outputId": "55d313e1-0ded-4540-fa8d-84eb5a3a1605"
      },
      "outputs": [
        {
          "name": "stdout",
          "output_type": "stream",
          "text": [
            "Index(['date', 'home_team', 'away_team', 'home_score', 'away_score',\n",
            "       'tournament', 'country', 'neutral'],\n",
            "      dtype='object')\n"
          ]
        }
      ],
      "source": [
        "# Dropping the unnecessary columns from the results data frame\n",
        "results = results.drop(['city'], axis=1)\n",
        "print(results.columns)"
      ]
    },
    {
      "cell_type": "code",
      "execution_count": null,
      "metadata": {
        "colab": {
          "base_uri": "https://localhost:8080/"
        },
        "id": "_GcKREBT4eb-",
        "outputId": "1b505817-951e-4332-f41a-f585cbcd31bb"
      },
      "outputs": [
        {
          "data": {
            "text/html": [
              "\n",
              "  <div id=\"df-88b0d71b-7563-48fc-89d9-3c49edc26ebe\">\n",
              "    <div class=\"colab-df-container\">\n",
              "      <div>\n",
              "<style scoped>\n",
              "    .dataframe tbody tr th:only-of-type {\n",
              "        vertical-align: middle;\n",
              "    }\n",
              "\n",
              "    .dataframe tbody tr th {\n",
              "        vertical-align: top;\n",
              "    }\n",
              "\n",
              "    .dataframe thead th {\n",
              "        text-align: right;\n",
              "    }\n",
              "</style>\n",
              "<table border=\"1\" class=\"dataframe\">\n",
              "  <thead>\n",
              "    <tr style=\"text-align: right;\">\n",
              "      <th></th>\n",
              "      <th>date</th>\n",
              "      <th>home_team</th>\n",
              "      <th>away_team</th>\n",
              "      <th>home_score</th>\n",
              "      <th>away_score</th>\n",
              "      <th>tournament</th>\n",
              "      <th>country</th>\n",
              "      <th>neutral</th>\n",
              "    </tr>\n",
              "  </thead>\n",
              "  <tbody>\n",
              "    <tr>\n",
              "      <th>0</th>\n",
              "      <td>1872-11-30</td>\n",
              "      <td>Scotland</td>\n",
              "      <td>England</td>\n",
              "      <td>0</td>\n",
              "      <td>0</td>\n",
              "      <td>Friendly</td>\n",
              "      <td>Scotland</td>\n",
              "      <td>False</td>\n",
              "    </tr>\n",
              "    <tr>\n",
              "      <th>1</th>\n",
              "      <td>1873-03-08</td>\n",
              "      <td>England</td>\n",
              "      <td>Scotland</td>\n",
              "      <td>4</td>\n",
              "      <td>2</td>\n",
              "      <td>Friendly</td>\n",
              "      <td>England</td>\n",
              "      <td>False</td>\n",
              "    </tr>\n",
              "    <tr>\n",
              "      <th>2</th>\n",
              "      <td>1874-03-07</td>\n",
              "      <td>Scotland</td>\n",
              "      <td>England</td>\n",
              "      <td>2</td>\n",
              "      <td>1</td>\n",
              "      <td>Friendly</td>\n",
              "      <td>Scotland</td>\n",
              "      <td>False</td>\n",
              "    </tr>\n",
              "    <tr>\n",
              "      <th>3</th>\n",
              "      <td>1875-03-06</td>\n",
              "      <td>England</td>\n",
              "      <td>Scotland</td>\n",
              "      <td>2</td>\n",
              "      <td>2</td>\n",
              "      <td>Friendly</td>\n",
              "      <td>England</td>\n",
              "      <td>False</td>\n",
              "    </tr>\n",
              "    <tr>\n",
              "      <th>4</th>\n",
              "      <td>1876-03-04</td>\n",
              "      <td>Scotland</td>\n",
              "      <td>England</td>\n",
              "      <td>3</td>\n",
              "      <td>0</td>\n",
              "      <td>Friendly</td>\n",
              "      <td>Scotland</td>\n",
              "      <td>False</td>\n",
              "    </tr>\n",
              "  </tbody>\n",
              "</table>\n",
              "</div>\n",
              "      <button class=\"colab-df-convert\" onclick=\"convertToInteractive('df-88b0d71b-7563-48fc-89d9-3c49edc26ebe')\"\n",
              "              title=\"Convert this dataframe to an interactive table.\"\n",
              "              style=\"display:none;\">\n",
              "        \n",
              "  <svg xmlns=\"http://www.w3.org/2000/svg\" height=\"24px\"viewBox=\"0 0 24 24\"\n",
              "       width=\"24px\">\n",
              "    <path d=\"M0 0h24v24H0V0z\" fill=\"none\"/>\n",
              "    <path d=\"M18.56 5.44l.94 2.06.94-2.06 2.06-.94-2.06-.94-.94-2.06-.94 2.06-2.06.94zm-11 1L8.5 8.5l.94-2.06 2.06-.94-2.06-.94L8.5 2.5l-.94 2.06-2.06.94zm10 10l.94 2.06.94-2.06 2.06-.94-2.06-.94-.94-2.06-.94 2.06-2.06.94z\"/><path d=\"M17.41 7.96l-1.37-1.37c-.4-.4-.92-.59-1.43-.59-.52 0-1.04.2-1.43.59L10.3 9.45l-7.72 7.72c-.78.78-.78 2.05 0 2.83L4 21.41c.39.39.9.59 1.41.59.51 0 1.02-.2 1.41-.59l7.78-7.78 2.81-2.81c.8-.78.8-2.07 0-2.86zM5.41 20L4 18.59l7.72-7.72 1.47 1.35L5.41 20z\"/>\n",
              "  </svg>\n",
              "      </button>\n",
              "      \n",
              "  <style>\n",
              "    .colab-df-container {\n",
              "      display:flex;\n",
              "      flex-wrap:wrap;\n",
              "      gap: 12px;\n",
              "    }\n",
              "\n",
              "    .colab-df-convert {\n",
              "      background-color: #E8F0FE;\n",
              "      border: none;\n",
              "      border-radius: 50%;\n",
              "      cursor: pointer;\n",
              "      display: none;\n",
              "      fill: #1967D2;\n",
              "      height: 32px;\n",
              "      padding: 0 0 0 0;\n",
              "      width: 32px;\n",
              "    }\n",
              "\n",
              "    .colab-df-convert:hover {\n",
              "      background-color: #E2EBFA;\n",
              "      box-shadow: 0px 1px 2px rgba(60, 64, 67, 0.3), 0px 1px 3px 1px rgba(60, 64, 67, 0.15);\n",
              "      fill: #174EA6;\n",
              "    }\n",
              "\n",
              "    [theme=dark] .colab-df-convert {\n",
              "      background-color: #3B4455;\n",
              "      fill: #D2E3FC;\n",
              "    }\n",
              "\n",
              "    [theme=dark] .colab-df-convert:hover {\n",
              "      background-color: #434B5C;\n",
              "      box-shadow: 0px 1px 3px 1px rgba(0, 0, 0, 0.15);\n",
              "      filter: drop-shadow(0px 1px 2px rgba(0, 0, 0, 0.3));\n",
              "      fill: #FFFFFF;\n",
              "    }\n",
              "  </style>\n",
              "\n",
              "      <script>\n",
              "        const buttonEl =\n",
              "          document.querySelector('#df-88b0d71b-7563-48fc-89d9-3c49edc26ebe button.colab-df-convert');\n",
              "        buttonEl.style.display =\n",
              "          google.colab.kernel.accessAllowed ? 'block' : 'none';\n",
              "\n",
              "        async function convertToInteractive(key) {\n",
              "          const element = document.querySelector('#df-88b0d71b-7563-48fc-89d9-3c49edc26ebe');\n",
              "          const dataTable =\n",
              "            await google.colab.kernel.invokeFunction('convertToInteractive',\n",
              "                                                     [key], {});\n",
              "          if (!dataTable) return;\n",
              "\n",
              "          const docLinkHtml = 'Like what you see? Visit the ' +\n",
              "            '<a target=\"_blank\" href=https://colab.research.google.com/notebooks/data_table.ipynb>data table notebook</a>'\n",
              "            + ' to learn more about interactive tables.';\n",
              "          element.innerHTML = '';\n",
              "          dataTable['output_type'] = 'display_data';\n",
              "          await google.colab.output.renderOutput(dataTable, element);\n",
              "          const docLink = document.createElement('div');\n",
              "          docLink.innerHTML = docLinkHtml;\n",
              "          element.appendChild(docLink);\n",
              "        }\n",
              "      </script>\n",
              "    </div>\n",
              "  </div>\n",
              "  "
            ],
            "text/plain": [
              "        date home_team away_team  home_score  away_score tournament   country  \\\n",
              "0 1872-11-30  Scotland   England           0           0   Friendly  Scotland   \n",
              "1 1873-03-08   England  Scotland           4           2   Friendly   England   \n",
              "2 1874-03-07  Scotland   England           2           1   Friendly  Scotland   \n",
              "3 1875-03-06   England  Scotland           2           2   Friendly   England   \n",
              "4 1876-03-04  Scotland   England           3           0   Friendly  Scotland   \n",
              "\n",
              "   neutral  \n",
              "0    False  \n",
              "1    False  \n",
              "2    False  \n",
              "3    False  \n",
              "4    False  "
            ]
          },
          "execution_count": 32,
          "metadata": {},
          "output_type": "execute_result"
        }
      ],
      "source": [
        "# Preview the results head data\n",
        "results.head()"
      ]
    },
    {
      "cell_type": "code",
      "execution_count": null,
      "metadata": {
        "colab": {
          "base_uri": "https://localhost:8080/"
        },
        "id": "SzphgcLQ4z9x",
        "outputId": "d48073fd-f4d9-4305-a95b-6effd14fef49"
      },
      "outputs": [
        {
          "name": "stdout",
          "output_type": "stream",
          "text": [
            "FIFA_RANKING DATASET\n",
            "['UEFA' 'CONMEBOL' 'CONCACAF' 'CAF' 'AFC' 'OFC']\n",
            "\n",
            "RESULT DATASET\n",
            "['Friendly' 'British Championship' 'Copa Lipton' 'Copa Newton'\n",
            " 'Copa Premio Honor Argentino' 'Copa Premio Honor Uruguayo' 'Copa Roca'\n",
            " 'Copa América' 'Copa Chevallier Boutell' 'Nordic Championship'\n",
            " 'International Cup' 'Baltic Cup' 'Balkan Cup' 'FIFA World Cup'\n",
            " 'Copa Rio Branco' 'FIFA World Cup qualification' 'CCCF Championship'\n",
            " 'NAFU Championship' 'Copa Oswaldo Cruz' 'Pan American Championship'\n",
            " 'Copa del Pacífico' \"Copa Bernardo O'Higgins\"\n",
            " 'AFC Asian Cup qualification' 'Atlantic Cup' 'AFC Asian Cup'\n",
            " 'African Cup of Nations' 'Copa Paz del Chaco' 'Merdeka Tournament'\n",
            " 'UEFA Euro qualification' 'UEFA Euro' 'Windward Islands Tournament'\n",
            " 'African Cup of Nations qualification' 'Vietnam Independence Cup'\n",
            " 'Copa Carlos Dittborn' 'CONCACAF Championship' 'Copa Juan Pinto Durán'\n",
            " 'UAFA Cup' 'South Pacific Games' 'CONCACAF Championship qualification'\n",
            " 'Copa Artigas' 'GaNEFo' \"King's Cup\" 'Gulf Cup' 'Indonesia Tournament'\n",
            " 'Korea Cup' 'Brazil Independence Cup' 'Copa Ramón Castilla'\n",
            " 'Oceania Nations Cup' 'CECAFA Cup' 'Copa Félix Bogado' 'Kirin Cup'\n",
            " 'CFU Caribbean Cup qualification' 'CFU Caribbean Cup'\n",
            " 'Amílcar Cabral Cup' 'Mundialito' 'West African Cup' 'Nehru Cup'\n",
            " 'Merlion Cup' 'UDEAC Cup' 'Rous Cup' 'Lunar New Year Cup'\n",
            " 'Tournoi de France' 'Malta International Tournament' 'Island Games'\n",
            " 'Dynasty Cup' 'UNCAF Cup' 'Gold Cup' 'USA Cup'\n",
            " 'Jordan International Tournament' 'Confederations Cup'\n",
            " 'United Arab Emirates Friendship Tournament'\n",
            " 'Oceania Nations Cup qualification' 'Simba Tournament' 'SAFF Cup'\n",
            " 'AFF Championship' 'King Hassan II Tournament'\n",
            " 'Cyprus International Tournament' 'Dunhill Cup' 'COSAFA Cup'\n",
            " 'Gold Cup qualification' 'SKN Football Festival' 'UNIFFAC Cup'\n",
            " 'WAFF Championship' 'Millennium Cup' \"Prime Minister's Cup\"\n",
            " 'EAFF Championship' 'AFC Challenge Cup' 'FIFI Wild Cup' 'ELF Cup'\n",
            " 'Viva World Cup' 'UAFA Cup qualification'\n",
            " 'AFC Challenge Cup qualification' 'African Nations Championship'\n",
            " 'VFF Cup' 'Dragon Cup' 'ABCS Tournament' 'Nile Basin Tournament'\n",
            " 'Nations Cup' 'Pacific Games' 'OSN Cup' 'CONIFA World Football Cup'\n",
            " 'CONIFA European Football Cup' 'Copa América qualification'\n",
            " 'World Unity Cup' 'Intercontinental Cup' 'AFF Championship qualification'\n",
            " 'UEFA Nations League' 'Atlantic Heritage Cup'\n",
            " 'Inter Games Football Tournament']\n"
          ]
        }
      ],
      "source": [
        "# Exploring the confederation from the fifa_ranking dataset\n",
        "# And the tournament from the results dataset\n",
        "print('FIFA_RANKING DATASET')\n",
        "print(ranking.confederation.unique())\n",
        "print('\\nRESULT DATASET')\n",
        "print(results.tournament.unique())"
      ]
    },
    {
      "cell_type": "markdown",
      "metadata": {
        "id": "8JVa5NlC5Wmq"
      },
      "source": [
        "From our observations we can see that FIFA only considers these types of rankings.\n",
        "* UEFA - Union of European Football Association\n",
        "* CONMEBOL - The South American Football Confederation\n",
        "* CONCACAF - Confederation of North, Central America and Carribean Association Footbal\n",
        "* CAF - Confederation of African Football\n",
        "* AFC - Asian Football Confederation\n",
        "* OFC - Oceania Football Confederation\n",
        "We shall match up these championships with those in our results dataset"
      ]
    },
    {
      "cell_type": "markdown",
      "metadata": {
        "id": "oj01Uzb6JzUw"
      },
      "source": [
        "## **Merging the datasets**"
      ]
    },
    {
      "cell_type": "code",
      "execution_count": null,
      "metadata": {
        "colab": {
          "base_uri": "https://localhost:8080/"
        },
        "id": "2Cr0B9vjKBrY",
        "outputId": "56758f15-d334-4cd6-9718-3234c4afd846"
      },
      "outputs": [
        {
          "name": "stdout",
          "output_type": "stream",
          "text": [
            "Index(['rank', 'country_full', 'confederation', 'rank_date'], dtype='object')\n",
            "\n",
            "Index(['date', 'home_team', 'away_team', 'home_score', 'away_score',\n",
            "       'tournament', 'country', 'neutral'],\n",
            "      dtype='object')\n"
          ]
        }
      ],
      "source": [
        "# Previewing the columns in each case\n",
        "print(ranking.columns)\n",
        "print('')\n",
        "print(results.columns) "
      ]
    },
    {
      "cell_type": "code",
      "execution_count": null,
      "metadata": {
        "colab": {
          "base_uri": "https://localhost:8080/"
        },
        "id": "mrTl9G75aZ-s",
        "outputId": "9aa3fcbb-f0d0-4278-bb20-a90e3cbce0dc"
      },
      "outputs": [
        {
          "name": "stdout",
          "output_type": "stream",
          "text": [
            "<class 'pandas.core.frame.DataFrame'>\n",
            "Int64Index: 21906 entries, 17914 to 39819\n",
            "Data columns (total 9 columns):\n",
            " #   Column      Non-Null Count  Dtype         \n",
            "---  ------      --------------  -----         \n",
            " 0   date        21906 non-null  datetime64[ns]\n",
            " 1   home_team   21906 non-null  object        \n",
            " 2   away_team   21906 non-null  object        \n",
            " 3   home_score  21906 non-null  int64         \n",
            " 4   away_score  21906 non-null  int64         \n",
            " 5   tournament  21906 non-null  object        \n",
            " 6   city        21906 non-null  object        \n",
            " 7   country     21906 non-null  object        \n",
            " 8   neutral     21906 non-null  bool          \n",
            "dtypes: bool(1), datetime64[ns](1), int64(2), object(5)\n",
            "memory usage: 1.5+ MB\n"
          ]
        },
        {
          "name": "stderr",
          "output_type": "stream",
          "text": [
            "<ipython-input-35-bf9de430a0f1>:1: SettingWithCopyWarning: \n",
            "A value is trying to be set on a copy of a slice from a DataFrame.\n",
            "Try using .loc[row_indexer,col_indexer] = value instead\n",
            "\n",
            "See the caveats in the documentation: https://pandas.pydata.org/pandas-docs/stable/user_guide/indexing.html#returning-a-view-versus-a-copy\n",
            "  tresults[\"date\"]= pd.to_datetime(tresults[\"date\"])\n"
          ]
        }
      ],
      "source": [
        "tresults[\"date\"]= pd.to_datetime(tresults[\"date\"])\n",
        "tresults.info()"
      ]
    },
    {
      "cell_type": "code",
      "execution_count": null,
      "metadata": {
        "colab": {
          "base_uri": "https://localhost:8080/"
        },
        "id": "16yHuccFuonm",
        "outputId": "66e62190-3075-4268-e9a0-b662845400a9"
      },
      "outputs": [
        {
          "data": {
            "text/html": [
              "\n",
              "  <div id=\"df-efb8ee06-3491-454f-970f-60509e4390a2\">\n",
              "    <div class=\"colab-df-container\">\n",
              "      <div>\n",
              "<style scoped>\n",
              "    .dataframe tbody tr th:only-of-type {\n",
              "        vertical-align: middle;\n",
              "    }\n",
              "\n",
              "    .dataframe tbody tr th {\n",
              "        vertical-align: top;\n",
              "    }\n",
              "\n",
              "    .dataframe thead th {\n",
              "        text-align: right;\n",
              "    }\n",
              "</style>\n",
              "<table border=\"1\" class=\"dataframe\">\n",
              "  <thead>\n",
              "    <tr style=\"text-align: right;\">\n",
              "      <th></th>\n",
              "      <th>date</th>\n",
              "      <th>home_team</th>\n",
              "      <th>away_team</th>\n",
              "      <th>home_score</th>\n",
              "      <th>away_score</th>\n",
              "      <th>tournament</th>\n",
              "      <th>city</th>\n",
              "      <th>country</th>\n",
              "      <th>neutral</th>\n",
              "      <th>rank</th>\n",
              "      <th>country_full</th>\n",
              "      <th>confederation</th>\n",
              "      <th>rank_date</th>\n",
              "    </tr>\n",
              "  </thead>\n",
              "  <tbody>\n",
              "    <tr>\n",
              "      <th>0</th>\n",
              "      <td>1993-08-08</td>\n",
              "      <td>Bolivia</td>\n",
              "      <td>Uruguay</td>\n",
              "      <td>3</td>\n",
              "      <td>1</td>\n",
              "      <td>FIFA World Cup qualification</td>\n",
              "      <td>La Paz</td>\n",
              "      <td>Bolivia</td>\n",
              "      <td>False</td>\n",
              "      <td>59</td>\n",
              "      <td>Bolivia</td>\n",
              "      <td>CONMEBOL</td>\n",
              "      <td>1993-08-08</td>\n",
              "    </tr>\n",
              "    <tr>\n",
              "      <th>1</th>\n",
              "      <td>1993-08-08</td>\n",
              "      <td>Brazil</td>\n",
              "      <td>Mexico</td>\n",
              "      <td>1</td>\n",
              "      <td>1</td>\n",
              "      <td>Friendly</td>\n",
              "      <td>Maceió</td>\n",
              "      <td>Brazil</td>\n",
              "      <td>False</td>\n",
              "      <td>8</td>\n",
              "      <td>Brazil</td>\n",
              "      <td>CONMEBOL</td>\n",
              "      <td>1993-08-08</td>\n",
              "    </tr>\n",
              "    <tr>\n",
              "      <th>2</th>\n",
              "      <td>1993-08-08</td>\n",
              "      <td>Ecuador</td>\n",
              "      <td>Venezuela</td>\n",
              "      <td>5</td>\n",
              "      <td>0</td>\n",
              "      <td>FIFA World Cup qualification</td>\n",
              "      <td>Quito</td>\n",
              "      <td>Ecuador</td>\n",
              "      <td>False</td>\n",
              "      <td>35</td>\n",
              "      <td>Ecuador</td>\n",
              "      <td>CONMEBOL</td>\n",
              "      <td>1993-08-08</td>\n",
              "    </tr>\n",
              "    <tr>\n",
              "      <th>3</th>\n",
              "      <td>1993-08-08</td>\n",
              "      <td>Guinea</td>\n",
              "      <td>Sierra Leone</td>\n",
              "      <td>1</td>\n",
              "      <td>0</td>\n",
              "      <td>Friendly</td>\n",
              "      <td>Conakry</td>\n",
              "      <td>Guinea</td>\n",
              "      <td>False</td>\n",
              "      <td>65</td>\n",
              "      <td>Guinea</td>\n",
              "      <td>CAF</td>\n",
              "      <td>1993-08-08</td>\n",
              "    </tr>\n",
              "    <tr>\n",
              "      <th>4</th>\n",
              "      <td>1993-08-08</td>\n",
              "      <td>Paraguay</td>\n",
              "      <td>Argentina</td>\n",
              "      <td>1</td>\n",
              "      <td>3</td>\n",
              "      <td>FIFA World Cup qualification</td>\n",
              "      <td>Asunción</td>\n",
              "      <td>Paraguay</td>\n",
              "      <td>False</td>\n",
              "      <td>67</td>\n",
              "      <td>Paraguay</td>\n",
              "      <td>CONMEBOL</td>\n",
              "      <td>1993-08-08</td>\n",
              "    </tr>\n",
              "  </tbody>\n",
              "</table>\n",
              "</div>\n",
              "      <button class=\"colab-df-convert\" onclick=\"convertToInteractive('df-efb8ee06-3491-454f-970f-60509e4390a2')\"\n",
              "              title=\"Convert this dataframe to an interactive table.\"\n",
              "              style=\"display:none;\">\n",
              "        \n",
              "  <svg xmlns=\"http://www.w3.org/2000/svg\" height=\"24px\"viewBox=\"0 0 24 24\"\n",
              "       width=\"24px\">\n",
              "    <path d=\"M0 0h24v24H0V0z\" fill=\"none\"/>\n",
              "    <path d=\"M18.56 5.44l.94 2.06.94-2.06 2.06-.94-2.06-.94-.94-2.06-.94 2.06-2.06.94zm-11 1L8.5 8.5l.94-2.06 2.06-.94-2.06-.94L8.5 2.5l-.94 2.06-2.06.94zm10 10l.94 2.06.94-2.06 2.06-.94-2.06-.94-.94-2.06-.94 2.06-2.06.94z\"/><path d=\"M17.41 7.96l-1.37-1.37c-.4-.4-.92-.59-1.43-.59-.52 0-1.04.2-1.43.59L10.3 9.45l-7.72 7.72c-.78.78-.78 2.05 0 2.83L4 21.41c.39.39.9.59 1.41.59.51 0 1.02-.2 1.41-.59l7.78-7.78 2.81-2.81c.8-.78.8-2.07 0-2.86zM5.41 20L4 18.59l7.72-7.72 1.47 1.35L5.41 20z\"/>\n",
              "  </svg>\n",
              "      </button>\n",
              "      \n",
              "  <style>\n",
              "    .colab-df-container {\n",
              "      display:flex;\n",
              "      flex-wrap:wrap;\n",
              "      gap: 12px;\n",
              "    }\n",
              "\n",
              "    .colab-df-convert {\n",
              "      background-color: #E8F0FE;\n",
              "      border: none;\n",
              "      border-radius: 50%;\n",
              "      cursor: pointer;\n",
              "      display: none;\n",
              "      fill: #1967D2;\n",
              "      height: 32px;\n",
              "      padding: 0 0 0 0;\n",
              "      width: 32px;\n",
              "    }\n",
              "\n",
              "    .colab-df-convert:hover {\n",
              "      background-color: #E2EBFA;\n",
              "      box-shadow: 0px 1px 2px rgba(60, 64, 67, 0.3), 0px 1px 3px 1px rgba(60, 64, 67, 0.15);\n",
              "      fill: #174EA6;\n",
              "    }\n",
              "\n",
              "    [theme=dark] .colab-df-convert {\n",
              "      background-color: #3B4455;\n",
              "      fill: #D2E3FC;\n",
              "    }\n",
              "\n",
              "    [theme=dark] .colab-df-convert:hover {\n",
              "      background-color: #434B5C;\n",
              "      box-shadow: 0px 1px 3px 1px rgba(0, 0, 0, 0.15);\n",
              "      filter: drop-shadow(0px 1px 2px rgba(0, 0, 0, 0.3));\n",
              "      fill: #FFFFFF;\n",
              "    }\n",
              "  </style>\n",
              "\n",
              "      <script>\n",
              "        const buttonEl =\n",
              "          document.querySelector('#df-efb8ee06-3491-454f-970f-60509e4390a2 button.colab-df-convert');\n",
              "        buttonEl.style.display =\n",
              "          google.colab.kernel.accessAllowed ? 'block' : 'none';\n",
              "\n",
              "        async function convertToInteractive(key) {\n",
              "          const element = document.querySelector('#df-efb8ee06-3491-454f-970f-60509e4390a2');\n",
              "          const dataTable =\n",
              "            await google.colab.kernel.invokeFunction('convertToInteractive',\n",
              "                                                     [key], {});\n",
              "          if (!dataTable) return;\n",
              "\n",
              "          const docLinkHtml = 'Like what you see? Visit the ' +\n",
              "            '<a target=\"_blank\" href=https://colab.research.google.com/notebooks/data_table.ipynb>data table notebook</a>'\n",
              "            + ' to learn more about interactive tables.';\n",
              "          element.innerHTML = '';\n",
              "          dataTable['output_type'] = 'display_data';\n",
              "          await google.colab.output.renderOutput(dataTable, element);\n",
              "          const docLink = document.createElement('div');\n",
              "          docLink.innerHTML = docLinkHtml;\n",
              "          element.appendChild(docLink);\n",
              "        }\n",
              "      </script>\n",
              "    </div>\n",
              "  </div>\n",
              "  "
            ],
            "text/plain": [
              "        date home_team     away_team  home_score  away_score  \\\n",
              "0 1993-08-08   Bolivia       Uruguay           3           1   \n",
              "1 1993-08-08    Brazil        Mexico           1           1   \n",
              "2 1993-08-08   Ecuador     Venezuela           5           0   \n",
              "3 1993-08-08    Guinea  Sierra Leone           1           0   \n",
              "4 1993-08-08  Paraguay     Argentina           1           3   \n",
              "\n",
              "                     tournament      city   country  neutral  rank  \\\n",
              "0  FIFA World Cup qualification    La Paz   Bolivia    False    59   \n",
              "1                      Friendly    Maceió    Brazil    False     8   \n",
              "2  FIFA World Cup qualification     Quito   Ecuador    False    35   \n",
              "3                      Friendly   Conakry    Guinea    False    65   \n",
              "4  FIFA World Cup qualification  Asunción  Paraguay    False    67   \n",
              "\n",
              "  country_full confederation  rank_date  \n",
              "0      Bolivia      CONMEBOL 1993-08-08  \n",
              "1       Brazil      CONMEBOL 1993-08-08  \n",
              "2      Ecuador      CONMEBOL 1993-08-08  \n",
              "3       Guinea           CAF 1993-08-08  \n",
              "4     Paraguay      CONMEBOL 1993-08-08  "
            ]
          },
          "execution_count": 36,
          "metadata": {},
          "output_type": "execute_result"
        }
      ],
      "source": [
        "# Lets merge the two datasets.\n",
        "home_merge = pd.merge(tresults, ranking, how = 'inner' , \n",
        "                      right_on =['rank_date', 'country_full'], left_on = ['date', 'home_team'])\n",
        "home_merge.head()"
      ]
    },
    {
      "cell_type": "code",
      "execution_count": null,
      "metadata": {
        "colab": {
          "base_uri": "https://localhost:8080/"
        },
        "id": "smrhr4VEv6Sg",
        "outputId": "2f1d4094-406d-4c3c-da4b-2359410ee516"
      },
      "outputs": [
        {
          "data": {
            "text/html": [
              "\n",
              "  <div id=\"df-7705df73-b1ab-41b1-ba34-956945068f9c\">\n",
              "    <div class=\"colab-df-container\">\n",
              "      <div>\n",
              "<style scoped>\n",
              "    .dataframe tbody tr th:only-of-type {\n",
              "        vertical-align: middle;\n",
              "    }\n",
              "\n",
              "    .dataframe tbody tr th {\n",
              "        vertical-align: top;\n",
              "    }\n",
              "\n",
              "    .dataframe thead th {\n",
              "        text-align: right;\n",
              "    }\n",
              "</style>\n",
              "<table border=\"1\" class=\"dataframe\">\n",
              "  <thead>\n",
              "    <tr style=\"text-align: right;\">\n",
              "      <th></th>\n",
              "      <th>date</th>\n",
              "      <th>home_team</th>\n",
              "      <th>away_team</th>\n",
              "      <th>home_score</th>\n",
              "      <th>away_score</th>\n",
              "      <th>tournament</th>\n",
              "      <th>city</th>\n",
              "      <th>country</th>\n",
              "      <th>neutral</th>\n",
              "      <th>rank_x</th>\n",
              "      <th>country_full_x</th>\n",
              "      <th>confederation_x</th>\n",
              "      <th>rank_date_x</th>\n",
              "      <th>rank_y</th>\n",
              "      <th>country_full_y</th>\n",
              "      <th>confederation_y</th>\n",
              "      <th>rank_date_y</th>\n",
              "    </tr>\n",
              "  </thead>\n",
              "  <tbody>\n",
              "    <tr>\n",
              "      <th>0</th>\n",
              "      <td>1993-08-08</td>\n",
              "      <td>Bolivia</td>\n",
              "      <td>Uruguay</td>\n",
              "      <td>3</td>\n",
              "      <td>1</td>\n",
              "      <td>FIFA World Cup qualification</td>\n",
              "      <td>La Paz</td>\n",
              "      <td>Bolivia</td>\n",
              "      <td>False</td>\n",
              "      <td>59</td>\n",
              "      <td>Bolivia</td>\n",
              "      <td>CONMEBOL</td>\n",
              "      <td>1993-08-08</td>\n",
              "      <td>22</td>\n",
              "      <td>Uruguay</td>\n",
              "      <td>CONMEBOL</td>\n",
              "      <td>1993-08-08</td>\n",
              "    </tr>\n",
              "    <tr>\n",
              "      <th>1</th>\n",
              "      <td>1993-08-08</td>\n",
              "      <td>Brazil</td>\n",
              "      <td>Mexico</td>\n",
              "      <td>1</td>\n",
              "      <td>1</td>\n",
              "      <td>Friendly</td>\n",
              "      <td>Maceió</td>\n",
              "      <td>Brazil</td>\n",
              "      <td>False</td>\n",
              "      <td>8</td>\n",
              "      <td>Brazil</td>\n",
              "      <td>CONMEBOL</td>\n",
              "      <td>1993-08-08</td>\n",
              "      <td>14</td>\n",
              "      <td>Mexico</td>\n",
              "      <td>CONCACAF</td>\n",
              "      <td>1993-08-08</td>\n",
              "    </tr>\n",
              "    <tr>\n",
              "      <th>2</th>\n",
              "      <td>1993-08-08</td>\n",
              "      <td>Ecuador</td>\n",
              "      <td>Venezuela</td>\n",
              "      <td>5</td>\n",
              "      <td>0</td>\n",
              "      <td>FIFA World Cup qualification</td>\n",
              "      <td>Quito</td>\n",
              "      <td>Ecuador</td>\n",
              "      <td>False</td>\n",
              "      <td>35</td>\n",
              "      <td>Ecuador</td>\n",
              "      <td>CONMEBOL</td>\n",
              "      <td>1993-08-08</td>\n",
              "      <td>94</td>\n",
              "      <td>Venezuela</td>\n",
              "      <td>CONMEBOL</td>\n",
              "      <td>1993-08-08</td>\n",
              "    </tr>\n",
              "    <tr>\n",
              "      <th>3</th>\n",
              "      <td>1993-08-08</td>\n",
              "      <td>Guinea</td>\n",
              "      <td>Sierra Leone</td>\n",
              "      <td>1</td>\n",
              "      <td>0</td>\n",
              "      <td>Friendly</td>\n",
              "      <td>Conakry</td>\n",
              "      <td>Guinea</td>\n",
              "      <td>False</td>\n",
              "      <td>65</td>\n",
              "      <td>Guinea</td>\n",
              "      <td>CAF</td>\n",
              "      <td>1993-08-08</td>\n",
              "      <td>86</td>\n",
              "      <td>Sierra Leone</td>\n",
              "      <td>CAF</td>\n",
              "      <td>1993-08-08</td>\n",
              "    </tr>\n",
              "    <tr>\n",
              "      <th>4</th>\n",
              "      <td>1993-08-08</td>\n",
              "      <td>Paraguay</td>\n",
              "      <td>Argentina</td>\n",
              "      <td>1</td>\n",
              "      <td>3</td>\n",
              "      <td>FIFA World Cup qualification</td>\n",
              "      <td>Asunción</td>\n",
              "      <td>Paraguay</td>\n",
              "      <td>False</td>\n",
              "      <td>67</td>\n",
              "      <td>Paraguay</td>\n",
              "      <td>CONMEBOL</td>\n",
              "      <td>1993-08-08</td>\n",
              "      <td>5</td>\n",
              "      <td>Argentina</td>\n",
              "      <td>CONMEBOL</td>\n",
              "      <td>1993-08-08</td>\n",
              "    </tr>\n",
              "  </tbody>\n",
              "</table>\n",
              "</div>\n",
              "      <button class=\"colab-df-convert\" onclick=\"convertToInteractive('df-7705df73-b1ab-41b1-ba34-956945068f9c')\"\n",
              "              title=\"Convert this dataframe to an interactive table.\"\n",
              "              style=\"display:none;\">\n",
              "        \n",
              "  <svg xmlns=\"http://www.w3.org/2000/svg\" height=\"24px\"viewBox=\"0 0 24 24\"\n",
              "       width=\"24px\">\n",
              "    <path d=\"M0 0h24v24H0V0z\" fill=\"none\"/>\n",
              "    <path d=\"M18.56 5.44l.94 2.06.94-2.06 2.06-.94-2.06-.94-.94-2.06-.94 2.06-2.06.94zm-11 1L8.5 8.5l.94-2.06 2.06-.94-2.06-.94L8.5 2.5l-.94 2.06-2.06.94zm10 10l.94 2.06.94-2.06 2.06-.94-2.06-.94-.94-2.06-.94 2.06-2.06.94z\"/><path d=\"M17.41 7.96l-1.37-1.37c-.4-.4-.92-.59-1.43-.59-.52 0-1.04.2-1.43.59L10.3 9.45l-7.72 7.72c-.78.78-.78 2.05 0 2.83L4 21.41c.39.39.9.59 1.41.59.51 0 1.02-.2 1.41-.59l7.78-7.78 2.81-2.81c.8-.78.8-2.07 0-2.86zM5.41 20L4 18.59l7.72-7.72 1.47 1.35L5.41 20z\"/>\n",
              "  </svg>\n",
              "      </button>\n",
              "      \n",
              "  <style>\n",
              "    .colab-df-container {\n",
              "      display:flex;\n",
              "      flex-wrap:wrap;\n",
              "      gap: 12px;\n",
              "    }\n",
              "\n",
              "    .colab-df-convert {\n",
              "      background-color: #E8F0FE;\n",
              "      border: none;\n",
              "      border-radius: 50%;\n",
              "      cursor: pointer;\n",
              "      display: none;\n",
              "      fill: #1967D2;\n",
              "      height: 32px;\n",
              "      padding: 0 0 0 0;\n",
              "      width: 32px;\n",
              "    }\n",
              "\n",
              "    .colab-df-convert:hover {\n",
              "      background-color: #E2EBFA;\n",
              "      box-shadow: 0px 1px 2px rgba(60, 64, 67, 0.3), 0px 1px 3px 1px rgba(60, 64, 67, 0.15);\n",
              "      fill: #174EA6;\n",
              "    }\n",
              "\n",
              "    [theme=dark] .colab-df-convert {\n",
              "      background-color: #3B4455;\n",
              "      fill: #D2E3FC;\n",
              "    }\n",
              "\n",
              "    [theme=dark] .colab-df-convert:hover {\n",
              "      background-color: #434B5C;\n",
              "      box-shadow: 0px 1px 3px 1px rgba(0, 0, 0, 0.15);\n",
              "      filter: drop-shadow(0px 1px 2px rgba(0, 0, 0, 0.3));\n",
              "      fill: #FFFFFF;\n",
              "    }\n",
              "  </style>\n",
              "\n",
              "      <script>\n",
              "        const buttonEl =\n",
              "          document.querySelector('#df-7705df73-b1ab-41b1-ba34-956945068f9c button.colab-df-convert');\n",
              "        buttonEl.style.display =\n",
              "          google.colab.kernel.accessAllowed ? 'block' : 'none';\n",
              "\n",
              "        async function convertToInteractive(key) {\n",
              "          const element = document.querySelector('#df-7705df73-b1ab-41b1-ba34-956945068f9c');\n",
              "          const dataTable =\n",
              "            await google.colab.kernel.invokeFunction('convertToInteractive',\n",
              "                                                     [key], {});\n",
              "          if (!dataTable) return;\n",
              "\n",
              "          const docLinkHtml = 'Like what you see? Visit the ' +\n",
              "            '<a target=\"_blank\" href=https://colab.research.google.com/notebooks/data_table.ipynb>data table notebook</a>'\n",
              "            + ' to learn more about interactive tables.';\n",
              "          element.innerHTML = '';\n",
              "          dataTable['output_type'] = 'display_data';\n",
              "          await google.colab.output.renderOutput(dataTable, element);\n",
              "          const docLink = document.createElement('div');\n",
              "          docLink.innerHTML = docLinkHtml;\n",
              "          element.appendChild(docLink);\n",
              "        }\n",
              "      </script>\n",
              "    </div>\n",
              "  </div>\n",
              "  "
            ],
            "text/plain": [
              "        date home_team     away_team  home_score  away_score  \\\n",
              "0 1993-08-08   Bolivia       Uruguay           3           1   \n",
              "1 1993-08-08    Brazil        Mexico           1           1   \n",
              "2 1993-08-08   Ecuador     Venezuela           5           0   \n",
              "3 1993-08-08    Guinea  Sierra Leone           1           0   \n",
              "4 1993-08-08  Paraguay     Argentina           1           3   \n",
              "\n",
              "                     tournament      city   country  neutral  rank_x  \\\n",
              "0  FIFA World Cup qualification    La Paz   Bolivia    False      59   \n",
              "1                      Friendly    Maceió    Brazil    False       8   \n",
              "2  FIFA World Cup qualification     Quito   Ecuador    False      35   \n",
              "3                      Friendly   Conakry    Guinea    False      65   \n",
              "4  FIFA World Cup qualification  Asunción  Paraguay    False      67   \n",
              "\n",
              "  country_full_x confederation_x rank_date_x  rank_y country_full_y  \\\n",
              "0        Bolivia        CONMEBOL  1993-08-08      22        Uruguay   \n",
              "1         Brazil        CONMEBOL  1993-08-08      14         Mexico   \n",
              "2        Ecuador        CONMEBOL  1993-08-08      94      Venezuela   \n",
              "3         Guinea             CAF  1993-08-08      86   Sierra Leone   \n",
              "4       Paraguay        CONMEBOL  1993-08-08       5      Argentina   \n",
              "\n",
              "  confederation_y rank_date_y  \n",
              "0        CONMEBOL  1993-08-08  \n",
              "1        CONCACAF  1993-08-08  \n",
              "2        CONMEBOL  1993-08-08  \n",
              "3             CAF  1993-08-08  \n",
              "4        CONMEBOL  1993-08-08  "
            ]
          },
          "execution_count": 37,
          "metadata": {},
          "output_type": "execute_result"
        }
      ],
      "source": [
        "matches = pd.merge(home_merge, ranking, how = 'inner' , right_on =['rank_date', 'country_full'],\n",
        "                   left_on = ['date', 'away_team'])\n",
        "matches.head()"
      ]
    },
    {
      "cell_type": "code",
      "execution_count": null,
      "metadata": {
        "colab": {
          "base_uri": "https://localhost:8080/"
        },
        "id": "MrpyINZ-wt-m",
        "outputId": "3dbb8e23-fdd4-41af-ae73-7b91070f2d4e"
      },
      "outputs": [
        {
          "data": {
            "text/html": [
              "\n",
              "  <div id=\"df-08f906af-ca86-4c11-a0ed-f129bba04464\">\n",
              "    <div class=\"colab-df-container\">\n",
              "      <div>\n",
              "<style scoped>\n",
              "    .dataframe tbody tr th:only-of-type {\n",
              "        vertical-align: middle;\n",
              "    }\n",
              "\n",
              "    .dataframe tbody tr th {\n",
              "        vertical-align: top;\n",
              "    }\n",
              "\n",
              "    .dataframe thead th {\n",
              "        text-align: right;\n",
              "    }\n",
              "</style>\n",
              "<table border=\"1\" class=\"dataframe\">\n",
              "  <thead>\n",
              "    <tr style=\"text-align: right;\">\n",
              "      <th></th>\n",
              "      <th>date</th>\n",
              "      <th>home_team</th>\n",
              "      <th>away_team</th>\n",
              "      <th>home_score</th>\n",
              "      <th>away_score</th>\n",
              "      <th>tournament</th>\n",
              "      <th>city</th>\n",
              "      <th>country</th>\n",
              "      <th>neutral</th>\n",
              "      <th>rank_x</th>\n",
              "      <th>country_full_x</th>\n",
              "      <th>confederation_x</th>\n",
              "      <th>rank_date_x</th>\n",
              "      <th>rank_y</th>\n",
              "      <th>country_full_y</th>\n",
              "      <th>confederation_y</th>\n",
              "      <th>rank_date_y</th>\n",
              "    </tr>\n",
              "  </thead>\n",
              "  <tbody>\n",
              "    <tr>\n",
              "      <th>861</th>\n",
              "      <td>2017-06-01</td>\n",
              "      <td>Mexico</td>\n",
              "      <td>Republic of Ireland</td>\n",
              "      <td>3</td>\n",
              "      <td>1</td>\n",
              "      <td>Friendly</td>\n",
              "      <td>East Rutherford</td>\n",
              "      <td>United States</td>\n",
              "      <td>True</td>\n",
              "      <td>17</td>\n",
              "      <td>Mexico</td>\n",
              "      <td>CONCACAF</td>\n",
              "      <td>2017-06-01</td>\n",
              "      <td>26</td>\n",
              "      <td>Republic of Ireland</td>\n",
              "      <td>UEFA</td>\n",
              "      <td>2017-06-01</td>\n",
              "    </tr>\n",
              "    <tr>\n",
              "      <th>862</th>\n",
              "      <td>2017-06-01</td>\n",
              "      <td>Nigeria</td>\n",
              "      <td>Togo</td>\n",
              "      <td>3</td>\n",
              "      <td>0</td>\n",
              "      <td>Friendly</td>\n",
              "      <td>Saint-Leu-la-Forêt</td>\n",
              "      <td>France</td>\n",
              "      <td>True</td>\n",
              "      <td>38</td>\n",
              "      <td>Nigeria</td>\n",
              "      <td>CAF</td>\n",
              "      <td>2017-06-01</td>\n",
              "      <td>112</td>\n",
              "      <td>Togo</td>\n",
              "      <td>CAF</td>\n",
              "      <td>2017-06-01</td>\n",
              "    </tr>\n",
              "    <tr>\n",
              "      <th>863</th>\n",
              "      <td>2017-06-01</td>\n",
              "      <td>Switzerland</td>\n",
              "      <td>Belarus</td>\n",
              "      <td>1</td>\n",
              "      <td>0</td>\n",
              "      <td>Friendly</td>\n",
              "      <td>Neuchâtel</td>\n",
              "      <td>Switzerland</td>\n",
              "      <td>False</td>\n",
              "      <td>9</td>\n",
              "      <td>Switzerland</td>\n",
              "      <td>UEFA</td>\n",
              "      <td>2017-06-01</td>\n",
              "      <td>83</td>\n",
              "      <td>Belarus</td>\n",
              "      <td>UEFA</td>\n",
              "      <td>2017-06-01</td>\n",
              "    </tr>\n",
              "    <tr>\n",
              "      <th>864</th>\n",
              "      <td>2017-07-06</td>\n",
              "      <td>Grenada</td>\n",
              "      <td>Barbados</td>\n",
              "      <td>0</td>\n",
              "      <td>2</td>\n",
              "      <td>Windward Islands Tournament</td>\n",
              "      <td>St. George's</td>\n",
              "      <td>Grenada</td>\n",
              "      <td>False</td>\n",
              "      <td>163</td>\n",
              "      <td>Grenada</td>\n",
              "      <td>CONCACAF</td>\n",
              "      <td>2017-07-06</td>\n",
              "      <td>181</td>\n",
              "      <td>Barbados</td>\n",
              "      <td>CONCACAF</td>\n",
              "      <td>2017-07-06</td>\n",
              "    </tr>\n",
              "    <tr>\n",
              "      <th>865</th>\n",
              "      <td>2018-01-18</td>\n",
              "      <td>Uganda</td>\n",
              "      <td>Namibia</td>\n",
              "      <td>0</td>\n",
              "      <td>1</td>\n",
              "      <td>African Nations Championship</td>\n",
              "      <td>Marrakech</td>\n",
              "      <td>Morocco</td>\n",
              "      <td>True</td>\n",
              "      <td>73</td>\n",
              "      <td>Uganda</td>\n",
              "      <td>CAF</td>\n",
              "      <td>2018-01-18</td>\n",
              "      <td>111</td>\n",
              "      <td>Namibia</td>\n",
              "      <td>CAF</td>\n",
              "      <td>2018-01-18</td>\n",
              "    </tr>\n",
              "  </tbody>\n",
              "</table>\n",
              "</div>\n",
              "      <button class=\"colab-df-convert\" onclick=\"convertToInteractive('df-08f906af-ca86-4c11-a0ed-f129bba04464')\"\n",
              "              title=\"Convert this dataframe to an interactive table.\"\n",
              "              style=\"display:none;\">\n",
              "        \n",
              "  <svg xmlns=\"http://www.w3.org/2000/svg\" height=\"24px\"viewBox=\"0 0 24 24\"\n",
              "       width=\"24px\">\n",
              "    <path d=\"M0 0h24v24H0V0z\" fill=\"none\"/>\n",
              "    <path d=\"M18.56 5.44l.94 2.06.94-2.06 2.06-.94-2.06-.94-.94-2.06-.94 2.06-2.06.94zm-11 1L8.5 8.5l.94-2.06 2.06-.94-2.06-.94L8.5 2.5l-.94 2.06-2.06.94zm10 10l.94 2.06.94-2.06 2.06-.94-2.06-.94-.94-2.06-.94 2.06-2.06.94z\"/><path d=\"M17.41 7.96l-1.37-1.37c-.4-.4-.92-.59-1.43-.59-.52 0-1.04.2-1.43.59L10.3 9.45l-7.72 7.72c-.78.78-.78 2.05 0 2.83L4 21.41c.39.39.9.59 1.41.59.51 0 1.02-.2 1.41-.59l7.78-7.78 2.81-2.81c.8-.78.8-2.07 0-2.86zM5.41 20L4 18.59l7.72-7.72 1.47 1.35L5.41 20z\"/>\n",
              "  </svg>\n",
              "      </button>\n",
              "      \n",
              "  <style>\n",
              "    .colab-df-container {\n",
              "      display:flex;\n",
              "      flex-wrap:wrap;\n",
              "      gap: 12px;\n",
              "    }\n",
              "\n",
              "    .colab-df-convert {\n",
              "      background-color: #E8F0FE;\n",
              "      border: none;\n",
              "      border-radius: 50%;\n",
              "      cursor: pointer;\n",
              "      display: none;\n",
              "      fill: #1967D2;\n",
              "      height: 32px;\n",
              "      padding: 0 0 0 0;\n",
              "      width: 32px;\n",
              "    }\n",
              "\n",
              "    .colab-df-convert:hover {\n",
              "      background-color: #E2EBFA;\n",
              "      box-shadow: 0px 1px 2px rgba(60, 64, 67, 0.3), 0px 1px 3px 1px rgba(60, 64, 67, 0.15);\n",
              "      fill: #174EA6;\n",
              "    }\n",
              "\n",
              "    [theme=dark] .colab-df-convert {\n",
              "      background-color: #3B4455;\n",
              "      fill: #D2E3FC;\n",
              "    }\n",
              "\n",
              "    [theme=dark] .colab-df-convert:hover {\n",
              "      background-color: #434B5C;\n",
              "      box-shadow: 0px 1px 3px 1px rgba(0, 0, 0, 0.15);\n",
              "      filter: drop-shadow(0px 1px 2px rgba(0, 0, 0, 0.3));\n",
              "      fill: #FFFFFF;\n",
              "    }\n",
              "  </style>\n",
              "\n",
              "      <script>\n",
              "        const buttonEl =\n",
              "          document.querySelector('#df-08f906af-ca86-4c11-a0ed-f129bba04464 button.colab-df-convert');\n",
              "        buttonEl.style.display =\n",
              "          google.colab.kernel.accessAllowed ? 'block' : 'none';\n",
              "\n",
              "        async function convertToInteractive(key) {\n",
              "          const element = document.querySelector('#df-08f906af-ca86-4c11-a0ed-f129bba04464');\n",
              "          const dataTable =\n",
              "            await google.colab.kernel.invokeFunction('convertToInteractive',\n",
              "                                                     [key], {});\n",
              "          if (!dataTable) return;\n",
              "\n",
              "          const docLinkHtml = 'Like what you see? Visit the ' +\n",
              "            '<a target=\"_blank\" href=https://colab.research.google.com/notebooks/data_table.ipynb>data table notebook</a>'\n",
              "            + ' to learn more about interactive tables.';\n",
              "          element.innerHTML = '';\n",
              "          dataTable['output_type'] = 'display_data';\n",
              "          await google.colab.output.renderOutput(dataTable, element);\n",
              "          const docLink = document.createElement('div');\n",
              "          docLink.innerHTML = docLinkHtml;\n",
              "          element.appendChild(docLink);\n",
              "        }\n",
              "      </script>\n",
              "    </div>\n",
              "  </div>\n",
              "  "
            ],
            "text/plain": [
              "          date    home_team            away_team  home_score  away_score  \\\n",
              "861 2017-06-01       Mexico  Republic of Ireland           3           1   \n",
              "862 2017-06-01      Nigeria                 Togo           3           0   \n",
              "863 2017-06-01  Switzerland              Belarus           1           0   \n",
              "864 2017-07-06      Grenada             Barbados           0           2   \n",
              "865 2018-01-18       Uganda              Namibia           0           1   \n",
              "\n",
              "                       tournament                city        country  neutral  \\\n",
              "861                      Friendly     East Rutherford  United States     True   \n",
              "862                      Friendly  Saint-Leu-la-Forêt         France     True   \n",
              "863                      Friendly           Neuchâtel    Switzerland    False   \n",
              "864   Windward Islands Tournament        St. George's        Grenada    False   \n",
              "865  African Nations Championship           Marrakech        Morocco     True   \n",
              "\n",
              "     rank_x country_full_x confederation_x rank_date_x  rank_y  \\\n",
              "861      17         Mexico        CONCACAF  2017-06-01      26   \n",
              "862      38        Nigeria             CAF  2017-06-01     112   \n",
              "863       9    Switzerland            UEFA  2017-06-01      83   \n",
              "864     163        Grenada        CONCACAF  2017-07-06     181   \n",
              "865      73         Uganda             CAF  2018-01-18     111   \n",
              "\n",
              "          country_full_y confederation_y rank_date_y  \n",
              "861  Republic of Ireland            UEFA  2017-06-01  \n",
              "862                 Togo             CAF  2017-06-01  \n",
              "863              Belarus            UEFA  2017-06-01  \n",
              "864             Barbados        CONCACAF  2017-07-06  \n",
              "865              Namibia             CAF  2018-01-18  "
            ]
          },
          "execution_count": 38,
          "metadata": {},
          "output_type": "execute_result"
        }
      ],
      "source": [
        "# lets dsiplay the merged dataset of the away_team\n",
        "matches.tail()"
      ]
    },
    {
      "cell_type": "code",
      "execution_count": null,
      "metadata": {
        "colab": {
          "base_uri": "https://localhost:8080/"
        },
        "id": "ilix7ykCk6gX",
        "outputId": "b190f7a1-fba6-4dd4-efcf-730641f9e209"
      },
      "outputs": [
        {
          "name": "stdout",
          "output_type": "stream",
          "text": [
            "Index(['date', 'home_team', 'away_team', 'home_score', 'away_score',\n",
            "       'tournament', 'city', 'country', 'neutral', 'rank_x', 'confederation_x',\n",
            "       'rank_y', 'confederation_y'],\n",
            "      dtype='object')\n"
          ]
        }
      ],
      "source": [
        "# Drop the unecessary columns\n",
        "matches = matches.drop(['country_full_x', 'country_full_y','rank_date_x', 'rank_date_y'], axis=1 )\n",
        "print(matches.columns)"
      ]
    },
    {
      "cell_type": "code",
      "execution_count": null,
      "metadata": {
        "colab": {
          "base_uri": "https://localhost:8080/"
        },
        "id": "oJEK1hQQp4-k",
        "outputId": "3fefe329-78ef-4244-a5aa-74c3d50a2855"
      },
      "outputs": [
        {
          "data": {
            "text/html": [
              "\n",
              "  <div id=\"df-331e812e-5e65-4168-81d0-8b3cb5ca1c52\">\n",
              "    <div class=\"colab-df-container\">\n",
              "      <div>\n",
              "<style scoped>\n",
              "    .dataframe tbody tr th:only-of-type {\n",
              "        vertical-align: middle;\n",
              "    }\n",
              "\n",
              "    .dataframe tbody tr th {\n",
              "        vertical-align: top;\n",
              "    }\n",
              "\n",
              "    .dataframe thead th {\n",
              "        text-align: right;\n",
              "    }\n",
              "</style>\n",
              "<table border=\"1\" class=\"dataframe\">\n",
              "  <thead>\n",
              "    <tr style=\"text-align: right;\">\n",
              "      <th></th>\n",
              "      <th>date</th>\n",
              "      <th>home_team</th>\n",
              "      <th>away_team</th>\n",
              "      <th>home_score</th>\n",
              "      <th>away_score</th>\n",
              "      <th>tournament</th>\n",
              "      <th>city</th>\n",
              "      <th>country</th>\n",
              "      <th>neutral</th>\n",
              "      <th>home_rank</th>\n",
              "      <th>confederation_home</th>\n",
              "      <th>away_rank</th>\n",
              "      <th>confederation_away</th>\n",
              "    </tr>\n",
              "  </thead>\n",
              "  <tbody>\n",
              "    <tr>\n",
              "      <th>0</th>\n",
              "      <td>1993-08-08</td>\n",
              "      <td>Bolivia</td>\n",
              "      <td>Uruguay</td>\n",
              "      <td>3</td>\n",
              "      <td>1</td>\n",
              "      <td>FIFA World Cup qualification</td>\n",
              "      <td>La Paz</td>\n",
              "      <td>Bolivia</td>\n",
              "      <td>False</td>\n",
              "      <td>59</td>\n",
              "      <td>CONMEBOL</td>\n",
              "      <td>22</td>\n",
              "      <td>CONMEBOL</td>\n",
              "    </tr>\n",
              "    <tr>\n",
              "      <th>1</th>\n",
              "      <td>1993-08-08</td>\n",
              "      <td>Brazil</td>\n",
              "      <td>Mexico</td>\n",
              "      <td>1</td>\n",
              "      <td>1</td>\n",
              "      <td>Friendly</td>\n",
              "      <td>Maceió</td>\n",
              "      <td>Brazil</td>\n",
              "      <td>False</td>\n",
              "      <td>8</td>\n",
              "      <td>CONMEBOL</td>\n",
              "      <td>14</td>\n",
              "      <td>CONCACAF</td>\n",
              "    </tr>\n",
              "    <tr>\n",
              "      <th>2</th>\n",
              "      <td>1993-08-08</td>\n",
              "      <td>Ecuador</td>\n",
              "      <td>Venezuela</td>\n",
              "      <td>5</td>\n",
              "      <td>0</td>\n",
              "      <td>FIFA World Cup qualification</td>\n",
              "      <td>Quito</td>\n",
              "      <td>Ecuador</td>\n",
              "      <td>False</td>\n",
              "      <td>35</td>\n",
              "      <td>CONMEBOL</td>\n",
              "      <td>94</td>\n",
              "      <td>CONMEBOL</td>\n",
              "    </tr>\n",
              "    <tr>\n",
              "      <th>3</th>\n",
              "      <td>1993-08-08</td>\n",
              "      <td>Guinea</td>\n",
              "      <td>Sierra Leone</td>\n",
              "      <td>1</td>\n",
              "      <td>0</td>\n",
              "      <td>Friendly</td>\n",
              "      <td>Conakry</td>\n",
              "      <td>Guinea</td>\n",
              "      <td>False</td>\n",
              "      <td>65</td>\n",
              "      <td>CAF</td>\n",
              "      <td>86</td>\n",
              "      <td>CAF</td>\n",
              "    </tr>\n",
              "    <tr>\n",
              "      <th>4</th>\n",
              "      <td>1993-08-08</td>\n",
              "      <td>Paraguay</td>\n",
              "      <td>Argentina</td>\n",
              "      <td>1</td>\n",
              "      <td>3</td>\n",
              "      <td>FIFA World Cup qualification</td>\n",
              "      <td>Asunción</td>\n",
              "      <td>Paraguay</td>\n",
              "      <td>False</td>\n",
              "      <td>67</td>\n",
              "      <td>CONMEBOL</td>\n",
              "      <td>5</td>\n",
              "      <td>CONMEBOL</td>\n",
              "    </tr>\n",
              "  </tbody>\n",
              "</table>\n",
              "</div>\n",
              "      <button class=\"colab-df-convert\" onclick=\"convertToInteractive('df-331e812e-5e65-4168-81d0-8b3cb5ca1c52')\"\n",
              "              title=\"Convert this dataframe to an interactive table.\"\n",
              "              style=\"display:none;\">\n",
              "        \n",
              "  <svg xmlns=\"http://www.w3.org/2000/svg\" height=\"24px\"viewBox=\"0 0 24 24\"\n",
              "       width=\"24px\">\n",
              "    <path d=\"M0 0h24v24H0V0z\" fill=\"none\"/>\n",
              "    <path d=\"M18.56 5.44l.94 2.06.94-2.06 2.06-.94-2.06-.94-.94-2.06-.94 2.06-2.06.94zm-11 1L8.5 8.5l.94-2.06 2.06-.94-2.06-.94L8.5 2.5l-.94 2.06-2.06.94zm10 10l.94 2.06.94-2.06 2.06-.94-2.06-.94-.94-2.06-.94 2.06-2.06.94z\"/><path d=\"M17.41 7.96l-1.37-1.37c-.4-.4-.92-.59-1.43-.59-.52 0-1.04.2-1.43.59L10.3 9.45l-7.72 7.72c-.78.78-.78 2.05 0 2.83L4 21.41c.39.39.9.59 1.41.59.51 0 1.02-.2 1.41-.59l7.78-7.78 2.81-2.81c.8-.78.8-2.07 0-2.86zM5.41 20L4 18.59l7.72-7.72 1.47 1.35L5.41 20z\"/>\n",
              "  </svg>\n",
              "      </button>\n",
              "      \n",
              "  <style>\n",
              "    .colab-df-container {\n",
              "      display:flex;\n",
              "      flex-wrap:wrap;\n",
              "      gap: 12px;\n",
              "    }\n",
              "\n",
              "    .colab-df-convert {\n",
              "      background-color: #E8F0FE;\n",
              "      border: none;\n",
              "      border-radius: 50%;\n",
              "      cursor: pointer;\n",
              "      display: none;\n",
              "      fill: #1967D2;\n",
              "      height: 32px;\n",
              "      padding: 0 0 0 0;\n",
              "      width: 32px;\n",
              "    }\n",
              "\n",
              "    .colab-df-convert:hover {\n",
              "      background-color: #E2EBFA;\n",
              "      box-shadow: 0px 1px 2px rgba(60, 64, 67, 0.3), 0px 1px 3px 1px rgba(60, 64, 67, 0.15);\n",
              "      fill: #174EA6;\n",
              "    }\n",
              "\n",
              "    [theme=dark] .colab-df-convert {\n",
              "      background-color: #3B4455;\n",
              "      fill: #D2E3FC;\n",
              "    }\n",
              "\n",
              "    [theme=dark] .colab-df-convert:hover {\n",
              "      background-color: #434B5C;\n",
              "      box-shadow: 0px 1px 3px 1px rgba(0, 0, 0, 0.15);\n",
              "      filter: drop-shadow(0px 1px 2px rgba(0, 0, 0, 0.3));\n",
              "      fill: #FFFFFF;\n",
              "    }\n",
              "  </style>\n",
              "\n",
              "      <script>\n",
              "        const buttonEl =\n",
              "          document.querySelector('#df-331e812e-5e65-4168-81d0-8b3cb5ca1c52 button.colab-df-convert');\n",
              "        buttonEl.style.display =\n",
              "          google.colab.kernel.accessAllowed ? 'block' : 'none';\n",
              "\n",
              "        async function convertToInteractive(key) {\n",
              "          const element = document.querySelector('#df-331e812e-5e65-4168-81d0-8b3cb5ca1c52');\n",
              "          const dataTable =\n",
              "            await google.colab.kernel.invokeFunction('convertToInteractive',\n",
              "                                                     [key], {});\n",
              "          if (!dataTable) return;\n",
              "\n",
              "          const docLinkHtml = 'Like what you see? Visit the ' +\n",
              "            '<a target=\"_blank\" href=https://colab.research.google.com/notebooks/data_table.ipynb>data table notebook</a>'\n",
              "            + ' to learn more about interactive tables.';\n",
              "          element.innerHTML = '';\n",
              "          dataTable['output_type'] = 'display_data';\n",
              "          await google.colab.output.renderOutput(dataTable, element);\n",
              "          const docLink = document.createElement('div');\n",
              "          docLink.innerHTML = docLinkHtml;\n",
              "          element.appendChild(docLink);\n",
              "        }\n",
              "      </script>\n",
              "    </div>\n",
              "  </div>\n",
              "  "
            ],
            "text/plain": [
              "        date home_team     away_team  home_score  away_score  \\\n",
              "0 1993-08-08   Bolivia       Uruguay           3           1   \n",
              "1 1993-08-08    Brazil        Mexico           1           1   \n",
              "2 1993-08-08   Ecuador     Venezuela           5           0   \n",
              "3 1993-08-08    Guinea  Sierra Leone           1           0   \n",
              "4 1993-08-08  Paraguay     Argentina           1           3   \n",
              "\n",
              "                     tournament      city   country  neutral  home_rank  \\\n",
              "0  FIFA World Cup qualification    La Paz   Bolivia    False         59   \n",
              "1                      Friendly    Maceió    Brazil    False          8   \n",
              "2  FIFA World Cup qualification     Quito   Ecuador    False         35   \n",
              "3                      Friendly   Conakry    Guinea    False         65   \n",
              "4  FIFA World Cup qualification  Asunción  Paraguay    False         67   \n",
              "\n",
              "  confederation_home  away_rank confederation_away  \n",
              "0           CONMEBOL         22           CONMEBOL  \n",
              "1           CONMEBOL         14           CONCACAF  \n",
              "2           CONMEBOL         94           CONMEBOL  \n",
              "3                CAF         86                CAF  \n",
              "4           CONMEBOL          5           CONMEBOL  "
            ]
          },
          "execution_count": 40,
          "metadata": {},
          "output_type": "execute_result"
        }
      ],
      "source": [
        "# Rename the rank_x and rank_y columns\n",
        "# Display the updated dataset\n",
        "matches.rename(columns={'rank_x': 'home_rank', 'rank_y': 'away_rank', 'confederation_x':'confederation_home', 'confederation_y':'confederation_away'},inplace=True)\n",
        "matches.columns\n",
        "matches.head()"
      ]
    },
    {
      "cell_type": "code",
      "execution_count": null,
      "metadata": {
        "colab": {
          "base_uri": "https://localhost:8080/"
        },
        "id": "gC78PAsh48pz",
        "outputId": "f78bd046-0f83-4c89-ab6f-321ea73f5795"
      },
      "outputs": [
        {
          "data": {
            "text/plain": [
              "Index(['date', 'home_team', 'away_team', 'home_score', 'away_score',\n",
              "       'tournament', 'city', 'country', 'neutral', 'home_rank',\n",
              "       'confederation_home', 'away_rank', 'confederation_away'],\n",
              "      dtype='object')"
            ]
          },
          "execution_count": 41,
          "metadata": {},
          "output_type": "execute_result"
        }
      ],
      "source": [
        "matches.columns\n"
      ]
    },
    {
      "cell_type": "code",
      "execution_count": null,
      "metadata": {
        "colab": {
          "base_uri": "https://localhost:8080/"
        },
        "id": "bq5WcN0LnvrB",
        "outputId": "0af1ba62-ce8e-4691-9f4b-5a00cdc8a55a"
      },
      "outputs": [
        {
          "data": {
            "text/plain": [
              "date                  False\n",
              "home_team             False\n",
              "away_team             False\n",
              "home_score            False\n",
              "away_score            False\n",
              "tournament            False\n",
              "city                  False\n",
              "country               False\n",
              "neutral               False\n",
              "home_rank             False\n",
              "confederation_home    False\n",
              "away_rank             False\n",
              "confederation_away    False\n",
              "dtype: bool"
            ]
          },
          "execution_count": 42,
          "metadata": {},
          "output_type": "execute_result"
        }
      ],
      "source": [
        "# Check for null values and drop them if necessary\n",
        "matches.isnull().any()"
      ]
    },
    {
      "cell_type": "markdown",
      "metadata": {
        "id": "Exyu3ZjgoQ0o"
      },
      "source": [
        "*RESULT*: No nulll values\n",
        "\n"
      ]
    },
    {
      "cell_type": "code",
      "execution_count": null,
      "metadata": {
        "colab": {
          "base_uri": "https://localhost:8080/"
        },
        "id": "EYHHg4Xh5Ont",
        "outputId": "0308630b-ed86-4638-8612-40da49a83e65"
      },
      "outputs": [
        {
          "data": {
            "text/plain": [
              "0"
            ]
          },
          "execution_count": 43,
          "metadata": {},
          "output_type": "execute_result"
        }
      ],
      "source": [
        "# Check for duplicates in the datasets \n",
        "matches.duplicated().sum()"
      ]
    },
    {
      "cell_type": "markdown",
      "metadata": {
        "id": "Mscqf9Bc5Vhl"
      },
      "source": [
        "*There are no dulicates in our merged dataset*"
      ]
    },
    {
      "cell_type": "code",
      "execution_count": null,
      "metadata": {
        "colab": {
          "base_uri": "https://localhost:8080/"
        },
        "id": "UyKYOcFw44aU",
        "outputId": "8726a254-bf36-49c6-e2ce-e3464a352fda"
      },
      "outputs": [
        {
          "data": {
            "image/png": "[encoded data removed]",
            "text/plain": [
              "<Figure size 432x288 with 1 Axes>"
            ]
          },
          "metadata": {},
          "output_type": "display_data"
        },
        {
          "data": {
            "image/png": "[encoded data removed]",
            "text/plain": [
              "<Figure size 432x288 with 1 Axes>"
            ]
          },
          "metadata": {},
          "output_type": "display_data"
        },
        {
          "data": {
            "image/png": "[encoded data removed]",
            "text/plain": [
              "<Figure size 432x288 with 1 Axes>"
            ]
          },
          "metadata": {},
          "output_type": "display_data"
        },
        {
          "data": {
            "image/png": "[encoded data removed]",
            "text/plain": [
              "<Figure size 432x288 with 1 Axes>"
            ]
          },
          "metadata": {},
          "output_type": "display_data"
        }
      ],
      "source": [
        "# Lets plot boxplots and check for outliers for the matches columns.\n",
        "m_col=(matches[['home_score', 'away_score','home_rank', 'away_rank']])\n",
        "\n",
        "for column in m_col:\n",
        "  plt.figure()\n",
        "  sns.boxplot(x=m_col[column])"
      ]
    },
    {
      "cell_type": "code",
      "execution_count": null,
      "metadata": {
        "colab": {
          "base_uri": "https://localhost:8080/"
        },
        "id": "LdeBaTnH2NWY",
        "outputId": "7b852516-cb69-46d6-ebb3-8d5d2766f301"
      },
      "outputs": [
        {
          "data": {
            "text/plain": [
              "(866, 4)"
            ]
          },
          "execution_count": 45,
          "metadata": {},
          "output_type": "execute_result"
        }
      ],
      "source": [
        "m_col.shape"
      ]
    },
    {
      "cell_type": "code",
      "execution_count": null,
      "metadata": {
        "colab": {
          "base_uri": "https://localhost:8080/"
        },
        "id": "s40TAjN8dTZg",
        "outputId": "8357967c-57cc-46f6-a6d8-101f67637fc3"
      },
      "outputs": [
        {
          "data": {
            "image/png": "[encoded data removed]",
            "text/plain": [
              "<Figure size 432x288 with 1 Axes>"
            ]
          },
          "metadata": {},
          "output_type": "display_data"
        },
        {
          "data": {
            "image/png": "[encoded data removed]",
            "text/plain": [
              "<Figure size 432x288 with 1 Axes>"
            ]
          },
          "metadata": {},
          "output_type": "display_data"
        }
      ],
      "source": [
        "m_col=(matches[['home_score', 'away_score']])\n",
        "\n",
        "for column in m_col:\n",
        "  plt.figure()\n",
        "  sns.boxplot(x=m_col[column])"
      ]
    },
    {
      "cell_type": "code",
      "execution_count": null,
      "metadata": {
        "colab": {
          "base_uri": "https://localhost:8080/"
        },
        "id": "RRZcfWH7o77y",
        "outputId": "e5cca4f3-c777-4f21-a500-1e5700405019"
      },
      "outputs": [
        {
          "data": {
            "text/html": [
              "\n",
              "  <div id=\"df-46c833f8-4607-488a-9f53-9c41b72cf7b2\">\n",
              "    <div class=\"colab-df-container\">\n",
              "      <div>\n",
              "<style scoped>\n",
              "    .dataframe tbody tr th:only-of-type {\n",
              "        vertical-align: middle;\n",
              "    }\n",
              "\n",
              "    .dataframe tbody tr th {\n",
              "        vertical-align: top;\n",
              "    }\n",
              "\n",
              "    .dataframe thead th {\n",
              "        text-align: right;\n",
              "    }\n",
              "</style>\n",
              "<table border=\"1\" class=\"dataframe\">\n",
              "  <thead>\n",
              "    <tr style=\"text-align: right;\">\n",
              "      <th></th>\n",
              "      <th>date</th>\n",
              "      <th>home_team</th>\n",
              "      <th>away_team</th>\n",
              "      <th>home_score</th>\n",
              "      <th>away_score</th>\n",
              "      <th>tournament</th>\n",
              "      <th>city</th>\n",
              "      <th>country</th>\n",
              "      <th>neutral</th>\n",
              "      <th>home_rank</th>\n",
              "      <th>confederation_home</th>\n",
              "      <th>away_rank</th>\n",
              "      <th>confederation_away</th>\n",
              "    </tr>\n",
              "  </thead>\n",
              "  <tbody>\n",
              "    <tr>\n",
              "      <th>0</th>\n",
              "      <td>1993-08-08</td>\n",
              "      <td>Bolivia</td>\n",
              "      <td>Uruguay</td>\n",
              "      <td>3</td>\n",
              "      <td>1</td>\n",
              "      <td>FIFA World Cup qualification</td>\n",
              "      <td>La Paz</td>\n",
              "      <td>Bolivia</td>\n",
              "      <td>False</td>\n",
              "      <td>59</td>\n",
              "      <td>CONMEBOL</td>\n",
              "      <td>22</td>\n",
              "      <td>CONMEBOL</td>\n",
              "    </tr>\n",
              "    <tr>\n",
              "      <th>1</th>\n",
              "      <td>1993-08-08</td>\n",
              "      <td>Brazil</td>\n",
              "      <td>Mexico</td>\n",
              "      <td>1</td>\n",
              "      <td>1</td>\n",
              "      <td>Friendly</td>\n",
              "      <td>Maceió</td>\n",
              "      <td>Brazil</td>\n",
              "      <td>False</td>\n",
              "      <td>8</td>\n",
              "      <td>CONMEBOL</td>\n",
              "      <td>14</td>\n",
              "      <td>CONCACAF</td>\n",
              "    </tr>\n",
              "    <tr>\n",
              "      <th>2</th>\n",
              "      <td>1993-08-08</td>\n",
              "      <td>Ecuador</td>\n",
              "      <td>Venezuela</td>\n",
              "      <td>5</td>\n",
              "      <td>0</td>\n",
              "      <td>FIFA World Cup qualification</td>\n",
              "      <td>Quito</td>\n",
              "      <td>Ecuador</td>\n",
              "      <td>False</td>\n",
              "      <td>35</td>\n",
              "      <td>CONMEBOL</td>\n",
              "      <td>94</td>\n",
              "      <td>CONMEBOL</td>\n",
              "    </tr>\n",
              "    <tr>\n",
              "      <th>3</th>\n",
              "      <td>1993-08-08</td>\n",
              "      <td>Guinea</td>\n",
              "      <td>Sierra Leone</td>\n",
              "      <td>1</td>\n",
              "      <td>0</td>\n",
              "      <td>Friendly</td>\n",
              "      <td>Conakry</td>\n",
              "      <td>Guinea</td>\n",
              "      <td>False</td>\n",
              "      <td>65</td>\n",
              "      <td>CAF</td>\n",
              "      <td>86</td>\n",
              "      <td>CAF</td>\n",
              "    </tr>\n",
              "    <tr>\n",
              "      <th>4</th>\n",
              "      <td>1993-08-08</td>\n",
              "      <td>Paraguay</td>\n",
              "      <td>Argentina</td>\n",
              "      <td>1</td>\n",
              "      <td>3</td>\n",
              "      <td>FIFA World Cup qualification</td>\n",
              "      <td>Asunción</td>\n",
              "      <td>Paraguay</td>\n",
              "      <td>False</td>\n",
              "      <td>67</td>\n",
              "      <td>CONMEBOL</td>\n",
              "      <td>5</td>\n",
              "      <td>CONMEBOL</td>\n",
              "    </tr>\n",
              "    <tr>\n",
              "      <th>...</th>\n",
              "      <td>...</td>\n",
              "      <td>...</td>\n",
              "      <td>...</td>\n",
              "      <td>...</td>\n",
              "      <td>...</td>\n",
              "      <td>...</td>\n",
              "      <td>...</td>\n",
              "      <td>...</td>\n",
              "      <td>...</td>\n",
              "      <td>...</td>\n",
              "      <td>...</td>\n",
              "      <td>...</td>\n",
              "      <td>...</td>\n",
              "    </tr>\n",
              "    <tr>\n",
              "      <th>861</th>\n",
              "      <td>2017-06-01</td>\n",
              "      <td>Mexico</td>\n",
              "      <td>Republic of Ireland</td>\n",
              "      <td>3</td>\n",
              "      <td>1</td>\n",
              "      <td>Friendly</td>\n",
              "      <td>East Rutherford</td>\n",
              "      <td>United States</td>\n",
              "      <td>True</td>\n",
              "      <td>17</td>\n",
              "      <td>CONCACAF</td>\n",
              "      <td>26</td>\n",
              "      <td>UEFA</td>\n",
              "    </tr>\n",
              "    <tr>\n",
              "      <th>862</th>\n",
              "      <td>2017-06-01</td>\n",
              "      <td>Nigeria</td>\n",
              "      <td>Togo</td>\n",
              "      <td>3</td>\n",
              "      <td>0</td>\n",
              "      <td>Friendly</td>\n",
              "      <td>Saint-Leu-la-Forêt</td>\n",
              "      <td>France</td>\n",
              "      <td>True</td>\n",
              "      <td>38</td>\n",
              "      <td>CAF</td>\n",
              "      <td>112</td>\n",
              "      <td>CAF</td>\n",
              "    </tr>\n",
              "    <tr>\n",
              "      <th>863</th>\n",
              "      <td>2017-06-01</td>\n",
              "      <td>Switzerland</td>\n",
              "      <td>Belarus</td>\n",
              "      <td>1</td>\n",
              "      <td>0</td>\n",
              "      <td>Friendly</td>\n",
              "      <td>Neuchâtel</td>\n",
              "      <td>Switzerland</td>\n",
              "      <td>False</td>\n",
              "      <td>9</td>\n",
              "      <td>UEFA</td>\n",
              "      <td>83</td>\n",
              "      <td>UEFA</td>\n",
              "    </tr>\n",
              "    <tr>\n",
              "      <th>864</th>\n",
              "      <td>2017-07-06</td>\n",
              "      <td>Grenada</td>\n",
              "      <td>Barbados</td>\n",
              "      <td>0</td>\n",
              "      <td>2</td>\n",
              "      <td>Windward Islands Tournament</td>\n",
              "      <td>St. George's</td>\n",
              "      <td>Grenada</td>\n",
              "      <td>False</td>\n",
              "      <td>163</td>\n",
              "      <td>CONCACAF</td>\n",
              "      <td>181</td>\n",
              "      <td>CONCACAF</td>\n",
              "    </tr>\n",
              "    <tr>\n",
              "      <th>865</th>\n",
              "      <td>2018-01-18</td>\n",
              "      <td>Uganda</td>\n",
              "      <td>Namibia</td>\n",
              "      <td>0</td>\n",
              "      <td>1</td>\n",
              "      <td>African Nations Championship</td>\n",
              "      <td>Marrakech</td>\n",
              "      <td>Morocco</td>\n",
              "      <td>True</td>\n",
              "      <td>73</td>\n",
              "      <td>CAF</td>\n",
              "      <td>111</td>\n",
              "      <td>CAF</td>\n",
              "    </tr>\n",
              "  </tbody>\n",
              "</table>\n",
              "<p>837 rows × 13 columns</p>\n",
              "</div>\n",
              "      <button class=\"colab-df-convert\" onclick=\"convertToInteractive('df-46c833f8-4607-488a-9f53-9c41b72cf7b2')\"\n",
              "              title=\"Convert this dataframe to an interactive table.\"\n",
              "              style=\"display:none;\">\n",
              "        \n",
              "  <svg xmlns=\"http://www.w3.org/2000/svg\" height=\"24px\"viewBox=\"0 0 24 24\"\n",
              "       width=\"24px\">\n",
              "    <path d=\"M0 0h24v24H0V0z\" fill=\"none\"/>\n",
              "    <path d=\"M18.56 5.44l.94 2.06.94-2.06 2.06-.94-2.06-.94-.94-2.06-.94 2.06-2.06.94zm-11 1L8.5 8.5l.94-2.06 2.06-.94-2.06-.94L8.5 2.5l-.94 2.06-2.06.94zm10 10l.94 2.06.94-2.06 2.06-.94-2.06-.94-.94-2.06-.94 2.06-2.06.94z\"/><path d=\"M17.41 7.96l-1.37-1.37c-.4-.4-.92-.59-1.43-.59-.52 0-1.04.2-1.43.59L10.3 9.45l-7.72 7.72c-.78.78-.78 2.05 0 2.83L4 21.41c.39.39.9.59 1.41.59.51 0 1.02-.2 1.41-.59l7.78-7.78 2.81-2.81c.8-.78.8-2.07 0-2.86zM5.41 20L4 18.59l7.72-7.72 1.47 1.35L5.41 20z\"/>\n",
              "  </svg>\n",
              "      </button>\n",
              "      \n",
              "  <style>\n",
              "    .colab-df-container {\n",
              "      display:flex;\n",
              "      flex-wrap:wrap;\n",
              "      gap: 12px;\n",
              "    }\n",
              "\n",
              "    .colab-df-convert {\n",
              "      background-color: #E8F0FE;\n",
              "      border: none;\n",
              "      border-radius: 50%;\n",
              "      cursor: pointer;\n",
              "      display: none;\n",
              "      fill: #1967D2;\n",
              "      height: 32px;\n",
              "      padding: 0 0 0 0;\n",
              "      width: 32px;\n",
              "    }\n",
              "\n",
              "    .colab-df-convert:hover {\n",
              "      background-color: #E2EBFA;\n",
              "      box-shadow: 0px 1px 2px rgba(60, 64, 67, 0.3), 0px 1px 3px 1px rgba(60, 64, 67, 0.15);\n",
              "      fill: #174EA6;\n",
              "    }\n",
              "\n",
              "    [theme=dark] .colab-df-convert {\n",
              "      background-color: #3B4455;\n",
              "      fill: #D2E3FC;\n",
              "    }\n",
              "\n",
              "    [theme=dark] .colab-df-convert:hover {\n",
              "      background-color: #434B5C;\n",
              "      box-shadow: 0px 1px 3px 1px rgba(0, 0, 0, 0.15);\n",
              "      filter: drop-shadow(0px 1px 2px rgba(0, 0, 0, 0.3));\n",
              "      fill: #FFFFFF;\n",
              "    }\n",
              "  </style>\n",
              "\n",
              "      <script>\n",
              "        const buttonEl =\n",
              "          document.querySelector('#df-46c833f8-4607-488a-9f53-9c41b72cf7b2 button.colab-df-convert');\n",
              "        buttonEl.style.display =\n",
              "          google.colab.kernel.accessAllowed ? 'block' : 'none';\n",
              "\n",
              "        async function convertToInteractive(key) {\n",
              "          const element = document.querySelector('#df-46c833f8-4607-488a-9f53-9c41b72cf7b2');\n",
              "          const dataTable =\n",
              "            await google.colab.kernel.invokeFunction('convertToInteractive',\n",
              "                                                     [key], {});\n",
              "          if (!dataTable) return;\n",
              "\n",
              "          const docLinkHtml = 'Like what you see? Visit the ' +\n",
              "            '<a target=\"_blank\" href=https://colab.research.google.com/notebooks/data_table.ipynb>data table notebook</a>'\n",
              "            + ' to learn more about interactive tables.';\n",
              "          element.innerHTML = '';\n",
              "          dataTable['output_type'] = 'display_data';\n",
              "          await google.colab.output.renderOutput(dataTable, element);\n",
              "          const docLink = document.createElement('div');\n",
              "          docLink.innerHTML = docLinkHtml;\n",
              "          element.appendChild(docLink);\n",
              "        }\n",
              "      </script>\n",
              "    </div>\n",
              "  </div>\n",
              "  "
            ],
            "text/plain": [
              "          date    home_team            away_team  home_score  away_score  \\\n",
              "0   1993-08-08      Bolivia              Uruguay           3           1   \n",
              "1   1993-08-08       Brazil               Mexico           1           1   \n",
              "2   1993-08-08      Ecuador            Venezuela           5           0   \n",
              "3   1993-08-08       Guinea         Sierra Leone           1           0   \n",
              "4   1993-08-08     Paraguay            Argentina           1           3   \n",
              "..         ...          ...                  ...         ...         ...   \n",
              "861 2017-06-01       Mexico  Republic of Ireland           3           1   \n",
              "862 2017-06-01      Nigeria                 Togo           3           0   \n",
              "863 2017-06-01  Switzerland              Belarus           1           0   \n",
              "864 2017-07-06      Grenada             Barbados           0           2   \n",
              "865 2018-01-18       Uganda              Namibia           0           1   \n",
              "\n",
              "                       tournament                city        country  neutral  \\\n",
              "0    FIFA World Cup qualification              La Paz        Bolivia    False   \n",
              "1                        Friendly              Maceió         Brazil    False   \n",
              "2    FIFA World Cup qualification               Quito        Ecuador    False   \n",
              "3                        Friendly             Conakry         Guinea    False   \n",
              "4    FIFA World Cup qualification            Asunción       Paraguay    False   \n",
              "..                            ...                 ...            ...      ...   \n",
              "861                      Friendly     East Rutherford  United States     True   \n",
              "862                      Friendly  Saint-Leu-la-Forêt         France     True   \n",
              "863                      Friendly           Neuchâtel    Switzerland    False   \n",
              "864   Windward Islands Tournament        St. George's        Grenada    False   \n",
              "865  African Nations Championship           Marrakech        Morocco     True   \n",
              "\n",
              "     home_rank confederation_home  away_rank confederation_away  \n",
              "0           59           CONMEBOL         22           CONMEBOL  \n",
              "1            8           CONMEBOL         14           CONCACAF  \n",
              "2           35           CONMEBOL         94           CONMEBOL  \n",
              "3           65                CAF         86                CAF  \n",
              "4           67           CONMEBOL          5           CONMEBOL  \n",
              "..         ...                ...        ...                ...  \n",
              "861         17           CONCACAF         26               UEFA  \n",
              "862         38                CAF        112                CAF  \n",
              "863          9               UEFA         83               UEFA  \n",
              "864        163           CONCACAF        181           CONCACAF  \n",
              "865         73                CAF        111                CAF  \n",
              "\n",
              "[837 rows x 13 columns]"
            ]
          },
          "execution_count": 47,
          "metadata": {},
          "output_type": "execute_result"
        }
      ],
      "source": [
        "# Dropping the Outliers in our dataset\n",
        "tmatches= matches.loc[(matches[\"home_score\"] <= 5) & (matches[\"away_score\"] <= 5)]\n",
        "tmatches"
      ]
    },
    {
      "cell_type": "code",
      "execution_count": null,
      "metadata": {
        "colab": {
          "base_uri": "https://localhost:8080/"
        },
        "id": "1PytKqB-p121",
        "outputId": "32b8611b-73e3-4daa-bd98-eb0d0186d1d7"
      },
      "outputs": [
        {
          "name": "stdout",
          "output_type": "stream",
          "text": [
            "<class 'pandas.core.frame.DataFrame'>\n",
            "Int64Index: 837 entries, 0 to 865\n",
            "Data columns (total 13 columns):\n",
            " #   Column              Non-Null Count  Dtype         \n",
            "---  ------              --------------  -----         \n",
            " 0   date                837 non-null    datetime64[ns]\n",
            " 1   home_team           837 non-null    object        \n",
            " 2   away_team           837 non-null    object        \n",
            " 3   home_score          837 non-null    int64         \n",
            " 4   away_score          837 non-null    int64         \n",
            " 5   tournament          837 non-null    object        \n",
            " 6   city                837 non-null    object        \n",
            " 7   country             837 non-null    object        \n",
            " 8   neutral             837 non-null    bool          \n",
            " 9   home_rank           837 non-null    int64         \n",
            " 10  confederation_home  837 non-null    object        \n",
            " 11  away_rank           837 non-null    int64         \n",
            " 12  confederation_away  837 non-null    object        \n",
            "dtypes: bool(1), datetime64[ns](1), int64(4), object(7)\n",
            "memory usage: 85.8+ KB\n"
          ]
        }
      ],
      "source": [
        "tmatches.info()"
      ]
    },
    {
      "cell_type": "code",
      "execution_count": null,
      "metadata": {
        "colab": {
          "base_uri": "https://localhost:8080/"
        },
        "id": "R3sMPJxqp3mj",
        "outputId": "eccf3fa4-0a15-4c2f-9c13-69c3774a7056"
      },
      "outputs": [
        {
          "data": {
            "text/plain": [
              "<matplotlib.axes._subplots.AxesSubplot at 0x7f15e083f610>"
            ]
          },
          "execution_count": 49,
          "metadata": {},
          "output_type": "execute_result"
        },
        {
          "data": {
            "image/png": "[encoded data removed]",
            "text/plain": [
              "<Figure size 432x288 with 1 Axes>"
            ]
          },
          "metadata": {},
          "output_type": "display_data"
        }
      ],
      "source": [
        "sns.boxplot(x=tmatches['home_score'])"
      ]
    },
    {
      "cell_type": "code",
      "execution_count": null,
      "metadata": {
        "colab": {
          "background_save": true,
          "base_uri": "https://localhost:8080/"
        },
        "id": "-OHub2FLq29U",
        "outputId": "1a906b74-bcca-4771-f152-e506966e3a59"
      },
      "outputs": [
        {
          "data": {
            "image/png": "[encoded data removed]",
            "text/plain": [
              "<Figure size 432x288 with 1 Axes>"
            ]
          },
          "metadata": {},
          "output_type": "display_data"
        }
      ],
      "source": [
        "sns.boxplot(x=tmatches['away_score'])\n",
        "plt.show()"
      ]
    },
    {
      "cell_type": "markdown",
      "metadata": {
        "id": "OuAsUHkc4few"
      },
      "source": [
        "# Exploratory Data Analysis"
      ]
    },
    {
      "cell_type": "markdown",
      "metadata": {
        "id": "5R7SABVUH6Mj"
      },
      "source": [
        "## Categorical Variables"
      ]
    },
    {
      "cell_type": "code",
      "execution_count": null,
      "metadata": {
        "colab": {
          "background_save": true,
          "base_uri": "https://localhost:8080/"
        },
        "id": "BSZU-a3B-all",
        "outputId": "e0592271-c92e-4a0d-d01b-1c72bf1054a4"
      },
      "outputs": [
        {
          "name": "stdout",
          "output_type": "stream",
          "text": [
            "The total number of home teams is 121\n",
            "The total number of away teams is 130\n"
          ]
        }
      ],
      "source": [
        "#Display the total number of home teams \n",
        "print('The total number of home teams is ' +str(tmatches['home_team'].nunique()))\n",
        "\n",
        "#Display the total number of away teams\n",
        "print('The total number of away teams is ' +str(tmatches['away_team'].nunique()))"
      ]
    },
    {
      "cell_type": "code",
      "execution_count": null,
      "metadata": {
        "colab": {
          "background_save": true,
          "base_uri": "https://localhost:8080/"
        },
        "id": "mrfwRrvqDgz-",
        "outputId": "432d7502-f60d-43db-a25c-4c057b30c97d"
      },
      "outputs": [
        {
          "name": "stdout",
          "output_type": "stream",
          "text": [
            "The frequency table of countries is: \n",
            " United States    17\n",
            "Cyprus           12\n",
            "Greece           11\n",
            "Saudi Arabia     10\n",
            "Portugal         10\n",
            "                 ..\n",
            "Macau             1\n",
            "Togo              1\n",
            "South Korea       1\n",
            "Egypt             1\n",
            "Hong Kong         1\n",
            "Name: country, Length: 117, dtype: int64\n",
            "\n",
            "\n",
            "The frequency table of the confederations is: \n",
            " Friendly                                      290\n",
            "FIFA World Cup qualification                   97\n",
            "UEFA Euro qualification                        16\n",
            "AFC Asian Cup qualification                     8\n",
            "Cyprus International Tournament                 6\n",
            "Copa América                                    5\n",
            "African Cup of Nations                          4\n",
            "United Arab Emirates Friendship Tournament      3\n",
            "Malta International Tournament                  3\n",
            "Gulf Cup                                        3\n",
            "King's Cup                                      2\n",
            "Prime Minister's Cup                            2\n",
            "SAFF Cup                                        2\n",
            "AFF Championship                                2\n",
            "Confederations Cup                              2\n",
            "UNCAF Cup                                       2\n",
            "Millennium Cup                                  1\n",
            "CFU Caribbean Cup                               1\n",
            "Gold Cup                                        1\n",
            "Korea Cup                                       1\n",
            "UAFA Cup                                        1\n",
            "CFU Caribbean Cup qualification                 1\n",
            "South Pacific Games                             1\n",
            "Gold Cup qualification                          1\n",
            "Merdeka Tournament                              1\n",
            "USA Cup                                         1\n",
            "Name: tournament, dtype: int64\n",
            "\n",
            "\n",
            "The frequency table of home teams: \n",
            " Mexico          14\n",
            "Saudi Arabia    11\n",
            "Greece          11\n",
            "Hungary         10\n",
            "Portugal        10\n",
            "                ..\n",
            "Tanzania         1\n",
            "Nigeria          1\n",
            "Bangladesh       1\n",
            "Nepal            1\n",
            "Kazakhstan       1\n",
            "Name: home_team, Length: 121, dtype: int64\n",
            "\n",
            "\n",
            "The frequency table of the away teams: \n",
            " Uruguay      10\n",
            "Bulgaria     10\n",
            "Argentina    10\n",
            "Russia        9\n",
            "Paraguay      9\n",
            "             ..\n",
            "Uganda        1\n",
            "Belgium       1\n",
            "Honduras      1\n",
            "Lebanon       1\n",
            "Togo          1\n",
            "Name: away_team, Length: 130, dtype: int64\n",
            "\n",
            "\n",
            "The frequency table of the type of tournament: \n",
            " Friendly                                      290\n",
            "FIFA World Cup qualification                   97\n",
            "UEFA Euro qualification                        16\n",
            "AFC Asian Cup qualification                     8\n",
            "Cyprus International Tournament                 6\n",
            "Copa América                                    5\n",
            "African Cup of Nations                          4\n",
            "United Arab Emirates Friendship Tournament      3\n",
            "Malta International Tournament                  3\n",
            "Gulf Cup                                        3\n",
            "King's Cup                                      2\n",
            "Prime Minister's Cup                            2\n",
            "SAFF Cup                                        2\n",
            "AFF Championship                                2\n",
            "Confederations Cup                              2\n",
            "UNCAF Cup                                       2\n",
            "Millennium Cup                                  1\n",
            "CFU Caribbean Cup                               1\n",
            "Gold Cup                                        1\n",
            "Korea Cup                                       1\n",
            "UAFA Cup                                        1\n",
            "CFU Caribbean Cup qualification                 1\n",
            "South Pacific Games                             1\n",
            "Gold Cup qualification                          1\n",
            "Merdeka Tournament                              1\n",
            "USA Cup                                         1\n",
            "Name: tournament, dtype: int64\n",
            "\n",
            "\n",
            "The frequency table of the neutral venues: \n",
            " False    397\n",
            "True      60\n",
            "Name: neutral, dtype: int64\n"
          ]
        }
      ],
      "source": [
        "# Frequency Tables\n",
        "country = tmatches.country.value_counts()\n",
        "print(\"The frequency table of countries is: \\n\", country)\n",
        "print(\"\\n\")\n",
        "\n",
        "tournament = tmatches.tournament.value_counts()\n",
        "print(\"The frequency table of the confederations is: \\n\", tournament)\n",
        "print(\"\\n\")\n",
        "\n",
        "home = tmatches.home_team.value_counts()\n",
        "print(\"The frequency table of home teams: \\n\", home)\n",
        "print(\"\\n\")\n",
        "\n",
        "away = tmatches.away_team.value_counts()\n",
        "print(\"The frequency table of the away teams: \\n\", away)\n",
        "print(\"\\n\")\n",
        "\n",
        "tournament = tmatches.tournament.value_counts()\n",
        "print(\"The frequency table of the type of tournament: \\n\", tournament)\n",
        "print(\"\\n\")\n",
        "\n",
        "neutral = tmatches.neutral.value_counts()\n",
        "print(\"The frequency table of the neutral venues: \\n\", neutral)"
      ]
    },
    {
      "cell_type": "code",
      "execution_count": null,
      "metadata": {
        "colab": {
          "background_save": true,
          "base_uri": "https://localhost:8080/",
          "height": 406
        },
        "id": "bIz8smK9ELyU",
        "outputId": "b70ad33b-8a20-4ed0-bcbb-34477b3a9b3a"
      },
      "outputs": [
        {
          "data": {
            "image/png": "[encoded data removed]",
            "text/plain": [
              "<Figure size 432x432 with 1 Axes>"
            ]
          },
          "metadata": {},
          "output_type": "display_data"
        }
      ],
      "source": [
        "# Pie chart of the matches played in neutral venues\n",
        "tmatches['neutral'].value_counts().plot(kind='pie', autopct='%1.1f%%', startangle=140)\n",
        "fig=plt.gcf()\n",
        "fig.set_size_inches(6,6)\n",
        "plt.axis('equal')\n",
        "plt.legend(loc='upper right')\n",
        "plt.title('Pie Chart of Neutral Venues', y=1.1)\n",
        "plt.show()"
      ]
    },
    {
      "cell_type": "markdown",
      "metadata": {
        "id": "ZZx_O2RBI-94"
      },
      "source": [
        "## Numerical Variables"
      ]
    },
    {
      "cell_type": "markdown",
      "metadata": {
        "id": "XUoG6EYcJLD2"
      },
      "source": [
        "### Measures of Central Tendency"
      ]
    },
    {
      "cell_type": "code",
      "execution_count": null,
      "metadata": {
        "colab": {
          "background_save": true,
          "base_uri": "https://localhost:8080/"
        },
        "id": "NG3YJs6HJHVk",
        "outputId": "04f3ee07-2785-4e37-a7eb-151cfdd8c0a7"
      },
      "outputs": [
        {
          "name": "stdout",
          "output_type": "stream",
          "text": [
            "The average home score is:  1.4835886214442013\n",
            "\n",
            "\n",
            "The average away score is:  0.962800875273523\n",
            "\n",
            "\n"
          ]
        }
      ],
      "source": [
        "# Mean \n",
        "home_mean = tmatches['home_score'].mean()\n",
        "print(\"The average home score is: \", home_mean)\n",
        "print('\\n')\n",
        "\n",
        "away_mean = tmatches['away_score'].mean()\n",
        "print(\"The average away score is: \", away_mean)\n",
        "print('\\n')\n"
      ]
    },
    {
      "cell_type": "code",
      "execution_count": null,
      "metadata": {
        "colab": {
          "background_save": true,
          "base_uri": "https://localhost:8080/"
        },
        "id": "_HnTCNbMJ654",
        "outputId": "4204a5e3-2641-4e86-e2be-f2adedf6192a"
      },
      "outputs": [
        {
          "name": "stdout",
          "output_type": "stream",
          "text": [
            "The median of the home score is:  1.0\n",
            "\n",
            "\n",
            "The median of the away score is:  1.0\n",
            "\n",
            "\n"
          ]
        }
      ],
      "source": [
        "# Median\n",
        "home_median = tmatches['home_score'].median()\n",
        "print(\"The median of the home score is: \", home_median)\n",
        "print('\\n')\n",
        "\n",
        "away_median = tmatches['away_score'].median()\n",
        "print(\"The median of the away score is: \", away_median)\n",
        "print('\\n')"
      ]
    },
    {
      "cell_type": "markdown",
      "metadata": {
        "id": "kDsDIC8iKQ-i"
      },
      "source": [
        "### Measures of Dispersion"
      ]
    },
    {
      "cell_type": "code",
      "execution_count": null,
      "metadata": {
        "colab": {
          "background_save": true,
          "base_uri": "https://localhost:8080/"
        },
        "id": "vDffSAm0KC1I",
        "outputId": "f7b0ec51-c47a-4797-9888-dbb12a07b22e"
      },
      "outputs": [
        {
          "name": "stderr",
          "output_type": "stream",
          "text": [
            "<ipython-input-56-83c93347e0ab>:2: FutureWarning: Dropping of nuisance columns in DataFrame reductions (with 'numeric_only=None') is deprecated; in a future version this will raise TypeError.  Select only valid columns before calling the reduction.\n",
            "  tmatches.std()\n"
          ]
        },
        {
          "data": {
            "text/plain": [
              "date          1096 days 15:34:39.876755248\n",
              "home_score                        1.301254\n",
              "away_score                        1.072347\n",
              "neutral                           0.338088\n",
              "home_rank                        41.042257\n",
              "away_rank                        44.013181\n",
              "dtype: object"
            ]
          },
          "execution_count": 56,
          "metadata": {},
          "output_type": "execute_result"
        }
      ],
      "source": [
        "# Standard Deviation\n",
        "tmatches.std()"
      ]
    },
    {
      "cell_type": "code",
      "execution_count": null,
      "metadata": {
        "colab": {
          "background_save": true,
          "base_uri": "https://localhost:8080/"
        },
        "id": "n0P9nJ_SKfsC",
        "outputId": "199b83c9-fcb4-49bd-b84b-df608e76fe04"
      },
      "outputs": [
        {
          "name": "stderr",
          "output_type": "stream",
          "text": [
            "<ipython-input-57-3288b65f54b2>:2: FutureWarning: Dropping of nuisance columns in DataFrame reductions (with 'numeric_only=None') is deprecated; in a future version this will raise TypeError.  Select only valid columns before calling the reduction.\n",
            "  tmatches.var()\n"
          ]
        },
        {
          "data": {
            "text/plain": [
              "home_score       1.693261\n",
              "away_score       1.149929\n",
              "neutral          0.114304\n",
              "home_rank     1684.466841\n",
              "away_rank     1937.160093\n",
              "dtype: float64"
            ]
          },
          "execution_count": 57,
          "metadata": {},
          "output_type": "execute_result"
        }
      ],
      "source": [
        "# Variance\n",
        "tmatches.var()"
      ]
    },
    {
      "cell_type": "code",
      "execution_count": null,
      "metadata": {
        "colab": {
          "background_save": true,
          "base_uri": "https://localhost:8080/",
          "height": 143
        },
        "id": "cE3qdkIpKnNG",
        "outputId": "76df1851-c3ea-49c9-cd5a-ebc2d731a13a"
      },
      "outputs": [
        {
          "data": {
            "text/html": [
              "\n",
              "  <div id=\"df-39c423cc-1d30-4446-af9f-da77628b2e88\">\n",
              "    <div class=\"colab-df-container\">\n",
              "      <div>\n",
              "<style scoped>\n",
              "    .dataframe tbody tr th:only-of-type {\n",
              "        vertical-align: middle;\n",
              "    }\n",
              "\n",
              "    .dataframe tbody tr th {\n",
              "        vertical-align: top;\n",
              "    }\n",
              "\n",
              "    .dataframe thead th {\n",
              "        text-align: right;\n",
              "    }\n",
              "</style>\n",
              "<table border=\"1\" class=\"dataframe\">\n",
              "  <thead>\n",
              "    <tr style=\"text-align: right;\">\n",
              "      <th></th>\n",
              "      <th>home_score</th>\n",
              "      <th>away_score</th>\n",
              "    </tr>\n",
              "  </thead>\n",
              "  <tbody>\n",
              "    <tr>\n",
              "      <th>0.25</th>\n",
              "      <td>0.0</td>\n",
              "      <td>0.0</td>\n",
              "    </tr>\n",
              "    <tr>\n",
              "      <th>0.50</th>\n",
              "      <td>1.0</td>\n",
              "      <td>1.0</td>\n",
              "    </tr>\n",
              "    <tr>\n",
              "      <th>0.75</th>\n",
              "      <td>2.0</td>\n",
              "      <td>2.0</td>\n",
              "    </tr>\n",
              "  </tbody>\n",
              "</table>\n",
              "</div>\n",
              "      <button class=\"colab-df-convert\" onclick=\"convertToInteractive('df-39c423cc-1d30-4446-af9f-da77628b2e88')\"\n",
              "              title=\"Convert this dataframe to an interactive table.\"\n",
              "              style=\"display:none;\">\n",
              "        \n",
              "  <svg xmlns=\"http://www.w3.org/2000/svg\" height=\"24px\"viewBox=\"0 0 24 24\"\n",
              "       width=\"24px\">\n",
              "    <path d=\"M0 0h24v24H0V0z\" fill=\"none\"/>\n",
              "    <path d=\"M18.56 5.44l.94 2.06.94-2.06 2.06-.94-2.06-.94-.94-2.06-.94 2.06-2.06.94zm-11 1L8.5 8.5l.94-2.06 2.06-.94-2.06-.94L8.5 2.5l-.94 2.06-2.06.94zm10 10l.94 2.06.94-2.06 2.06-.94-2.06-.94-.94-2.06-.94 2.06-2.06.94z\"/><path d=\"M17.41 7.96l-1.37-1.37c-.4-.4-.92-.59-1.43-.59-.52 0-1.04.2-1.43.59L10.3 9.45l-7.72 7.72c-.78.78-.78 2.05 0 2.83L4 21.41c.39.39.9.59 1.41.59.51 0 1.02-.2 1.41-.59l7.78-7.78 2.81-2.81c.8-.78.8-2.07 0-2.86zM5.41 20L4 18.59l7.72-7.72 1.47 1.35L5.41 20z\"/>\n",
              "  </svg>\n",
              "      </button>\n",
              "      \n",
              "  <style>\n",
              "    .colab-df-container {\n",
              "      display:flex;\n",
              "      flex-wrap:wrap;\n",
              "      gap: 12px;\n",
              "    }\n",
              "\n",
              "    .colab-df-convert {\n",
              "      background-color: #E8F0FE;\n",
              "      border: none;\n",
              "      border-radius: 50%;\n",
              "      cursor: pointer;\n",
              "      display: none;\n",
              "      fill: #1967D2;\n",
              "      height: 32px;\n",
              "      padding: 0 0 0 0;\n",
              "      width: 32px;\n",
              "    }\n",
              "\n",
              "    .colab-df-convert:hover {\n",
              "      background-color: #E2EBFA;\n",
              "      box-shadow: 0px 1px 2px rgba(60, 64, 67, 0.3), 0px 1px 3px 1px rgba(60, 64, 67, 0.15);\n",
              "      fill: #174EA6;\n",
              "    }\n",
              "\n",
              "    [theme=dark] .colab-df-convert {\n",
              "      background-color: #3B4455;\n",
              "      fill: #D2E3FC;\n",
              "    }\n",
              "\n",
              "    [theme=dark] .colab-df-convert:hover {\n",
              "      background-color: #434B5C;\n",
              "      box-shadow: 0px 1px 3px 1px rgba(0, 0, 0, 0.15);\n",
              "      filter: drop-shadow(0px 1px 2px rgba(0, 0, 0, 0.3));\n",
              "      fill: #FFFFFF;\n",
              "    }\n",
              "  </style>\n",
              "\n",
              "      <script>\n",
              "        const buttonEl =\n",
              "          document.querySelector('#df-39c423cc-1d30-4446-af9f-da77628b2e88 button.colab-df-convert');\n",
              "        buttonEl.style.display =\n",
              "          google.colab.kernel.accessAllowed ? 'block' : 'none';\n",
              "\n",
              "        async function convertToInteractive(key) {\n",
              "          const element = document.querySelector('#df-39c423cc-1d30-4446-af9f-da77628b2e88');\n",
              "          const dataTable =\n",
              "            await google.colab.kernel.invokeFunction('convertToInteractive',\n",
              "                                                     [key], {});\n",
              "          if (!dataTable) return;\n",
              "\n",
              "          const docLinkHtml = 'Like what you see? Visit the ' +\n",
              "            '<a target=\"_blank\" href=https://colab.research.google.com/notebooks/data_table.ipynb>data table notebook</a>'\n",
              "            + ' to learn more about interactive tables.';\n",
              "          element.innerHTML = '';\n",
              "          dataTable['output_type'] = 'display_data';\n",
              "          await google.colab.output.renderOutput(dataTable, element);\n",
              "          const docLink = document.createElement('div');\n",
              "          docLink.innerHTML = docLinkHtml;\n",
              "          element.appendChild(docLink);\n",
              "        }\n",
              "      </script>\n",
              "    </div>\n",
              "  </div>\n",
              "  "
            ],
            "text/plain": [
              "      home_score  away_score\n",
              "0.25         0.0         0.0\n",
              "0.50         1.0         1.0\n",
              "0.75         2.0         2.0"
            ]
          },
          "execution_count": 58,
          "metadata": {},
          "output_type": "execute_result"
        }
      ],
      "source": [
        "# Quantiles\n",
        "tmatches[['home_score','away_score']].quantile([0.25,0.50,0.75])"
      ]
    },
    {
      "cell_type": "code",
      "execution_count": null,
      "metadata": {
        "colab": {
          "background_save": true,
          "base_uri": "https://localhost:8080/"
        },
        "id": "2j8VCFfmKzHJ",
        "outputId": "77d83c7e-d393-42c9-b67b-df6c897d5f51"
      },
      "outputs": [
        {
          "name": "stdout",
          "output_type": "stream",
          "text": [
            "The range within the fifa results is: \n",
            " home_score    5\n",
            "away_score    5\n",
            "dtype: int64\n"
          ]
        }
      ],
      "source": [
        "# Range\n",
        "max = tmatches[['home_score','away_score']].max()\n",
        "min = tmatches[['home_score','away_score']].min()\n",
        "range = max - min\n",
        "print(\"The range within the fifa results is: \\n\", range)"
      ]
    },
    {
      "cell_type": "code",
      "execution_count": null,
      "metadata": {
        "colab": {
          "background_save": true,
          "base_uri": "https://localhost:8080/"
        },
        "id": "WHHp5C1aLCfb",
        "outputId": "39db0d06-31c6-4956-d4e1-aff11bcd5484"
      },
      "outputs": [
        {
          "name": "stdout",
          "output_type": "stream",
          "text": [
            "The kurtosis of the home score is: \n",
            " 0.2528915690934652\n",
            "The home score is leptokurtic\n",
            "\n",
            "\n",
            "The kurtosis of the away score is: \n",
            " 1.1021298828787867\n",
            "The away score column is leptokurtic\n",
            "\n",
            "\n"
          ]
        }
      ],
      "source": [
        "# Kurtosis\n",
        "home_kurt = tmatches['home_score'].kurt()\n",
        "print(\"The kurtosis of the home score is: \\n\", home_kurt)\n",
        "\n",
        "if home_kurt > 0:\n",
        "  print(\"The home score is leptokurtic\")\n",
        "elif home_kurt < 0:\n",
        "  print(\"The home score is platykurtic\")\n",
        "else:\n",
        "  print(\"The home score is mesokurtic\")\n",
        "print('\\n') \n",
        "\n",
        "away_kurt = tmatches['away_score'].kurt()\n",
        "print(\"The kurtosis of the away score is: \\n\", away_kurt)\n",
        "\n",
        "if away_kurt > 0:\n",
        "  print(\"The away score column is leptokurtic\")\n",
        "elif away_kurt < 0:\n",
        "  print(\"The away score is platykurtic\")\n",
        "else:\n",
        "  print(\"The away score is mesokurtic\")\n",
        "print('\\n')"
      ]
    },
    {
      "cell_type": "code",
      "execution_count": null,
      "metadata": {
        "colab": {
          "background_save": true,
          "base_uri": "https://localhost:8080/"
        },
        "id": "BmIQPlNhL-8g",
        "outputId": "ec970097-d16f-4d12-c7ee-437b04e2c0be"
      },
      "outputs": [
        {
          "name": "stdout",
          "output_type": "stream",
          "text": [
            "The skewness of the home score is: \n",
            " 0.8308630163886059\n",
            "The distribution is positively skewed\n",
            "\n",
            "\n",
            "The skewness of the away score is: \n",
            " 1.1566476723773365\n",
            "The distribution is positively skewed\n",
            "\n",
            "\n"
          ]
        }
      ],
      "source": [
        "# Skewness\n",
        "home_skew = tmatches['home_score'].skew()\n",
        "print(\"The skewness of the home score is: \\n\", home_skew)\n",
        "if home_skew == 0:\n",
        "  print(\"The distribution is symmetrical\")\n",
        "elif home_skew > 0:\n",
        "  print(\"The distribution is positively skewed\")\n",
        "else:\n",
        "  print(\"The distribution is negatively skewed\")\n",
        "print('\\n')\n",
        "\n",
        "away_skew = tmatches['away_score'].skew()\n",
        "print(\"The skewness of the away score is: \\n\", away_skew)\n",
        "if away_skew == 0:\n",
        "  print(\"The distribution is symmetrical\")\n",
        "elif away_skew > 0:\n",
        "  print(\"The distribution is positively skewed\")\n",
        "else:\n",
        "  print(\"The distribution is negatively skewed\")\n",
        "print('\\n')"
      ]
    },
    {
      "cell_type": "code",
      "execution_count": null,
      "metadata": {
        "colab": {
          "background_save": true,
          "base_uri": "https://localhost:8080/",
          "height": 350
        },
        "id": "APon0p8R6dY4",
        "outputId": "68469fcd-16a0-4d24-91a8-0c1201c9c49e"
      },
      "outputs": [
        {
          "name": "stderr",
          "output_type": "stream",
          "text": [
            "/usr/local/lib/python3.8/dist-packages/seaborn/_decorators.py:36: FutureWarning: Pass the following variable as a keyword arg: x. From version 0.12, the only valid positional argument will be `data`, and passing other arguments without an explicit keyword will result in an error or misinterpretation.\n",
            "  warnings.warn(\n"
          ]
        },
        {
          "data": {
            "image/png": "[encoded data removed]",
            "text/plain": [
              "<Figure size 432x288 with 1 Axes>"
            ]
          },
          "metadata": {},
          "output_type": "display_data"
        }
      ],
      "source": [
        "# visualize the home scores using a countplot\n",
        "#plt.hist(tmatches['home_score'], bins= [0,1,2,3,4,5,6,7], rwidth = 4, color ='grey')\n",
        "sns.countplot(tmatches.home_score)\n",
        "\n",
        "# Labelling our x axis\n",
        "plt.xlabel(\"Number of Home Goals Scored\")\n",
        "\n",
        "# Labelling our y axis\n",
        "plt.ylabel(\"Frequency\")\n",
        "\n",
        "# Giving a title to our Bar chart\n",
        "plt.title(\"Frequency of Home Goals Scored\")\n",
        "\n",
        "# Displaying our chart\n",
        "plt.show()"
      ]
    },
    {
      "cell_type": "code",
      "execution_count": null,
      "metadata": {
        "colab": {
          "background_save": true,
          "base_uri": "https://localhost:8080/",
          "height": 359
        },
        "id": "bI23cCHtMi7r",
        "outputId": "03cd67e8-d817-4a8d-cfef-1858acdc071e"
      },
      "outputs": [
        {
          "name": "stderr",
          "output_type": "stream",
          "text": [
            "/usr/local/lib/python3.8/dist-packages/seaborn/_decorators.py:36: FutureWarning: Pass the following variable as a keyword arg: x. From version 0.12, the only valid positional argument will be `data`, and passing other arguments without an explicit keyword will result in an error or misinterpretation.\n",
            "  warnings.warn(\n"
          ]
        },
        {
          "data": {
            "image/png": "[encoded data removed]",
            "text/plain": [
              "<Figure size 432x288 with 1 Axes>"
            ]
          },
          "metadata": {},
          "output_type": "display_data"
        }
      ],
      "source": [
        "# visualize the home scores using a countplot\n",
        "# plot the count plot\n",
        "\n",
        "sns.countplot(tmatches.away_score)\n",
        "\n",
        "# label the chart\n",
        "plt.title('Distribution of Away Team Goals', fontsize=20, y=1.018)\n",
        "# label the x axis\n",
        "plt.xlabel('Number of Goals')\n",
        "# label the y axis\n",
        "plt.ylabel('Frequency of Away Goals')\n",
        "# display the chart\n",
        "plt.show()"
      ]
    },
    {
      "cell_type": "markdown",
      "metadata": {
        "id": "YviBswD3OQg4"
      },
      "source": [
        " ## Bivariate Data Analysis"
      ]
    },
    {
      "cell_type": "markdown",
      "metadata": {
        "id": "u0BSKZIvOU5f"
      },
      "source": [
        "###Numerical and Numerical Values"
      ]
    },
    {
      "cell_type": "code",
      "execution_count": null,
      "metadata": {
        "colab": {
          "background_save": true,
          "base_uri": "https://localhost:8080/",
          "height": 377
        },
        "id": "Xv5cMADZOjK2",
        "outputId": "4168d24f-5059-4c35-957c-a78808eba976"
      },
      "outputs": [
        {
          "data": {
            "image/png": "[encoded data removed]",
            "text/plain": [
              "<Figure size 504x360 with 1 Axes>"
            ]
          },
          "metadata": {},
          "output_type": "display_data"
        }
      ],
      "source": [
        "# Scatter plot between the rank and the home goals scored\n",
        "homerank=tmatches.groupby('home_rank')['home_score'].count().reset_index(name='total number of home goals per rank')\n",
        "plt.figure(figsize=(7,5))\n",
        "plt.scatter(homerank['home_rank'] , homerank[\"total number of home goals per rank\"], color='blue')\n",
        "plt.xlabel(\"Rank\")\n",
        "plt.ylabel(\"Total number of home goals per rank\")\n",
        "plt.title(\"Scatter plot of total home goals per rank\", y=1.1)\n",
        "plt.show()"
      ]
    },
    {
      "cell_type": "code",
      "execution_count": null,
      "metadata": {
        "colab": {
          "background_save": true,
          "base_uri": "https://localhost:8080/",
          "height": 377
        },
        "id": "ZNzbclBpQ5Q_",
        "outputId": "067e0375-0230-48b0-a5a3-cb0f2559a08e"
      },
      "outputs": [
        {
          "data": {
            "image/png": "[encoded data removed]",
            "text/plain": [
              "<Figure size 504x360 with 1 Axes>"
            ]
          },
          "metadata": {},
          "output_type": "display_data"
        }
      ],
      "source": [
        "# Scatter plot between the rank and the number of away goals scored\n",
        "awayrank=tmatches.groupby('away_rank')['away_score'].count().reset_index(name='total number of away goals per rank')\n",
        "plt.figure(figsize=(7,5))\n",
        "plt.scatter(awayrank['away_rank'] , awayrank[\"total number of away goals per rank\"], color = 'green')\n",
        "plt.xlabel(\"Rank\")\n",
        "plt.ylabel(\"Total number of away goals per rank\")\n",
        "plt.title(\"Scatter plot of total away goals per rank\", y=1.1)\n",
        "plt.show()"
      ]
    },
    {
      "cell_type": "markdown",
      "metadata": {
        "id": "LLs3jSP2R5ZM"
      },
      "source": [
        "##Correlation matrix"
      ]
    },
    {
      "cell_type": "code",
      "execution_count": null,
      "metadata": {
        "colab": {
          "background_save": true,
          "base_uri": "https://localhost:8080/",
          "height": 596
        },
        "id": "SG1ripFbR7-A",
        "outputId": "eb3a7c96-c322-45af-d146-db3404c8e624"
      },
      "outputs": [
        {
          "data": {
            "image/png": "[encoded data removed]",
            "text/plain": [
              "<Figure size 864x720 with 2 Axes>"
            ]
          },
          "metadata": {},
          "output_type": "display_data"
        }
      ],
      "source": [
        "# Visualization using a heatmap\n",
        "plt.figure(figsize=(12,10))\n",
        "sns.heatmap(tmatches.corr(), annot=True)\n",
        "plt.show()"
      ]
    },
    {
      "cell_type": "code",
      "execution_count": null,
      "metadata": {
        "id": "--Ozzp6LphrP"
      },
      "outputs": [],
      "source": [
        "# Importing libraries\n",
        "from sklearn.preprocessing import LabelEncoder \n",
        "from sklearn.preprocessing import StandardScaler , PolynomialFeatures\n",
        "from sklearn.model_selection import train_test_split\n",
        "from sklearn.linear_model import LinearRegression , LogisticRegression\n",
        "from sklearn.metrics import mean_squared_error , accuracy_score , confusion_matrix\n",
        "from sklearn.model_selection import GridSearchCV , KFold , StratifiedKFold , cross_val_score\n",
        "from sklearn.pipeline import Pipeline\n",
        "import warnings \n",
        "warnings.filterwarnings('ignore')"
      ]
    },
    {
      "cell_type": "code",
      "execution_count": null,
      "metadata": {
        "colab": {
          "base_uri": "https://localhost:8080/"
        },
        "id": "go42IAbRptWU",
        "outputId": "6654a20d-4b2f-45e2-9f66-1a007b69545a"
      },
      "outputs": [
        {
          "name": "stdout",
          "output_type": "stream",
          "text": [
            "<class 'pandas.core.frame.DataFrame'>\n",
            "Int64Index: 837 entries, 0 to 865\n",
            "Data columns (total 13 columns):\n",
            " #   Column              Non-Null Count  Dtype         \n",
            "---  ------              --------------  -----         \n",
            " 0   date                837 non-null    datetime64[ns]\n",
            " 1   home_team           837 non-null    object        \n",
            " 2   away_team           837 non-null    object        \n",
            " 3   home_score          837 non-null    int64         \n",
            " 4   away_score          837 non-null    int64         \n",
            " 5   tournament          837 non-null    object        \n",
            " 6   city                837 non-null    object        \n",
            " 7   country             837 non-null    object        \n",
            " 8   neutral             837 non-null    bool          \n",
            " 9   home_rank           837 non-null    int64         \n",
            " 10  confederation_home  837 non-null    object        \n",
            " 11  away_rank           837 non-null    int64         \n",
            " 12  confederation_away  837 non-null    object        \n",
            "dtypes: bool(1), datetime64[ns](1), int64(4), object(7)\n",
            "memory usage: 118.1+ KB\n"
          ]
        }
      ],
      "source": [
        "tmatches.info()"
      ]
    },
    {
      "cell_type": "markdown",
      "metadata": {
        "id": "tIaL6bo_pvy1"
      },
      "source": [
        "\n",
        "These features are categorical in nature; therefore, it is unlikely that polynomial regression models will do well in accomplishing the objective of predicting the home teams' and away teams' scores, but we will use them as numerical data just to see how the model will fair"
      ]
    },
    {
      "cell_type": "markdown",
      "metadata": {
        "id": "GVJTGuOPpx8O"
      },
      "source": [
        "# Feature selection and engineering"
      ]
    },
    {
      "cell_type": "markdown",
      "metadata": {
        "id": "sWAeoNw0p2eg"
      },
      "source": [
        "###Feature selection"
      ]
    },
    {
      "cell_type": "code",
      "execution_count": null,
      "metadata": {
        "id": "pv3z5fZWWx6_"
      },
      "outputs": [],
      "source": [
        "matches_copy = tmatches.copy(deep=True)"
      ]
    },
    {
      "cell_type": "markdown",
      "metadata": {
        "id": "pC8EOxWsp9Gg"
      },
      "source": [
        "### Feature engineering"
      ]
    },
    {
      "cell_type": "code",
      "execution_count": null,
      "metadata": {
        "colab": {
          "base_uri": "https://localhost:8080/"
        },
        "id": "YXoL28GwqSRW",
        "outputId": "5180f880-f6f1-4635-dfac-9294cb073a44"
      },
      "outputs": [
        {
          "name": "stdout",
          "output_type": "stream",
          "text": [
            "Friendly                                      570\n",
            "FIFA World Cup qualification                  134\n",
            "UEFA Euro qualification                        37\n",
            "AFC Asian Cup qualification                    31\n",
            "Cyprus International Tournament                 8\n",
            "AFF Championship                                7\n",
            "Gulf Cup                                        7\n",
            "Copa América                                    6\n",
            "CECAFA Cup                                      6\n",
            "Gold Cup                                        5\n",
            "African Cup of Nations qualification            5\n",
            "African Cup of Nations                          4\n",
            "AFC Asian Cup                                   4\n",
            "SAFF Cup                                        4\n",
            "United Arab Emirates Friendship Tournament      3\n",
            "African Nations Championship                    3\n",
            "King's Cup                                      3\n",
            "Malta International Tournament                  3\n",
            "Oceania Nations Cup                             2\n",
            "Confederations Cup                              2\n",
            "Prime Minister's Cup                            2\n",
            "CFU Caribbean Cup qualification                 2\n",
            "Merdeka Tournament                              2\n",
            "CFU Caribbean Cup                               2\n",
            "UNCAF Cup                                       2\n",
            "UAFA Cup                                        1\n",
            "Gold Cup qualification                          1\n",
            "Millennium Cup                                  1\n",
            "Nehru Cup                                       1\n",
            "COSAFA Cup                                      1\n",
            "USA Cup                                         1\n",
            "EAFF Championship                               1\n",
            "AFC Challenge Cup qualification                 1\n",
            "South Pacific Games                             1\n",
            "Copa del Pacífico                               1\n",
            "Korea Cup                                       1\n",
            "Windward Islands Tournament                     1\n",
            "Name: tournament, dtype: int64\n",
            "Friendly                                      562\n",
            "FIFA World Cup qualification                  121\n",
            "UEFA Euro qualification                        34\n",
            "AFC Asian Cup qualification                    30\n",
            "Cyprus International Tournament                 8\n",
            "Gulf Cup                                        7\n",
            "AFF Championship                                6\n",
            "CECAFA Cup                                      6\n",
            "Copa América                                    5\n",
            "African Cup of Nations qualification            5\n",
            "Gold Cup                                        4\n",
            "AFC Asian Cup                                   4\n",
            "African Cup of Nations                          4\n",
            "SAFF Cup                                        4\n",
            "United Arab Emirates Friendship Tournament      3\n",
            "African Nations Championship                    3\n",
            "King's Cup                                      3\n",
            "Malta International Tournament                  3\n",
            "Confederations Cup                              2\n",
            "Prime Minister's Cup                            2\n",
            "Merdeka Tournament                              2\n",
            "UNCAF Cup                                       2\n",
            "Oceania Nations Cup                             2\n",
            "CFU Caribbean Cup                               2\n",
            "AFC Challenge Cup qualification                 1\n",
            "EAFF Championship                               1\n",
            "COSAFA Cup                                      1\n",
            "Copa del Pacífico                               1\n",
            "CFU Caribbean Cup qualification                 1\n",
            "Nehru Cup                                       1\n",
            "Gold Cup qualification                          1\n",
            "UAFA Cup                                        1\n",
            "Millennium Cup                                  1\n",
            "USA Cup                                         1\n",
            "South Pacific Games                             1\n",
            "Korea Cup                                       1\n",
            "Windward Islands Tournament                     1\n",
            "Name: tournament, dtype: int64\n"
          ]
        }
      ],
      "source": [
        "# check how the values have been transformed by comparing with the uncoded values in the original dataset\n",
        "print(matches.tournament.value_counts())\n",
        "print(matches_copy.tournament.value_counts())"
      ]
    },
    {
      "cell_type": "markdown",
      "metadata": {
        "id": "k1-aRGTnq6LM"
      },
      "source": [
        "We will use polynomial regression to create a model that predicts the results of a home team and another model that predicts the results of an away team based on the home team's rank, away team's rank and the tournament's type."
      ]
    },
    {
      "cell_type": "code",
      "execution_count": null,
      "metadata": {
        "id": "6C-wD6qiqz4I"
      },
      "outputs": [],
      "source": [
        "# Generating a status column\n",
        "# Creating a list to display the conditions of the match from the home team's perspective(Win, Lose, DrawS) \n",
        "conditions = [\n",
        "    (matches_copy['home_score'] > matches_copy['away_score']),\n",
        "    (matches_copy['home_score'] < matches_copy['away_score']),\n",
        "    (matches_copy['home_score'] == matches_copy['away_score'])\n",
        "    ]\n",
        "\n",
        "# Create a list of the status we want to assign for each condition\n",
        "status = ['Win', 'Lose', 'Draw']\n",
        "\n",
        "# Create a new column and use np.select to assign values to it using our lists as arguments\n",
        "matches_copy ['status'] = np.select(conditions, status)    "
      ]
    },
    {
      "cell_type": "code",
      "execution_count": null,
      "metadata": {
        "id": "ip9vDDmgq7bH"
      },
      "outputs": [],
      "source": [
        "# Genearting a column that tells us whether the tournament was a friendly or not\n",
        "def tournament(t):\n",
        "    if t == 'Friendly':\n",
        "        return 'Friendly'\n",
        "    else:\n",
        "        return 'Not Friendly'\n",
        "      \n",
        "matches_copy['tournament_type'] = matches_copy.tournament.apply(lambda i: tournament(i))"
      ]
    },
    {
      "cell_type": "code",
      "execution_count": null,
      "metadata": {
        "colab": {
          "base_uri": "https://localhost:8080/"
        },
        "id": "W-agoQ8nofo8",
        "outputId": "f17b32f0-87d4-416a-8e75-18b8864e6153"
      },
      "outputs": [
        {
          "data": {
            "text/html": [
              "\n",
              "  <div id=\"df-e0ff2a7c-a4fd-4d39-bad4-6f6e8583ebf0\">\n",
              "    <div class=\"colab-df-container\">\n",
              "      <div>\n",
              "<style scoped>\n",
              "    .dataframe tbody tr th:only-of-type {\n",
              "        vertical-align: middle;\n",
              "    }\n",
              "\n",
              "    .dataframe tbody tr th {\n",
              "        vertical-align: top;\n",
              "    }\n",
              "\n",
              "    .dataframe thead th {\n",
              "        text-align: right;\n",
              "    }\n",
              "</style>\n",
              "<table border=\"1\" class=\"dataframe\">\n",
              "  <thead>\n",
              "    <tr style=\"text-align: right;\">\n",
              "      <th></th>\n",
              "      <th>date</th>\n",
              "      <th>home_team</th>\n",
              "      <th>away_team</th>\n",
              "      <th>home_score</th>\n",
              "      <th>away_score</th>\n",
              "      <th>tournament</th>\n",
              "      <th>city</th>\n",
              "      <th>country</th>\n",
              "      <th>neutral</th>\n",
              "      <th>home_rank</th>\n",
              "      <th>confederation_home</th>\n",
              "      <th>away_rank</th>\n",
              "      <th>confederation_away</th>\n",
              "      <th>status</th>\n",
              "      <th>tournament_type</th>\n",
              "    </tr>\n",
              "  </thead>\n",
              "  <tbody>\n",
              "    <tr>\n",
              "      <th>0</th>\n",
              "      <td>1993-08-08</td>\n",
              "      <td>Bolivia</td>\n",
              "      <td>Uruguay</td>\n",
              "      <td>3</td>\n",
              "      <td>1</td>\n",
              "      <td>FIFA World Cup qualification</td>\n",
              "      <td>La Paz</td>\n",
              "      <td>Bolivia</td>\n",
              "      <td>False</td>\n",
              "      <td>59</td>\n",
              "      <td>CONMEBOL</td>\n",
              "      <td>22</td>\n",
              "      <td>CONMEBOL</td>\n",
              "      <td>Win</td>\n",
              "      <td>Not Friendly</td>\n",
              "    </tr>\n",
              "    <tr>\n",
              "      <th>1</th>\n",
              "      <td>1993-08-08</td>\n",
              "      <td>Brazil</td>\n",
              "      <td>Mexico</td>\n",
              "      <td>1</td>\n",
              "      <td>1</td>\n",
              "      <td>Friendly</td>\n",
              "      <td>Maceió</td>\n",
              "      <td>Brazil</td>\n",
              "      <td>False</td>\n",
              "      <td>8</td>\n",
              "      <td>CONMEBOL</td>\n",
              "      <td>14</td>\n",
              "      <td>CONCACAF</td>\n",
              "      <td>Draw</td>\n",
              "      <td>Friendly</td>\n",
              "    </tr>\n",
              "    <tr>\n",
              "      <th>2</th>\n",
              "      <td>1993-08-08</td>\n",
              "      <td>Ecuador</td>\n",
              "      <td>Venezuela</td>\n",
              "      <td>5</td>\n",
              "      <td>0</td>\n",
              "      <td>FIFA World Cup qualification</td>\n",
              "      <td>Quito</td>\n",
              "      <td>Ecuador</td>\n",
              "      <td>False</td>\n",
              "      <td>35</td>\n",
              "      <td>CONMEBOL</td>\n",
              "      <td>94</td>\n",
              "      <td>CONMEBOL</td>\n",
              "      <td>Win</td>\n",
              "      <td>Not Friendly</td>\n",
              "    </tr>\n",
              "    <tr>\n",
              "      <th>3</th>\n",
              "      <td>1993-08-08</td>\n",
              "      <td>Guinea</td>\n",
              "      <td>Sierra Leone</td>\n",
              "      <td>1</td>\n",
              "      <td>0</td>\n",
              "      <td>Friendly</td>\n",
              "      <td>Conakry</td>\n",
              "      <td>Guinea</td>\n",
              "      <td>False</td>\n",
              "      <td>65</td>\n",
              "      <td>CAF</td>\n",
              "      <td>86</td>\n",
              "      <td>CAF</td>\n",
              "      <td>Win</td>\n",
              "      <td>Friendly</td>\n",
              "    </tr>\n",
              "    <tr>\n",
              "      <th>4</th>\n",
              "      <td>1993-08-08</td>\n",
              "      <td>Paraguay</td>\n",
              "      <td>Argentina</td>\n",
              "      <td>1</td>\n",
              "      <td>3</td>\n",
              "      <td>FIFA World Cup qualification</td>\n",
              "      <td>Asunción</td>\n",
              "      <td>Paraguay</td>\n",
              "      <td>False</td>\n",
              "      <td>67</td>\n",
              "      <td>CONMEBOL</td>\n",
              "      <td>5</td>\n",
              "      <td>CONMEBOL</td>\n",
              "      <td>Lose</td>\n",
              "      <td>Not Friendly</td>\n",
              "    </tr>\n",
              "    <tr>\n",
              "      <th>5</th>\n",
              "      <td>1993-08-08</td>\n",
              "      <td>Peru</td>\n",
              "      <td>Colombia</td>\n",
              "      <td>0</td>\n",
              "      <td>1</td>\n",
              "      <td>FIFA World Cup qualification</td>\n",
              "      <td>Lima</td>\n",
              "      <td>Peru</td>\n",
              "      <td>False</td>\n",
              "      <td>70</td>\n",
              "      <td>CONMEBOL</td>\n",
              "      <td>19</td>\n",
              "      <td>CONMEBOL</td>\n",
              "      <td>Lose</td>\n",
              "      <td>Not Friendly</td>\n",
              "    </tr>\n",
              "    <tr>\n",
              "      <th>6</th>\n",
              "      <td>1993-09-23</td>\n",
              "      <td>Saudi Arabia</td>\n",
              "      <td>Costa Rica</td>\n",
              "      <td>1</td>\n",
              "      <td>2</td>\n",
              "      <td>Friendly</td>\n",
              "      <td>Khobar</td>\n",
              "      <td>Saudi Arabia</td>\n",
              "      <td>False</td>\n",
              "      <td>44</td>\n",
              "      <td>AFC</td>\n",
              "      <td>38</td>\n",
              "      <td>CONCACAF</td>\n",
              "      <td>Lose</td>\n",
              "      <td>Friendly</td>\n",
              "    </tr>\n",
              "  </tbody>\n",
              "</table>\n",
              "</div>\n",
              "      <button class=\"colab-df-convert\" onclick=\"convertToInteractive('df-e0ff2a7c-a4fd-4d39-bad4-6f6e8583ebf0')\"\n",
              "              title=\"Convert this dataframe to an interactive table.\"\n",
              "              style=\"display:none;\">\n",
              "        \n",
              "  <svg xmlns=\"http://www.w3.org/2000/svg\" height=\"24px\"viewBox=\"0 0 24 24\"\n",
              "       width=\"24px\">\n",
              "    <path d=\"M0 0h24v24H0V0z\" fill=\"none\"/>\n",
              "    <path d=\"M18.56 5.44l.94 2.06.94-2.06 2.06-.94-2.06-.94-.94-2.06-.94 2.06-2.06.94zm-11 1L8.5 8.5l.94-2.06 2.06-.94-2.06-.94L8.5 2.5l-.94 2.06-2.06.94zm10 10l.94 2.06.94-2.06 2.06-.94-2.06-.94-.94-2.06-.94 2.06-2.06.94z\"/><path d=\"M17.41 7.96l-1.37-1.37c-.4-.4-.92-.59-1.43-.59-.52 0-1.04.2-1.43.59L10.3 9.45l-7.72 7.72c-.78.78-.78 2.05 0 2.83L4 21.41c.39.39.9.59 1.41.59.51 0 1.02-.2 1.41-.59l7.78-7.78 2.81-2.81c.8-.78.8-2.07 0-2.86zM5.41 20L4 18.59l7.72-7.72 1.47 1.35L5.41 20z\"/>\n",
              "  </svg>\n",
              "      </button>\n",
              "      \n",
              "  <style>\n",
              "    .colab-df-container {\n",
              "      display:flex;\n",
              "      flex-wrap:wrap;\n",
              "      gap: 12px;\n",
              "    }\n",
              "\n",
              "    .colab-df-convert {\n",
              "      background-color: #E8F0FE;\n",
              "      border: none;\n",
              "      border-radius: 50%;\n",
              "      cursor: pointer;\n",
              "      display: none;\n",
              "      fill: #1967D2;\n",
              "      height: 32px;\n",
              "      padding: 0 0 0 0;\n",
              "      width: 32px;\n",
              "    }\n",
              "\n",
              "    .colab-df-convert:hover {\n",
              "      background-color: #E2EBFA;\n",
              "      box-shadow: 0px 1px 2px rgba(60, 64, 67, 0.3), 0px 1px 3px 1px rgba(60, 64, 67, 0.15);\n",
              "      fill: #174EA6;\n",
              "    }\n",
              "\n",
              "    [theme=dark] .colab-df-convert {\n",
              "      background-color: #3B4455;\n",
              "      fill: #D2E3FC;\n",
              "    }\n",
              "\n",
              "    [theme=dark] .colab-df-convert:hover {\n",
              "      background-color: #434B5C;\n",
              "      box-shadow: 0px 1px 3px 1px rgba(0, 0, 0, 0.15);\n",
              "      filter: drop-shadow(0px 1px 2px rgba(0, 0, 0, 0.3));\n",
              "      fill: #FFFFFF;\n",
              "    }\n",
              "  </style>\n",
              "\n",
              "      <script>\n",
              "        const buttonEl =\n",
              "          document.querySelector('#df-e0ff2a7c-a4fd-4d39-bad4-6f6e8583ebf0 button.colab-df-convert');\n",
              "        buttonEl.style.display =\n",
              "          google.colab.kernel.accessAllowed ? 'block' : 'none';\n",
              "\n",
              "        async function convertToInteractive(key) {\n",
              "          const element = document.querySelector('#df-e0ff2a7c-a4fd-4d39-bad4-6f6e8583ebf0');\n",
              "          const dataTable =\n",
              "            await google.colab.kernel.invokeFunction('convertToInteractive',\n",
              "                                                     [key], {});\n",
              "          if (!dataTable) return;\n",
              "\n",
              "          const docLinkHtml = 'Like what you see? Visit the ' +\n",
              "            '<a target=\"_blank\" href=https://colab.research.google.com/notebooks/data_table.ipynb>data table notebook</a>'\n",
              "            + ' to learn more about interactive tables.';\n",
              "          element.innerHTML = '';\n",
              "          dataTable['output_type'] = 'display_data';\n",
              "          await google.colab.output.renderOutput(dataTable, element);\n",
              "          const docLink = document.createElement('div');\n",
              "          docLink.innerHTML = docLinkHtml;\n",
              "          element.appendChild(docLink);\n",
              "        }\n",
              "      </script>\n",
              "    </div>\n",
              "  </div>\n",
              "  "
            ],
            "text/plain": [
              "        date     home_team     away_team  home_score  away_score  \\\n",
              "0 1993-08-08       Bolivia       Uruguay           3           1   \n",
              "1 1993-08-08        Brazil        Mexico           1           1   \n",
              "2 1993-08-08       Ecuador     Venezuela           5           0   \n",
              "3 1993-08-08        Guinea  Sierra Leone           1           0   \n",
              "4 1993-08-08      Paraguay     Argentina           1           3   \n",
              "5 1993-08-08          Peru      Colombia           0           1   \n",
              "6 1993-09-23  Saudi Arabia    Costa Rica           1           2   \n",
              "\n",
              "                     tournament      city       country  neutral  home_rank  \\\n",
              "0  FIFA World Cup qualification    La Paz       Bolivia    False         59   \n",
              "1                      Friendly    Maceió        Brazil    False          8   \n",
              "2  FIFA World Cup qualification     Quito       Ecuador    False         35   \n",
              "3                      Friendly   Conakry        Guinea    False         65   \n",
              "4  FIFA World Cup qualification  Asunción      Paraguay    False         67   \n",
              "5  FIFA World Cup qualification      Lima          Peru    False         70   \n",
              "6                      Friendly    Khobar  Saudi Arabia    False         44   \n",
              "\n",
              "  confederation_home  away_rank confederation_away status tournament_type  \n",
              "0           CONMEBOL         22           CONMEBOL    Win    Not Friendly  \n",
              "1           CONMEBOL         14           CONCACAF   Draw        Friendly  \n",
              "2           CONMEBOL         94           CONMEBOL    Win    Not Friendly  \n",
              "3                CAF         86                CAF    Win        Friendly  \n",
              "4           CONMEBOL          5           CONMEBOL   Lose    Not Friendly  \n",
              "5           CONMEBOL         19           CONMEBOL   Lose    Not Friendly  \n",
              "6                AFC         38           CONCACAF   Lose        Friendly  "
            ]
          },
          "execution_count": 73,
          "metadata": {},
          "output_type": "execute_result"
        }
      ],
      "source": [
        "matches_copy.head(7)"
      ]
    },
    {
      "cell_type": "code",
      "execution_count": null,
      "metadata": {
        "id": "EZS3oj_UZs9G"
      },
      "outputs": [],
      "source": [
        "# encoding the values in 'tournament' column so that they can be in 0's and 1's \n",
        "matches_copy['tournament_type'] = LabelEncoder().fit_transform(matches_copy['tournament_type'].astype(str))"
      ]
    },
    {
      "cell_type": "code",
      "execution_count": null,
      "metadata": {
        "colab": {
          "base_uri": "https://localhost:8080/"
        },
        "id": "sjtLrzDEkMJE",
        "outputId": "e8571657-6991-481d-b1ec-0791c30655d3"
      },
      "outputs": [
        {
          "data": {
            "text/html": [
              "\n",
              "  <div id=\"df-9c122708-9b91-4311-976d-4cdc1a7d5959\">\n",
              "    <div class=\"colab-df-container\">\n",
              "      <div>\n",
              "<style scoped>\n",
              "    .dataframe tbody tr th:only-of-type {\n",
              "        vertical-align: middle;\n",
              "    }\n",
              "\n",
              "    .dataframe tbody tr th {\n",
              "        vertical-align: top;\n",
              "    }\n",
              "\n",
              "    .dataframe thead th {\n",
              "        text-align: right;\n",
              "    }\n",
              "</style>\n",
              "<table border=\"1\" class=\"dataframe\">\n",
              "  <thead>\n",
              "    <tr style=\"text-align: right;\">\n",
              "      <th></th>\n",
              "      <th>date</th>\n",
              "      <th>home_team</th>\n",
              "      <th>away_team</th>\n",
              "      <th>home_score</th>\n",
              "      <th>away_score</th>\n",
              "      <th>tournament</th>\n",
              "      <th>city</th>\n",
              "      <th>country</th>\n",
              "      <th>neutral</th>\n",
              "      <th>home_rank</th>\n",
              "      <th>confederation_home</th>\n",
              "      <th>away_rank</th>\n",
              "      <th>confederation_away</th>\n",
              "      <th>status</th>\n",
              "      <th>tournament_type</th>\n",
              "    </tr>\n",
              "  </thead>\n",
              "  <tbody>\n",
              "    <tr>\n",
              "      <th>0</th>\n",
              "      <td>1993-08-08</td>\n",
              "      <td>Bolivia</td>\n",
              "      <td>Uruguay</td>\n",
              "      <td>3</td>\n",
              "      <td>1</td>\n",
              "      <td>FIFA World Cup qualification</td>\n",
              "      <td>La Paz</td>\n",
              "      <td>Bolivia</td>\n",
              "      <td>False</td>\n",
              "      <td>59</td>\n",
              "      <td>CONMEBOL</td>\n",
              "      <td>22</td>\n",
              "      <td>CONMEBOL</td>\n",
              "      <td>Win</td>\n",
              "      <td>1</td>\n",
              "    </tr>\n",
              "    <tr>\n",
              "      <th>1</th>\n",
              "      <td>1993-08-08</td>\n",
              "      <td>Brazil</td>\n",
              "      <td>Mexico</td>\n",
              "      <td>1</td>\n",
              "      <td>1</td>\n",
              "      <td>Friendly</td>\n",
              "      <td>Maceió</td>\n",
              "      <td>Brazil</td>\n",
              "      <td>False</td>\n",
              "      <td>8</td>\n",
              "      <td>CONMEBOL</td>\n",
              "      <td>14</td>\n",
              "      <td>CONCACAF</td>\n",
              "      <td>Draw</td>\n",
              "      <td>0</td>\n",
              "    </tr>\n",
              "    <tr>\n",
              "      <th>2</th>\n",
              "      <td>1993-08-08</td>\n",
              "      <td>Ecuador</td>\n",
              "      <td>Venezuela</td>\n",
              "      <td>5</td>\n",
              "      <td>0</td>\n",
              "      <td>FIFA World Cup qualification</td>\n",
              "      <td>Quito</td>\n",
              "      <td>Ecuador</td>\n",
              "      <td>False</td>\n",
              "      <td>35</td>\n",
              "      <td>CONMEBOL</td>\n",
              "      <td>94</td>\n",
              "      <td>CONMEBOL</td>\n",
              "      <td>Win</td>\n",
              "      <td>1</td>\n",
              "    </tr>\n",
              "    <tr>\n",
              "      <th>3</th>\n",
              "      <td>1993-08-08</td>\n",
              "      <td>Guinea</td>\n",
              "      <td>Sierra Leone</td>\n",
              "      <td>1</td>\n",
              "      <td>0</td>\n",
              "      <td>Friendly</td>\n",
              "      <td>Conakry</td>\n",
              "      <td>Guinea</td>\n",
              "      <td>False</td>\n",
              "      <td>65</td>\n",
              "      <td>CAF</td>\n",
              "      <td>86</td>\n",
              "      <td>CAF</td>\n",
              "      <td>Win</td>\n",
              "      <td>0</td>\n",
              "    </tr>\n",
              "    <tr>\n",
              "      <th>4</th>\n",
              "      <td>1993-08-08</td>\n",
              "      <td>Paraguay</td>\n",
              "      <td>Argentina</td>\n",
              "      <td>1</td>\n",
              "      <td>3</td>\n",
              "      <td>FIFA World Cup qualification</td>\n",
              "      <td>Asunción</td>\n",
              "      <td>Paraguay</td>\n",
              "      <td>False</td>\n",
              "      <td>67</td>\n",
              "      <td>CONMEBOL</td>\n",
              "      <td>5</td>\n",
              "      <td>CONMEBOL</td>\n",
              "      <td>Lose</td>\n",
              "      <td>1</td>\n",
              "    </tr>\n",
              "  </tbody>\n",
              "</table>\n",
              "</div>\n",
              "      <button class=\"colab-df-convert\" onclick=\"convertToInteractive('df-9c122708-9b91-4311-976d-4cdc1a7d5959')\"\n",
              "              title=\"Convert this dataframe to an interactive table.\"\n",
              "              style=\"display:none;\">\n",
              "        \n",
              "  <svg xmlns=\"http://www.w3.org/2000/svg\" height=\"24px\"viewBox=\"0 0 24 24\"\n",
              "       width=\"24px\">\n",
              "    <path d=\"M0 0h24v24H0V0z\" fill=\"none\"/>\n",
              "    <path d=\"M18.56 5.44l.94 2.06.94-2.06 2.06-.94-2.06-.94-.94-2.06-.94 2.06-2.06.94zm-11 1L8.5 8.5l.94-2.06 2.06-.94-2.06-.94L8.5 2.5l-.94 2.06-2.06.94zm10 10l.94 2.06.94-2.06 2.06-.94-2.06-.94-.94-2.06-.94 2.06-2.06.94z\"/><path d=\"M17.41 7.96l-1.37-1.37c-.4-.4-.92-.59-1.43-.59-.52 0-1.04.2-1.43.59L10.3 9.45l-7.72 7.72c-.78.78-.78 2.05 0 2.83L4 21.41c.39.39.9.59 1.41.59.51 0 1.02-.2 1.41-.59l7.78-7.78 2.81-2.81c.8-.78.8-2.07 0-2.86zM5.41 20L4 18.59l7.72-7.72 1.47 1.35L5.41 20z\"/>\n",
              "  </svg>\n",
              "      </button>\n",
              "      \n",
              "  <style>\n",
              "    .colab-df-container {\n",
              "      display:flex;\n",
              "      flex-wrap:wrap;\n",
              "      gap: 12px;\n",
              "    }\n",
              "\n",
              "    .colab-df-convert {\n",
              "      background-color: #E8F0FE;\n",
              "      border: none;\n",
              "      border-radius: 50%;\n",
              "      cursor: pointer;\n",
              "      display: none;\n",
              "      fill: #1967D2;\n",
              "      height: 32px;\n",
              "      padding: 0 0 0 0;\n",
              "      width: 32px;\n",
              "    }\n",
              "\n",
              "    .colab-df-convert:hover {\n",
              "      background-color: #E2EBFA;\n",
              "      box-shadow: 0px 1px 2px rgba(60, 64, 67, 0.3), 0px 1px 3px 1px rgba(60, 64, 67, 0.15);\n",
              "      fill: #174EA6;\n",
              "    }\n",
              "\n",
              "    [theme=dark] .colab-df-convert {\n",
              "      background-color: #3B4455;\n",
              "      fill: #D2E3FC;\n",
              "    }\n",
              "\n",
              "    [theme=dark] .colab-df-convert:hover {\n",
              "      background-color: #434B5C;\n",
              "      box-shadow: 0px 1px 3px 1px rgba(0, 0, 0, 0.15);\n",
              "      filter: drop-shadow(0px 1px 2px rgba(0, 0, 0, 0.3));\n",
              "      fill: #FFFFFF;\n",
              "    }\n",
              "  </style>\n",
              "\n",
              "      <script>\n",
              "        const buttonEl =\n",
              "          document.querySelector('#df-9c122708-9b91-4311-976d-4cdc1a7d5959 button.colab-df-convert');\n",
              "        buttonEl.style.display =\n",
              "          google.colab.kernel.accessAllowed ? 'block' : 'none';\n",
              "\n",
              "        async function convertToInteractive(key) {\n",
              "          const element = document.querySelector('#df-9c122708-9b91-4311-976d-4cdc1a7d5959');\n",
              "          const dataTable =\n",
              "            await google.colab.kernel.invokeFunction('convertToInteractive',\n",
              "                                                     [key], {});\n",
              "          if (!dataTable) return;\n",
              "\n",
              "          const docLinkHtml = 'Like what you see? Visit the ' +\n",
              "            '<a target=\"_blank\" href=https://colab.research.google.com/notebooks/data_table.ipynb>data table notebook</a>'\n",
              "            + ' to learn more about interactive tables.';\n",
              "          element.innerHTML = '';\n",
              "          dataTable['output_type'] = 'display_data';\n",
              "          await google.colab.output.renderOutput(dataTable, element);\n",
              "          const docLink = document.createElement('div');\n",
              "          docLink.innerHTML = docLinkHtml;\n",
              "          element.appendChild(docLink);\n",
              "        }\n",
              "      </script>\n",
              "    </div>\n",
              "  </div>\n",
              "  "
            ],
            "text/plain": [
              "        date home_team     away_team  home_score  away_score  \\\n",
              "0 1993-08-08   Bolivia       Uruguay           3           1   \n",
              "1 1993-08-08    Brazil        Mexico           1           1   \n",
              "2 1993-08-08   Ecuador     Venezuela           5           0   \n",
              "3 1993-08-08    Guinea  Sierra Leone           1           0   \n",
              "4 1993-08-08  Paraguay     Argentina           1           3   \n",
              "\n",
              "                     tournament      city   country  neutral  home_rank  \\\n",
              "0  FIFA World Cup qualification    La Paz   Bolivia    False         59   \n",
              "1                      Friendly    Maceió    Brazil    False          8   \n",
              "2  FIFA World Cup qualification     Quito   Ecuador    False         35   \n",
              "3                      Friendly   Conakry    Guinea    False         65   \n",
              "4  FIFA World Cup qualification  Asunción  Paraguay    False         67   \n",
              "\n",
              "  confederation_home  away_rank confederation_away status  tournament_type  \n",
              "0           CONMEBOL         22           CONMEBOL    Win                1  \n",
              "1           CONMEBOL         14           CONCACAF   Draw                0  \n",
              "2           CONMEBOL         94           CONMEBOL    Win                1  \n",
              "3                CAF         86                CAF    Win                0  \n",
              "4           CONMEBOL          5           CONMEBOL   Lose                1  "
            ]
          },
          "execution_count": 75,
          "metadata": {},
          "output_type": "execute_result"
        }
      ],
      "source": [
        "matches_copy.head(5)"
      ]
    },
    {
      "cell_type": "code",
      "execution_count": null,
      "metadata": {
        "colab": {
          "base_uri": "https://localhost:8080/"
        },
        "id": "jsNo_TZdrAei",
        "outputId": "8e564125-e0e9-4f13-e1a6-69e8da798b4e"
      },
      "outputs": [
        {
          "data": {
            "text/html": [
              "\n",
              "  <div id=\"df-737d23f8-a1b9-4737-ad37-fa9fc257d953\">\n",
              "    <div class=\"colab-df-container\">\n",
              "      <div>\n",
              "<style scoped>\n",
              "    .dataframe tbody tr th:only-of-type {\n",
              "        vertical-align: middle;\n",
              "    }\n",
              "\n",
              "    .dataframe tbody tr th {\n",
              "        vertical-align: top;\n",
              "    }\n",
              "\n",
              "    .dataframe thead th {\n",
              "        text-align: right;\n",
              "    }\n",
              "</style>\n",
              "<table border=\"1\" class=\"dataframe\">\n",
              "  <thead>\n",
              "    <tr style=\"text-align: right;\">\n",
              "      <th></th>\n",
              "      <th>date</th>\n",
              "      <th>home_team</th>\n",
              "      <th>away_team</th>\n",
              "      <th>home_score</th>\n",
              "      <th>away_score</th>\n",
              "      <th>tournament</th>\n",
              "      <th>city</th>\n",
              "      <th>country</th>\n",
              "      <th>neutral</th>\n",
              "      <th>home_rank</th>\n",
              "      <th>confederation_home</th>\n",
              "      <th>away_rank</th>\n",
              "      <th>confederation_away</th>\n",
              "      <th>status</th>\n",
              "      <th>tournament_type</th>\n",
              "    </tr>\n",
              "  </thead>\n",
              "  <tbody>\n",
              "    <tr>\n",
              "      <th>0</th>\n",
              "      <td>1993-08-08</td>\n",
              "      <td>Bolivia</td>\n",
              "      <td>Uruguay</td>\n",
              "      <td>3</td>\n",
              "      <td>1</td>\n",
              "      <td>FIFA World Cup qualification</td>\n",
              "      <td>La Paz</td>\n",
              "      <td>Bolivia</td>\n",
              "      <td>False</td>\n",
              "      <td>59</td>\n",
              "      <td>CONMEBOL</td>\n",
              "      <td>22</td>\n",
              "      <td>CONMEBOL</td>\n",
              "      <td>Win</td>\n",
              "      <td>1</td>\n",
              "    </tr>\n",
              "    <tr>\n",
              "      <th>1</th>\n",
              "      <td>1993-08-08</td>\n",
              "      <td>Brazil</td>\n",
              "      <td>Mexico</td>\n",
              "      <td>1</td>\n",
              "      <td>1</td>\n",
              "      <td>Friendly</td>\n",
              "      <td>Maceió</td>\n",
              "      <td>Brazil</td>\n",
              "      <td>False</td>\n",
              "      <td>8</td>\n",
              "      <td>CONMEBOL</td>\n",
              "      <td>14</td>\n",
              "      <td>CONCACAF</td>\n",
              "      <td>Draw</td>\n",
              "      <td>0</td>\n",
              "    </tr>\n",
              "    <tr>\n",
              "      <th>2</th>\n",
              "      <td>1993-08-08</td>\n",
              "      <td>Ecuador</td>\n",
              "      <td>Venezuela</td>\n",
              "      <td>5</td>\n",
              "      <td>0</td>\n",
              "      <td>FIFA World Cup qualification</td>\n",
              "      <td>Quito</td>\n",
              "      <td>Ecuador</td>\n",
              "      <td>False</td>\n",
              "      <td>35</td>\n",
              "      <td>CONMEBOL</td>\n",
              "      <td>94</td>\n",
              "      <td>CONMEBOL</td>\n",
              "      <td>Win</td>\n",
              "      <td>1</td>\n",
              "    </tr>\n",
              "    <tr>\n",
              "      <th>3</th>\n",
              "      <td>1993-08-08</td>\n",
              "      <td>Guinea</td>\n",
              "      <td>Sierra Leone</td>\n",
              "      <td>1</td>\n",
              "      <td>0</td>\n",
              "      <td>Friendly</td>\n",
              "      <td>Conakry</td>\n",
              "      <td>Guinea</td>\n",
              "      <td>False</td>\n",
              "      <td>65</td>\n",
              "      <td>CAF</td>\n",
              "      <td>86</td>\n",
              "      <td>CAF</td>\n",
              "      <td>Win</td>\n",
              "      <td>0</td>\n",
              "    </tr>\n",
              "    <tr>\n",
              "      <th>4</th>\n",
              "      <td>1993-08-08</td>\n",
              "      <td>Paraguay</td>\n",
              "      <td>Argentina</td>\n",
              "      <td>1</td>\n",
              "      <td>3</td>\n",
              "      <td>FIFA World Cup qualification</td>\n",
              "      <td>Asunción</td>\n",
              "      <td>Paraguay</td>\n",
              "      <td>False</td>\n",
              "      <td>67</td>\n",
              "      <td>CONMEBOL</td>\n",
              "      <td>5</td>\n",
              "      <td>CONMEBOL</td>\n",
              "      <td>Lose</td>\n",
              "      <td>1</td>\n",
              "    </tr>\n",
              "    <tr>\n",
              "      <th>...</th>\n",
              "      <td>...</td>\n",
              "      <td>...</td>\n",
              "      <td>...</td>\n",
              "      <td>...</td>\n",
              "      <td>...</td>\n",
              "      <td>...</td>\n",
              "      <td>...</td>\n",
              "      <td>...</td>\n",
              "      <td>...</td>\n",
              "      <td>...</td>\n",
              "      <td>...</td>\n",
              "      <td>...</td>\n",
              "      <td>...</td>\n",
              "      <td>...</td>\n",
              "      <td>...</td>\n",
              "    </tr>\n",
              "    <tr>\n",
              "      <th>861</th>\n",
              "      <td>2017-06-01</td>\n",
              "      <td>Mexico</td>\n",
              "      <td>Republic of Ireland</td>\n",
              "      <td>3</td>\n",
              "      <td>1</td>\n",
              "      <td>Friendly</td>\n",
              "      <td>East Rutherford</td>\n",
              "      <td>United States</td>\n",
              "      <td>True</td>\n",
              "      <td>17</td>\n",
              "      <td>CONCACAF</td>\n",
              "      <td>26</td>\n",
              "      <td>UEFA</td>\n",
              "      <td>Win</td>\n",
              "      <td>0</td>\n",
              "    </tr>\n",
              "    <tr>\n",
              "      <th>862</th>\n",
              "      <td>2017-06-01</td>\n",
              "      <td>Nigeria</td>\n",
              "      <td>Togo</td>\n",
              "      <td>3</td>\n",
              "      <td>0</td>\n",
              "      <td>Friendly</td>\n",
              "      <td>Saint-Leu-la-Forêt</td>\n",
              "      <td>France</td>\n",
              "      <td>True</td>\n",
              "      <td>38</td>\n",
              "      <td>CAF</td>\n",
              "      <td>112</td>\n",
              "      <td>CAF</td>\n",
              "      <td>Win</td>\n",
              "      <td>0</td>\n",
              "    </tr>\n",
              "    <tr>\n",
              "      <th>863</th>\n",
              "      <td>2017-06-01</td>\n",
              "      <td>Switzerland</td>\n",
              "      <td>Belarus</td>\n",
              "      <td>1</td>\n",
              "      <td>0</td>\n",
              "      <td>Friendly</td>\n",
              "      <td>Neuchâtel</td>\n",
              "      <td>Switzerland</td>\n",
              "      <td>False</td>\n",
              "      <td>9</td>\n",
              "      <td>UEFA</td>\n",
              "      <td>83</td>\n",
              "      <td>UEFA</td>\n",
              "      <td>Win</td>\n",
              "      <td>0</td>\n",
              "    </tr>\n",
              "    <tr>\n",
              "      <th>864</th>\n",
              "      <td>2017-07-06</td>\n",
              "      <td>Grenada</td>\n",
              "      <td>Barbados</td>\n",
              "      <td>0</td>\n",
              "      <td>2</td>\n",
              "      <td>Windward Islands Tournament</td>\n",
              "      <td>St. George's</td>\n",
              "      <td>Grenada</td>\n",
              "      <td>False</td>\n",
              "      <td>163</td>\n",
              "      <td>CONCACAF</td>\n",
              "      <td>181</td>\n",
              "      <td>CONCACAF</td>\n",
              "      <td>Lose</td>\n",
              "      <td>1</td>\n",
              "    </tr>\n",
              "    <tr>\n",
              "      <th>865</th>\n",
              "      <td>2018-01-18</td>\n",
              "      <td>Uganda</td>\n",
              "      <td>Namibia</td>\n",
              "      <td>0</td>\n",
              "      <td>1</td>\n",
              "      <td>African Nations Championship</td>\n",
              "      <td>Marrakech</td>\n",
              "      <td>Morocco</td>\n",
              "      <td>True</td>\n",
              "      <td>73</td>\n",
              "      <td>CAF</td>\n",
              "      <td>111</td>\n",
              "      <td>CAF</td>\n",
              "      <td>Lose</td>\n",
              "      <td>1</td>\n",
              "    </tr>\n",
              "  </tbody>\n",
              "</table>\n",
              "<p>837 rows × 15 columns</p>\n",
              "</div>\n",
              "      <button class=\"colab-df-convert\" onclick=\"convertToInteractive('df-737d23f8-a1b9-4737-ad37-fa9fc257d953')\"\n",
              "              title=\"Convert this dataframe to an interactive table.\"\n",
              "              style=\"display:none;\">\n",
              "        \n",
              "  <svg xmlns=\"http://www.w3.org/2000/svg\" height=\"24px\"viewBox=\"0 0 24 24\"\n",
              "       width=\"24px\">\n",
              "    <path d=\"M0 0h24v24H0V0z\" fill=\"none\"/>\n",
              "    <path d=\"M18.56 5.44l.94 2.06.94-2.06 2.06-.94-2.06-.94-.94-2.06-.94 2.06-2.06.94zm-11 1L8.5 8.5l.94-2.06 2.06-.94-2.06-.94L8.5 2.5l-.94 2.06-2.06.94zm10 10l.94 2.06.94-2.06 2.06-.94-2.06-.94-.94-2.06-.94 2.06-2.06.94z\"/><path d=\"M17.41 7.96l-1.37-1.37c-.4-.4-.92-.59-1.43-.59-.52 0-1.04.2-1.43.59L10.3 9.45l-7.72 7.72c-.78.78-.78 2.05 0 2.83L4 21.41c.39.39.9.59 1.41.59.51 0 1.02-.2 1.41-.59l7.78-7.78 2.81-2.81c.8-.78.8-2.07 0-2.86zM5.41 20L4 18.59l7.72-7.72 1.47 1.35L5.41 20z\"/>\n",
              "  </svg>\n",
              "      </button>\n",
              "      \n",
              "  <style>\n",
              "    .colab-df-container {\n",
              "      display:flex;\n",
              "      flex-wrap:wrap;\n",
              "      gap: 12px;\n",
              "    }\n",
              "\n",
              "    .colab-df-convert {\n",
              "      background-color: #E8F0FE;\n",
              "      border: none;\n",
              "      border-radius: 50%;\n",
              "      cursor: pointer;\n",
              "      display: none;\n",
              "      fill: #1967D2;\n",
              "      height: 32px;\n",
              "      padding: 0 0 0 0;\n",
              "      width: 32px;\n",
              "    }\n",
              "\n",
              "    .colab-df-convert:hover {\n",
              "      background-color: #E2EBFA;\n",
              "      box-shadow: 0px 1px 2px rgba(60, 64, 67, 0.3), 0px 1px 3px 1px rgba(60, 64, 67, 0.15);\n",
              "      fill: #174EA6;\n",
              "    }\n",
              "\n",
              "    [theme=dark] .colab-df-convert {\n",
              "      background-color: #3B4455;\n",
              "      fill: #D2E3FC;\n",
              "    }\n",
              "\n",
              "    [theme=dark] .colab-df-convert:hover {\n",
              "      background-color: #434B5C;\n",
              "      box-shadow: 0px 1px 3px 1px rgba(0, 0, 0, 0.15);\n",
              "      filter: drop-shadow(0px 1px 2px rgba(0, 0, 0, 0.3));\n",
              "      fill: #FFFFFF;\n",
              "    }\n",
              "  </style>\n",
              "\n",
              "      <script>\n",
              "        const buttonEl =\n",
              "          document.querySelector('#df-737d23f8-a1b9-4737-ad37-fa9fc257d953 button.colab-df-convert');\n",
              "        buttonEl.style.display =\n",
              "          google.colab.kernel.accessAllowed ? 'block' : 'none';\n",
              "\n",
              "        async function convertToInteractive(key) {\n",
              "          const element = document.querySelector('#df-737d23f8-a1b9-4737-ad37-fa9fc257d953');\n",
              "          const dataTable =\n",
              "            await google.colab.kernel.invokeFunction('convertToInteractive',\n",
              "                                                     [key], {});\n",
              "          if (!dataTable) return;\n",
              "\n",
              "          const docLinkHtml = 'Like what you see? Visit the ' +\n",
              "            '<a target=\"_blank\" href=https://colab.research.google.com/notebooks/data_table.ipynb>data table notebook</a>'\n",
              "            + ' to learn more about interactive tables.';\n",
              "          element.innerHTML = '';\n",
              "          dataTable['output_type'] = 'display_data';\n",
              "          await google.colab.output.renderOutput(dataTable, element);\n",
              "          const docLink = document.createElement('div');\n",
              "          docLink.innerHTML = docLinkHtml;\n",
              "          element.appendChild(docLink);\n",
              "        }\n",
              "      </script>\n",
              "    </div>\n",
              "  </div>\n",
              "  "
            ],
            "text/plain": [
              "          date    home_team            away_team  home_score  away_score  \\\n",
              "0   1993-08-08      Bolivia              Uruguay           3           1   \n",
              "1   1993-08-08       Brazil               Mexico           1           1   \n",
              "2   1993-08-08      Ecuador            Venezuela           5           0   \n",
              "3   1993-08-08       Guinea         Sierra Leone           1           0   \n",
              "4   1993-08-08     Paraguay            Argentina           1           3   \n",
              "..         ...          ...                  ...         ...         ...   \n",
              "861 2017-06-01       Mexico  Republic of Ireland           3           1   \n",
              "862 2017-06-01      Nigeria                 Togo           3           0   \n",
              "863 2017-06-01  Switzerland              Belarus           1           0   \n",
              "864 2017-07-06      Grenada             Barbados           0           2   \n",
              "865 2018-01-18       Uganda              Namibia           0           1   \n",
              "\n",
              "                       tournament                city        country  neutral  \\\n",
              "0    FIFA World Cup qualification              La Paz        Bolivia    False   \n",
              "1                        Friendly              Maceió         Brazil    False   \n",
              "2    FIFA World Cup qualification               Quito        Ecuador    False   \n",
              "3                        Friendly             Conakry         Guinea    False   \n",
              "4    FIFA World Cup qualification            Asunción       Paraguay    False   \n",
              "..                            ...                 ...            ...      ...   \n",
              "861                      Friendly     East Rutherford  United States     True   \n",
              "862                      Friendly  Saint-Leu-la-Forêt         France     True   \n",
              "863                      Friendly           Neuchâtel    Switzerland    False   \n",
              "864   Windward Islands Tournament        St. George's        Grenada    False   \n",
              "865  African Nations Championship           Marrakech        Morocco     True   \n",
              "\n",
              "     home_rank confederation_home  away_rank confederation_away status  \\\n",
              "0           59           CONMEBOL         22           CONMEBOL    Win   \n",
              "1            8           CONMEBOL         14           CONCACAF   Draw   \n",
              "2           35           CONMEBOL         94           CONMEBOL    Win   \n",
              "3           65                CAF         86                CAF    Win   \n",
              "4           67           CONMEBOL          5           CONMEBOL   Lose   \n",
              "..         ...                ...        ...                ...    ...   \n",
              "861         17           CONCACAF         26               UEFA    Win   \n",
              "862         38                CAF        112                CAF    Win   \n",
              "863          9               UEFA         83               UEFA    Win   \n",
              "864        163           CONCACAF        181           CONCACAF   Lose   \n",
              "865         73                CAF        111                CAF   Lose   \n",
              "\n",
              "     tournament_type  \n",
              "0                  1  \n",
              "1                  0  \n",
              "2                  1  \n",
              "3                  0  \n",
              "4                  1  \n",
              "..               ...  \n",
              "861                0  \n",
              "862                0  \n",
              "863                0  \n",
              "864                1  \n",
              "865                1  \n",
              "\n",
              "[837 rows x 15 columns]"
            ]
          },
          "execution_count": 76,
          "metadata": {},
          "output_type": "execute_result"
        }
      ],
      "source": [
        "# Previewing the dataset after adding the new features\n",
        "matches_copy"
      ]
    },
    {
      "cell_type": "markdown",
      "metadata": {
        "id": "mvSzUAp1rIsT"
      },
      "source": [
        "# Multicollinearity"
      ]
    },
    {
      "cell_type": "code",
      "execution_count": null,
      "metadata": {
        "colab": {
          "base_uri": "https://localhost:8080/",
          "height": 424
        },
        "id": "yebk3WzFswLv",
        "outputId": "09216426-4196-477a-dba8-89af5d1f183f"
      },
      "outputs": [
        {
          "data": {
            "text/html": [
              "\n",
              "  <div id=\"df-65018b9a-e1ea-4cc1-9a1e-8f15149949e0\">\n",
              "    <div class=\"colab-df-container\">\n",
              "      <div>\n",
              "<style scoped>\n",
              "    .dataframe tbody tr th:only-of-type {\n",
              "        vertical-align: middle;\n",
              "    }\n",
              "\n",
              "    .dataframe tbody tr th {\n",
              "        vertical-align: top;\n",
              "    }\n",
              "\n",
              "    .dataframe thead th {\n",
              "        text-align: right;\n",
              "    }\n",
              "</style>\n",
              "<table border=\"1\" class=\"dataframe\">\n",
              "  <thead>\n",
              "    <tr style=\"text-align: right;\">\n",
              "      <th></th>\n",
              "      <th>tournament_type</th>\n",
              "      <th>home_rank</th>\n",
              "      <th>away_rank</th>\n",
              "    </tr>\n",
              "  </thead>\n",
              "  <tbody>\n",
              "    <tr>\n",
              "      <th>0</th>\n",
              "      <td>1</td>\n",
              "      <td>59</td>\n",
              "      <td>22</td>\n",
              "    </tr>\n",
              "    <tr>\n",
              "      <th>1</th>\n",
              "      <td>0</td>\n",
              "      <td>8</td>\n",
              "      <td>14</td>\n",
              "    </tr>\n",
              "    <tr>\n",
              "      <th>2</th>\n",
              "      <td>1</td>\n",
              "      <td>35</td>\n",
              "      <td>94</td>\n",
              "    </tr>\n",
              "    <tr>\n",
              "      <th>3</th>\n",
              "      <td>0</td>\n",
              "      <td>65</td>\n",
              "      <td>86</td>\n",
              "    </tr>\n",
              "    <tr>\n",
              "      <th>4</th>\n",
              "      <td>1</td>\n",
              "      <td>67</td>\n",
              "      <td>5</td>\n",
              "    </tr>\n",
              "    <tr>\n",
              "      <th>...</th>\n",
              "      <td>...</td>\n",
              "      <td>...</td>\n",
              "      <td>...</td>\n",
              "    </tr>\n",
              "    <tr>\n",
              "      <th>861</th>\n",
              "      <td>0</td>\n",
              "      <td>17</td>\n",
              "      <td>26</td>\n",
              "    </tr>\n",
              "    <tr>\n",
              "      <th>862</th>\n",
              "      <td>0</td>\n",
              "      <td>38</td>\n",
              "      <td>112</td>\n",
              "    </tr>\n",
              "    <tr>\n",
              "      <th>863</th>\n",
              "      <td>0</td>\n",
              "      <td>9</td>\n",
              "      <td>83</td>\n",
              "    </tr>\n",
              "    <tr>\n",
              "      <th>864</th>\n",
              "      <td>1</td>\n",
              "      <td>163</td>\n",
              "      <td>181</td>\n",
              "    </tr>\n",
              "    <tr>\n",
              "      <th>865</th>\n",
              "      <td>1</td>\n",
              "      <td>73</td>\n",
              "      <td>111</td>\n",
              "    </tr>\n",
              "  </tbody>\n",
              "</table>\n",
              "<p>837 rows × 3 columns</p>\n",
              "</div>\n",
              "      <button class=\"colab-df-convert\" onclick=\"convertToInteractive('df-65018b9a-e1ea-4cc1-9a1e-8f15149949e0')\"\n",
              "              title=\"Convert this dataframe to an interactive table.\"\n",
              "              style=\"display:none;\">\n",
              "        \n",
              "  <svg xmlns=\"http://www.w3.org/2000/svg\" height=\"24px\"viewBox=\"0 0 24 24\"\n",
              "       width=\"24px\">\n",
              "    <path d=\"M0 0h24v24H0V0z\" fill=\"none\"/>\n",
              "    <path d=\"M18.56 5.44l.94 2.06.94-2.06 2.06-.94-2.06-.94-.94-2.06-.94 2.06-2.06.94zm-11 1L8.5 8.5l.94-2.06 2.06-.94-2.06-.94L8.5 2.5l-.94 2.06-2.06.94zm10 10l.94 2.06.94-2.06 2.06-.94-2.06-.94-.94-2.06-.94 2.06-2.06.94z\"/><path d=\"M17.41 7.96l-1.37-1.37c-.4-.4-.92-.59-1.43-.59-.52 0-1.04.2-1.43.59L10.3 9.45l-7.72 7.72c-.78.78-.78 2.05 0 2.83L4 21.41c.39.39.9.59 1.41.59.51 0 1.02-.2 1.41-.59l7.78-7.78 2.81-2.81c.8-.78.8-2.07 0-2.86zM5.41 20L4 18.59l7.72-7.72 1.47 1.35L5.41 20z\"/>\n",
              "  </svg>\n",
              "      </button>\n",
              "      \n",
              "  <style>\n",
              "    .colab-df-container {\n",
              "      display:flex;\n",
              "      flex-wrap:wrap;\n",
              "      gap: 12px;\n",
              "    }\n",
              "\n",
              "    .colab-df-convert {\n",
              "      background-color: #E8F0FE;\n",
              "      border: none;\n",
              "      border-radius: 50%;\n",
              "      cursor: pointer;\n",
              "      display: none;\n",
              "      fill: #1967D2;\n",
              "      height: 32px;\n",
              "      padding: 0 0 0 0;\n",
              "      width: 32px;\n",
              "    }\n",
              "\n",
              "    .colab-df-convert:hover {\n",
              "      background-color: #E2EBFA;\n",
              "      box-shadow: 0px 1px 2px rgba(60, 64, 67, 0.3), 0px 1px 3px 1px rgba(60, 64, 67, 0.15);\n",
              "      fill: #174EA6;\n",
              "    }\n",
              "\n",
              "    [theme=dark] .colab-df-convert {\n",
              "      background-color: #3B4455;\n",
              "      fill: #D2E3FC;\n",
              "    }\n",
              "\n",
              "    [theme=dark] .colab-df-convert:hover {\n",
              "      background-color: #434B5C;\n",
              "      box-shadow: 0px 1px 3px 1px rgba(0, 0, 0, 0.15);\n",
              "      filter: drop-shadow(0px 1px 2px rgba(0, 0, 0, 0.3));\n",
              "      fill: #FFFFFF;\n",
              "    }\n",
              "  </style>\n",
              "\n",
              "      <script>\n",
              "        const buttonEl =\n",
              "          document.querySelector('#df-65018b9a-e1ea-4cc1-9a1e-8f15149949e0 button.colab-df-convert');\n",
              "        buttonEl.style.display =\n",
              "          google.colab.kernel.accessAllowed ? 'block' : 'none';\n",
              "\n",
              "        async function convertToInteractive(key) {\n",
              "          const element = document.querySelector('#df-65018b9a-e1ea-4cc1-9a1e-8f15149949e0');\n",
              "          const dataTable =\n",
              "            await google.colab.kernel.invokeFunction('convertToInteractive',\n",
              "                                                     [key], {});\n",
              "          if (!dataTable) return;\n",
              "\n",
              "          const docLinkHtml = 'Like what you see? Visit the ' +\n",
              "            '<a target=\"_blank\" href=https://colab.research.google.com/notebooks/data_table.ipynb>data table notebook</a>'\n",
              "            + ' to learn more about interactive tables.';\n",
              "          element.innerHTML = '';\n",
              "          dataTable['output_type'] = 'display_data';\n",
              "          await google.colab.output.renderOutput(dataTable, element);\n",
              "          const docLink = document.createElement('div');\n",
              "          docLink.innerHTML = docLinkHtml;\n",
              "          element.appendChild(docLink);\n",
              "        }\n",
              "      </script>\n",
              "    </div>\n",
              "  </div>\n",
              "  "
            ],
            "text/plain": [
              "     tournament_type  home_rank  away_rank\n",
              "0                  1         59         22\n",
              "1                  0          8         14\n",
              "2                  1         35         94\n",
              "3                  0         65         86\n",
              "4                  1         67          5\n",
              "..               ...        ...        ...\n",
              "861                0         17         26\n",
              "862                0         38        112\n",
              "863                0          9         83\n",
              "864                1        163        181\n",
              "865                1         73        111\n",
              "\n",
              "[837 rows x 3 columns]"
            ]
          },
          "execution_count": 77,
          "metadata": {},
          "output_type": "execute_result"
        }
      ],
      "source": [
        "# lets put all the independent variables in one subset\n",
        "independent_variables = matches_copy[['tournament_type', 'home_rank', 'away_rank']]\n",
        "independent_variables"
      ]
    },
    {
      "cell_type": "code",
      "execution_count": null,
      "metadata": {
        "colab": {
          "base_uri": "https://localhost:8080/",
          "height": 273
        },
        "id": "yJTh5SiLrIFh",
        "outputId": "68f71546-f39f-493b-8e61-7a039cc54469"
      },
      "outputs": [
        {
          "data": {
            "image/png": "[encoded data removed]",
            "text/plain": [
              "<Figure size 432x288 with 2 Axes>"
            ]
          },
          "metadata": {},
          "output_type": "display_data"
        }
      ],
      "source": [
        "# Correlation \n",
        "correlation = independent_variables.corr()\n",
        "\n",
        "# Visualizing the correlation using a heatmap\n",
        "sns.heatmap(independent_variables.corr(), annot=True)\n",
        "plt.show()"
      ]
    },
    {
      "cell_type": "markdown",
      "metadata": {
        "id": "kJUWLEnDsbfG"
      },
      "source": [
        "According to the pearson correlation values, none of the variables is strongly correlated to another. We will use the correlations above to compute each variance inflation factors to check for multicollinearity."
      ]
    },
    {
      "cell_type": "code",
      "execution_count": null,
      "metadata": {
        "colab": {
          "base_uri": "https://localhost:8080/",
          "height": 484
        },
        "id": "dTmAdZe2rOOZ",
        "outputId": "0b90c37d-809e-4d27-fed9-f39344a23ce3"
      },
      "outputs": [
        {
          "data": {
            "image/png": "[encoded data removed]",
            "text/plain": [
              "<Figure size 720x576 with 2 Axes>"
            ]
          },
          "metadata": {},
          "output_type": "display_data"
        }
      ],
      "source": [
        "# Checking for collinearity using the VIF (Variation Inflation Factor)\n",
        "VIF = pd.DataFrame(np.linalg.inv(correlation.values), index = correlation.index, columns = correlation.columns)\n",
        "\n",
        "# Visualize the VIF using a heatmap\n",
        "plt.subplots(figsize =  (10,8))\n",
        "sns.heatmap(VIF, annot = True)\n",
        "plt.show()"
      ]
    },
    {
      "cell_type": "markdown",
      "metadata": {
        "id": "nQFzie_Ntez2"
      },
      "source": [
        "The VIF scores show that all the variables are not correlated to each other."
      ]
    },
    {
      "cell_type": "markdown",
      "metadata": {
        "id": "4nmAkE3Nt_kS"
      },
      "source": [
        "# Polynomial Regression"
      ]
    },
    {
      "cell_type": "markdown",
      "metadata": {
        "id": "1NJwZ55-uEmj"
      },
      "source": [
        "## Model One : Predicting the home team score"
      ]
    },
    {
      "cell_type": "markdown",
      "metadata": {
        "id": "sWpNxlLfrRJm"
      },
      "source": [
        "# Cross Validation"
      ]
    },
    {
      "cell_type": "code",
      "execution_count": null,
      "metadata": {
        "id": "IjWAfmUyrQ04"
      },
      "outputs": [],
      "source": [
        "# Preparing the Data\n",
        "# divide the data into \"attributes\" and \"labels\" by assigning the attributes to variable X and the label to variable y \n",
        "X = matches_copy[[\"home_rank\",\"away_rank\",\"tournament_type\"]].values\n",
        "y = matches_copy[\"home_score\"].values"
      ]
    },
    {
      "cell_type": "code",
      "execution_count": null,
      "metadata": {
        "id": "Ezb_RLV5uAmx"
      },
      "outputs": [],
      "source": [
        "# Splitting the dataset into train and test sets\n",
        "X_train, X_test, y_train, y_test = train_test_split(X, y, test_size = 0.2, random_state = 25)"
      ]
    },
    {
      "cell_type": "markdown",
      "metadata": {
        "id": "-oY4P1th5B0c"
      },
      "source": [
        " Let's now cross validate our model by using k-fold cross validation. We will use 10 folds "
      ]
    },
    {
      "cell_type": "code",
      "execution_count": null,
      "metadata": {
        "colab": {
          "base_uri": "https://localhost:8080/"
        },
        "id": "D7PMSKwI4jq3",
        "outputId": "6510189c-1a21-4d4f-98e8-edf398fe1107"
      },
      "outputs": [
        {
          "name": "stdout",
          "output_type": "stream",
          "text": [
            "we are using 10 folds\n",
            "\n",
            "Training model 1\n",
            "Model 1 Root Mean Squared Error: 1.263599476785352\n",
            "\n",
            "Training model 2\n",
            "Model 2 Root Mean Squared Error: 1.3059554908082787\n",
            "\n",
            "Training model 3\n",
            "Model 3 Root Mean Squared Error: 1.196497295741805\n",
            "\n",
            "Training model 4\n",
            "Model 4 Root Mean Squared Error: 1.0221878874588601\n",
            "\n",
            "Training model 5\n",
            "Model 5 Root Mean Squared Error: 1.15979055373991\n",
            "\n",
            "Training model 6\n",
            "Model 6 Root Mean Squared Error: 1.1527699538057363\n",
            "\n",
            "Training model 7\n",
            "Model 7 Root Mean Squared Error: 1.0731862682742817\n",
            "\n",
            "Training model 8\n",
            "Model 8 Root Mean Squared Error: 1.1555258341156238\n",
            "\n",
            "Training model 9\n",
            "Model 9 Root Mean Squared Error: 1.0930027538078846\n",
            "\n",
            "Training model 10\n",
            "Model 10 Root Mean Squared Error: 1.284381423917416\n"
          ]
        }
      ],
      "source": [
        "from sklearn.model_selection import KFold\n",
        "\n",
        "# We will use the same 3 independent variables for this\n",
        "folds = KFold(n_splits=10)\n",
        "\n",
        "# note that if you have a KFold object, you can figure out how many folds you set up \n",
        "# for it using get_n_splits\n",
        "print('we are using ' +str(folds.get_n_splits(X)) + ' folds')\n",
        "\n",
        "# We now create and assess 5 models based on the folds we created.\n",
        "RMSES = [] # We will use this array to keep track of the RSME of each model\n",
        "count = 1 # This will just help \n",
        "for train_index, test_index in folds.split(X):\n",
        "  print('\\nTraining model ' + str(count))\n",
        "  \n",
        "  # set up the train and test based on the split determined by KFold\n",
        "  # With 5 folds, we will end up with 80% of our data in the training set, and 20% in the test set, just as above\n",
        "  X_train, X_test = X[train_index], X[test_index]\n",
        "  y_train, y_test = y[train_index], y[test_index]\n",
        "  \n",
        "  # fit a model accordingly\n",
        "  regressor = LinearRegression()  \n",
        "  regressor.fit(X_train, y_train)\n",
        "  \n",
        "  # assess the accuraccy of the model\n",
        "  y_pred = regressor.predict(X_test)\n",
        "  \n",
        "  rmse_value =  np.sqrt(metrics.mean_squared_error(y_test, y_pred))\n",
        "  RMSES.append(rmse_value)\n",
        "  \n",
        "  print('Model ' + str(count) + ' Root Mean Squared Error:',rmse_value)\n",
        "  count = count + 1"
      ]
    },
    {
      "cell_type": "code",
      "execution_count": null,
      "metadata": {
        "colab": {
          "base_uri": "https://localhost:8080/"
        },
        "id": "MXq-A2tdcPWe",
        "outputId": "43dd2224-d71e-40ef-f18c-daae9423eec3"
      },
      "outputs": [
        {
          "data": {
            "text/plain": [
              "1.170689693845515"
            ]
          },
          "execution_count": 122,
          "metadata": {},
          "output_type": "execute_result"
        }
      ],
      "source": [
        "np.mean(RMSES)"
      ]
    },
    {
      "cell_type": "markdown",
      "metadata": {
        "id": "P4fh3ylgcZ84"
      },
      "source": [
        "In this case we would pick model 4 since it offers the least RMSE."
      ]
    },
    {
      "cell_type": "markdown",
      "metadata": {
        "id": "wOqrHkLb-WW8"
      },
      "source": [
        "Using leave one out cross validation. Each observation is a test data while the rest of the observations are train data for each run hence the 837 models."
      ]
    },
    {
      "cell_type": "code",
      "execution_count": null,
      "metadata": {
        "colab": {
          "base_uri": "https://localhost:8080/"
        },
        "id": "tbvaLhan_EAi",
        "outputId": "b45fdb5a-94db-40fc-dc18-3ddcd8ac1106"
      },
      "outputs": [
        {
          "name": "stdout",
          "output_type": "stream",
          "text": [
            "we are using 837 folds\n",
            "trained 837 models\n"
          ]
        },
        {
          "data": {
            "text/plain": [
              "0.9357220929917337"
            ]
          },
          "execution_count": 102,
          "metadata": {},
          "output_type": "execute_result"
        }
      ],
      "source": [
        "from sklearn.model_selection import LeaveOneOut\n",
        "\n",
        "folds = LeaveOneOut()\n",
        "\n",
        "# note that if you have a KFold object, you can figure out how many folds you set up \n",
        "# for it using get_n_splits\n",
        "print('we are using ' +str(folds.get_n_splits(X)) + ' folds')\n",
        "\n",
        "# We now create and assess 5 models based on the folds we created.\n",
        "RMSES = [] # We will use this array to keep track of the RSME of each model\n",
        "count = 0 # This will just help \n",
        "for train_index, test_index in folds.split(X):\n",
        "  \n",
        "  # set up the train and test based on the split determined by KFold\n",
        "  # With 5 folds, we will end up with 80% of our data in the training set, and 20% in the test set, just as above\n",
        "  X_train, X_test = X[train_index], X[test_index]\n",
        "  y_train, y_test = y[train_index], y[test_index]\n",
        "  \n",
        "  # fit a model accordingly\n",
        "  regressor = LinearRegression()  \n",
        "  regressor.fit(X_train, y_train)\n",
        "  \n",
        "  # assess the accuraccy of the model\n",
        "  y_pred = regressor.predict(X_test)\n",
        "  \n",
        "  rmse_value =  np.sqrt(metrics.mean_squared_error(y_test, y_pred))\n",
        "  RMSES.append(rmse_value)\n",
        "  \n",
        "  count = count + 1\n",
        "print('trained ' + str(count) + ' models' )\n",
        "np.mean(RMSES)"
      ]
    },
    {
      "cell_type": "code",
      "execution_count": null,
      "metadata": {
        "colab": {
          "base_uri": "https://localhost:8080/",
          "height": 279
        },
        "id": "YHcbf3TkDymO",
        "outputId": "e3e8c476-df39-45c2-fa07-621e7d3339cf"
      },
      "outputs": [
        {
          "data": {
            "image/png": "[encoded data removed]",
            "text/plain": [
              "<Figure size 432x288 with 1 Axes>"
            ]
          },
          "metadata": {},
          "output_type": "display_data"
        }
      ],
      "source": [
        "import matplotlib.pyplot as plt\n",
        "\n",
        "plt.plot(RMSES)\n",
        "plt.ylabel('RMSE value')\n",
        "plt.xlabel('model ID')\n",
        "plt.show()"
      ]
    },
    {
      "cell_type": "markdown",
      "metadata": {
        "id": "vP8-kz-mvbkz"
      },
      "source": [
        "Visual representation of the RMSE of the different models under Leave one out Model Evaluation"
      ]
    },
    {
      "cell_type": "markdown",
      "metadata": {
        "id": "T1miZahXpZas"
      },
      "source": [
        "The first model will be for predicting the number of goals a home team scores based on the home team's rank, away team's rank and the tournament's type"
      ]
    },
    {
      "cell_type": "code",
      "execution_count": null,
      "metadata": {
        "colab": {
          "base_uri": "https://localhost:8080/"
        },
        "id": "94O8jdXM1rC1",
        "outputId": "4e86d297-8ea3-4415-c49b-df69f422ae24"
      },
      "outputs": [
        {
          "name": "stdout",
          "output_type": "stream",
          "text": [
            "initial values [59 22  1]\n",
            " Mapped to [1.00000000e+00 5.90000000e+01 2.20000000e+01 1.00000000e+00\n",
            " 3.48100000e+03 1.29800000e+03 5.90000000e+01 4.84000000e+02\n",
            " 2.20000000e+01 1.00000000e+00 2.05379000e+05 7.65820000e+04\n",
            " 3.48100000e+03 2.85560000e+04 1.29800000e+03 5.90000000e+01\n",
            " 1.06480000e+04 4.84000000e+02 2.20000000e+01 1.00000000e+00\n",
            " 1.21173610e+07 4.51833800e+06 2.05379000e+05 1.68480400e+06\n",
            " 7.65820000e+04 3.48100000e+03 6.28232000e+05 2.85560000e+04\n",
            " 1.29800000e+03 5.90000000e+01 2.34256000e+05 1.06480000e+04\n",
            " 4.84000000e+02 2.20000000e+01 1.00000000e+00 7.14924299e+08\n",
            " 2.66581942e+08 1.21173610e+07 9.94034360e+07 4.51833800e+06\n",
            " 2.05379000e+05 3.70656880e+07 1.68480400e+06 7.65820000e+04\n",
            " 3.48100000e+03 1.38211040e+07 6.28232000e+05 2.85560000e+04\n",
            " 1.29800000e+03 5.90000000e+01 5.15363200e+06 2.34256000e+05\n",
            " 1.06480000e+04 4.84000000e+02 2.20000000e+01 1.00000000e+00\n",
            " 4.21805336e+10 1.57283346e+10 7.14924299e+08 5.86480272e+09\n",
            " 2.66581942e+08 1.21173610e+07 2.18687559e+09 9.94034360e+07\n",
            " 4.51833800e+06 2.05379000e+05 8.15445136e+08 3.70656880e+07\n",
            " 1.68480400e+06 7.65820000e+04 3.48100000e+03 3.04064288e+08\n",
            " 1.38211040e+07 6.28232000e+05 2.85560000e+04 1.29800000e+03\n",
            " 5.90000000e+01 1.13379904e+08 5.15363200e+06 2.34256000e+05\n",
            " 1.06480000e+04 4.84000000e+02 2.20000000e+01 1.00000000e+00]\n"
          ]
        }
      ],
      "source": [
        "#define our polynomial model, with whatever degree we want\n",
        "\n",
        "degree=6\n",
        "\n",
        "# PolynomialFeatures will create a new matrix consisting of all polynomial combinations \n",
        "# of the features with a degree less than or equal to the degree we just gave the model (2)\n",
        "poly_model = PolynomialFeatures(degree=degree)\n",
        "\n",
        "# transform out polynomial features\n",
        "poly_x_train = poly_model.fit_transform(X_train)\n",
        "print(f'initial values {X_train[0]}\\n Mapped to {poly_x_train[0]}')\n"
      ]
    },
    {
      "cell_type": "code",
      "execution_count": null,
      "metadata": {
        "id": "0FdjfemGXyVN"
      },
      "outputs": [],
      "source": [
        "# transform out polynomial features for X test\n",
        "poly_x_test = poly_model.fit_transform(X_test)"
      ]
    },
    {
      "cell_type": "code",
      "execution_count": null,
      "metadata": {
        "colab": {
          "base_uri": "https://localhost:8080/"
        },
        "id": "KHZYPzWu8qXf",
        "outputId": "b5768792-04a6-4cd6-ecaf-659c8a23b975"
      },
      "outputs": [
        {
          "data": {
            "text/plain": [
              "1.3594276509899164"
            ]
          },
          "execution_count": 141,
          "metadata": {},
          "output_type": "execute_result"
        }
      ],
      "source": [
        "\n",
        "# let's fit the model\n",
        "poly_model.fit(poly_x_train, y_train)\n",
        "\n",
        "# we use linear regression as a base\n",
        "regression_model = LinearRegression()\n",
        "\n",
        "regression_model.fit(poly_x_train,y_train)\n",
        "\n",
        "y_pred = regression_model.predict(poly_x_test)\n",
        "\n",
        "regression_model.coef_\n",
        "\n",
        "mean_squared_error(y_test, y_pred, squared=False)\n"
      ]
    },
    {
      "cell_type": "code",
      "execution_count": null,
      "metadata": {
        "colab": {
          "base_uri": "https://localhost:8080/",
          "height": 282
        },
        "id": "9-b78pDh9EL7",
        "outputId": "3e47e894-d0ea-49c5-d1e7-6c4031bbb4de"
      },
      "outputs": [
        {
          "data": {
            "text/plain": [
              "[<matplotlib.lines.Line2D at 0x7f15e12fd370>]"
            ]
          },
          "execution_count": 132,
          "metadata": {},
          "output_type": "execute_result"
        },
        {
          "data": {
            "image/png": "[encoded data removed]",
            "text/plain": [
              "<Figure size 432x288 with 1 Axes>"
            ]
          },
          "metadata": {},
          "output_type": "display_data"
        }
      ],
      "source": [
        "number_degrees = [1,2,3,4,5,6,7,8,9,10]\n",
        "plt_mean_squared_error = []\n",
        "for degree in number_degrees:\n",
        "\n",
        "   poly_model = PolynomialFeatures(degree=degree)\n",
        "  \n",
        "   #poly_x_values = poly_model.fit_transform(X_train)\n",
        "   poly_x_train = poly_model.fit_transform(X_train)\n",
        "   poly_model.fit(poly_x_train,y_train)\n",
        "   \n",
        "   poly_x_test = poly_model.fit_transform(X_test)\n",
        "   \n",
        "   regression_model = LinearRegression()\n",
        "   regression_model.fit(poly_x_train,y_train)\n",
        "   y_pred = regression_model.predict(poly_x_test)\n",
        "  \n",
        "   plt_mean_squared_error.append(mean_squared_error(y_test, y_pred, squared=False))\n",
        "  \n",
        "plt.scatter(number_degrees,plt_mean_squared_error, color=\"blue\")\n",
        "plt.plot(number_degrees,plt_mean_squared_error, color=\"maroon\")"
      ]
    },
    {
      "cell_type": "markdown",
      "metadata": {
        "id": "llRiTxNaBQub"
      },
      "source": [
        "From above, we see our model did best when our degree=1 to help us predict the home score most accurately."
      ]
    },
    {
      "cell_type": "markdown",
      "metadata": {
        "id": "Llm5M-d_uhDU"
      },
      "source": [
        "## Model 2: Predicting the away score"
      ]
    },
    {
      "cell_type": "markdown",
      "metadata": {
        "id": "WhVj8hyZ6V1g"
      },
      "source": [
        "The second model will be for predicting the number of goals an away team scores based on the home rank, away rank and the tournament's type"
      ]
    },
    {
      "cell_type": "code",
      "execution_count": null,
      "metadata": {
        "id": "jtC5uWkkumeg"
      },
      "outputs": [],
      "source": [
        "# Preparing the Data\n",
        "# divide the data into \"attributes\" and \"labels\" by assigning the attributes to variable X and the label to variable y \n",
        "X = matches_copy[[\"home_rank\",\"away_rank\",\"tournament_type\"]].values\n",
        "y = matches_copy[\"home_score\"].values  "
      ]
    },
    {
      "cell_type": "code",
      "execution_count": null,
      "metadata": {
        "id": "UixVOyzrutCK"
      },
      "outputs": [],
      "source": [
        "# Splitting the dataset into train and test sets\n",
        "X_train, X_test, y_train, y_test = train_test_split(X, y, test_size = 0.2, random_state = 25)"
      ]
    },
    {
      "cell_type": "markdown",
      "metadata": {
        "id": "SD-NenUuqnEK"
      },
      "source": [
        "### Cross validation"
      ]
    },
    {
      "cell_type": "code",
      "execution_count": null,
      "metadata": {
        "colab": {
          "base_uri": "https://localhost:8080/"
        },
        "id": "V2a0-3SHqldu",
        "outputId": "947a8434-9f33-425c-d0c1-2cb74efdfb66"
      },
      "outputs": [
        {
          "name": "stdout",
          "output_type": "stream",
          "text": [
            "we are using 10 folds\n",
            "\n",
            "Training model 1\n",
            "Model 1 Root Mean Squared Error: 1.263599476785352\n",
            "\n",
            "Training model 2\n",
            "Model 2 Root Mean Squared Error: 1.3059554908082787\n",
            "\n",
            "Training model 3\n",
            "Model 3 Root Mean Squared Error: 1.196497295741805\n",
            "\n",
            "Training model 4\n",
            "Model 4 Root Mean Squared Error: 1.0221878874588601\n",
            "\n",
            "Training model 5\n",
            "Model 5 Root Mean Squared Error: 1.15979055373991\n",
            "\n",
            "Training model 6\n",
            "Model 6 Root Mean Squared Error: 1.1527699538057363\n",
            "\n",
            "Training model 7\n",
            "Model 7 Root Mean Squared Error: 1.0731862682742817\n",
            "\n",
            "Training model 8\n",
            "Model 8 Root Mean Squared Error: 1.1555258341156238\n",
            "\n",
            "Training model 9\n",
            "Model 9 Root Mean Squared Error: 1.0930027538078846\n",
            "\n",
            "Training model 10\n",
            "Model 10 Root Mean Squared Error: 1.284381423917416\n"
          ]
        }
      ],
      "source": [
        "from sklearn.model_selection import KFold\n",
        "\n",
        "# We will use the same 3 independent variables for this\n",
        "folds = KFold(n_splits=10)\n",
        "\n",
        "# note that if you have a KFold object, you can figure out how many folds you set up \n",
        "# for it using get_n_splits\n",
        "print('we are using ' +str(folds.get_n_splits(X)) + ' folds')\n",
        "\n",
        "# We now create and assess 5 models based on the folds we created.\n",
        "RMSES = [] # We will use this array to keep track of the RSME of each model\n",
        "count = 1 # This will just help \n",
        "for train_index, test_index in folds.split(X):\n",
        "  print('\\nTraining model ' + str(count))\n",
        "  \n",
        "  # set up the train and test based on the split determined by KFold\n",
        "  # With 5 folds, we will end up with 80% of our data in the training set, and 20% in the test set, just as above\n",
        "  X_train, X_test = X[train_index], X[test_index]\n",
        "  y_train, y_test = y[train_index], y[test_index]\n",
        "  \n",
        "  # fit a model accordingly\n",
        "  regressor = LinearRegression()  \n",
        "  regressor.fit(X_train, y_train)\n",
        "  \n",
        "  # assess the accuraccy of the model\n",
        "  y_pred = regressor.predict(X_test)\n",
        "  \n",
        "  rmse_value =  np.sqrt(metrics.mean_squared_error(y_test, y_pred))\n",
        "  RMSES.append(rmse_value)\n",
        "  \n",
        "  print('Model ' + str(count) + ' Root Mean Squared Error:',rmse_value)\n",
        "  count = count + 1"
      ]
    },
    {
      "cell_type": "markdown",
      "metadata": {
        "id": "zrQMvkqcshLF"
      },
      "source": [
        "In this case we would pick model 4 since it offers the least RMSE."
      ]
    },
    {
      "cell_type": "code",
      "execution_count": null,
      "metadata": {
        "colab": {
          "base_uri": "https://localhost:8080/"
        },
        "id": "b0hsPlsarLk_",
        "outputId": "6bb0ce58-3449-488b-8890-d7c9e09150e0"
      },
      "outputs": [
        {
          "output_type": "stream",
          "name": "stdout",
          "text": [
            "we are using 837 folds\n",
            "trained 837 models\n"
          ]
        },
        {
          "output_type": "execute_result",
          "data": {
            "text/plain": [
              "0.9357220929917337"
            ]
          },
          "metadata": {},
          "execution_count": 167
        }
      ],
      "source": [
        "from sklearn.model_selection import LeaveOneOut\n",
        "\n",
        "folds = LeaveOneOut()\n",
        "\n",
        "# note that if you have a KFold object, you can figure out how many folds you set up \n",
        "# for it using get_n_splits\n",
        "print('we are using ' +str(folds.get_n_splits(X)) + ' folds')\n",
        "\n",
        "# We now create and assess 5 models based on the folds we created.\n",
        "RMSES = [] # We will use this array to keep track of the RSME of each model\n",
        "count = 0 # This will just help \n",
        "for train_index, test_index in folds.split(X):\n",
        "  \n",
        "  # set up the train and test based on the split determined by KFold\n",
        "  # With 5 folds, we will end up with 80% of our data in the training set, and 20% in the test set, just as above\n",
        "  X_train, X_test = X[train_index], X[test_index]\n",
        "  y_train, y_test = y[train_index], y[test_index]\n",
        "  \n",
        "  # fit a model accordingly\n",
        "  regressor = LinearRegression()  \n",
        "  regressor.fit(X_train, y_train)\n",
        "  \n",
        "  # assess the accuraccy of the model\n",
        "  y_pred = regressor.predict(X_test)\n",
        "  \n",
        "  rmse_value =  np.sqrt(metrics.mean_squared_error(y_test, y_pred))\n",
        "  RMSES.append(rmse_value)\n",
        "  \n",
        "  count = count + 1\n",
        "print('trained ' + str(count) + ' models' )\n",
        "np.mean(RMSES)"
      ]
    },
    {
      "cell_type": "code",
      "source": [
        "import matplotlib.pyplot as plt\n",
        "\n",
        "plt.plot(RMSES)\n",
        "plt.ylabel('RMSE value')\n",
        "plt.xlabel('model ID')\n",
        "plt.show()"
      ],
      "metadata": {
        "colab": {
          "base_uri": "https://localhost:8080/",
          "height": 279
        },
        "id": "ctbH3VilxBLj",
        "outputId": "7304ecc6-0314-487b-fa6c-dd3e19f3cc0b"
      },
      "execution_count": null,
      "outputs": [
        {
          "output_type": "display_data",
          "data": {
            "text/plain": [
              "<Figure size 432x288 with 1 Axes>"
            ],
            "image/png": "[encoded data removed]"
          },
          "metadata": {
            "needs_background": "light"
          }
        }
      ]
    },
    {
      "cell_type": "markdown",
      "source": [
        "Visual representation of the RMSE of the different models under Leave one out Model Evaluation"
      ],
      "metadata": {
        "id": "G3vqf2NRxrjD"
      }
    },
    {
      "cell_type": "code",
      "source": [
        "#define our polynomial model, with whatever degree we want\n",
        "\n",
        "degree=7\n",
        "\n",
        "# PolynomialFeatures will create a new matrix consisting of all polynomial combinations \n",
        "# of the features with a degree less than or equal to the degree we just gave the model (2)\n",
        "poly_model = PolynomialFeatures(degree=degree)\n",
        "\n",
        "# transform out polynomial features\n",
        "poly_x_train = poly_model.fit_transform(X_train)\n",
        "print(f'initial values {X_train[0]}\\n Mapped to {poly_x_train[0]}')"
      ],
      "metadata": {
        "colab": {
          "base_uri": "https://localhost:8080/"
        },
        "id": "ApBSDDj3xXm3",
        "outputId": "74a82eb9-001e-4c9b-9dfd-5bdb63f5ab01"
      },
      "execution_count": null,
      "outputs": [
        {
          "output_type": "stream",
          "name": "stdout",
          "text": [
            "initial values [59 22  1]\n",
            " Mapped to [1.00000000e+00 5.90000000e+01 2.20000000e+01 1.00000000e+00\n",
            " 3.48100000e+03 1.29800000e+03 5.90000000e+01 4.84000000e+02\n",
            " 2.20000000e+01 1.00000000e+00 2.05379000e+05 7.65820000e+04\n",
            " 3.48100000e+03 2.85560000e+04 1.29800000e+03 5.90000000e+01\n",
            " 1.06480000e+04 4.84000000e+02 2.20000000e+01 1.00000000e+00\n",
            " 1.21173610e+07 4.51833800e+06 2.05379000e+05 1.68480400e+06\n",
            " 7.65820000e+04 3.48100000e+03 6.28232000e+05 2.85560000e+04\n",
            " 1.29800000e+03 5.90000000e+01 2.34256000e+05 1.06480000e+04\n",
            " 4.84000000e+02 2.20000000e+01 1.00000000e+00 7.14924299e+08\n",
            " 2.66581942e+08 1.21173610e+07 9.94034360e+07 4.51833800e+06\n",
            " 2.05379000e+05 3.70656880e+07 1.68480400e+06 7.65820000e+04\n",
            " 3.48100000e+03 1.38211040e+07 6.28232000e+05 2.85560000e+04\n",
            " 1.29800000e+03 5.90000000e+01 5.15363200e+06 2.34256000e+05\n",
            " 1.06480000e+04 4.84000000e+02 2.20000000e+01 1.00000000e+00\n",
            " 4.21805336e+10 1.57283346e+10 7.14924299e+08 5.86480272e+09\n",
            " 2.66581942e+08 1.21173610e+07 2.18687559e+09 9.94034360e+07\n",
            " 4.51833800e+06 2.05379000e+05 8.15445136e+08 3.70656880e+07\n",
            " 1.68480400e+06 7.65820000e+04 3.48100000e+03 3.04064288e+08\n",
            " 1.38211040e+07 6.28232000e+05 2.85560000e+04 1.29800000e+03\n",
            " 5.90000000e+01 1.13379904e+08 5.15363200e+06 2.34256000e+05\n",
            " 1.06480000e+04 4.84000000e+02 2.20000000e+01 1.00000000e+00\n",
            " 2.48865148e+12 9.27971740e+11 4.21805336e+10 3.46023361e+11\n",
            " 1.57283346e+10 7.14924299e+08 1.29025660e+11 5.86480272e+09\n",
            " 2.66581942e+08 1.21173610e+07 4.81112630e+10 2.18687559e+09\n",
            " 9.94034360e+07 4.51833800e+06 2.05379000e+05 1.79397930e+10\n",
            " 8.15445136e+08 3.70656880e+07 1.68480400e+06 7.65820000e+04\n",
            " 3.48100000e+03 6.68941434e+09 3.04064288e+08 1.38211040e+07\n",
            " 6.28232000e+05 2.85560000e+04 1.29800000e+03 5.90000000e+01\n",
            " 2.49435789e+09 1.13379904e+08 5.15363200e+06 2.34256000e+05\n",
            " 1.06480000e+04 4.84000000e+02 2.20000000e+01 1.00000000e+00]\n"
          ]
        }
      ]
    },
    {
      "cell_type": "code",
      "execution_count": null,
      "metadata": {
        "id": "zpnSUs5YkhFH"
      },
      "outputs": [],
      "source": [
        "poly_x_test = poly_model.fit_transform(X_test)"
      ]
    },
    {
      "cell_type": "code",
      "source": [
        "# let's fit the model\n",
        "poly_model.fit(poly_x_train, y_train)\n",
        "\n",
        "# we use linear regression as a base\n",
        "regression_model = LinearRegression()\n",
        "\n",
        "regression_model.fit(poly_x_train,y_train)\n",
        "\n",
        "y_pred = regression_model.predict(poly_x_test)\n",
        "\n",
        "regression_model.coef_\n",
        "\n",
        "mean_squared_error(y_test, y_pred, squared=False)"
      ],
      "metadata": {
        "colab": {
          "base_uri": "https://localhost:8080/"
        },
        "id": "zlfCS4HvxhFZ",
        "outputId": "482b4253-f8bb-4008-d9e4-05ce46c59f62"
      },
      "execution_count": null,
      "outputs": [
        {
          "output_type": "execute_result",
          "data": {
            "text/plain": [
              "1.243646751727497"
            ]
          },
          "metadata": {},
          "execution_count": 182
        }
      ]
    },
    {
      "cell_type": "code",
      "execution_count": null,
      "metadata": {
        "colab": {
          "base_uri": "https://localhost:8080/",
          "height": 282
        },
        "id": "X8nuZ0tZkvni",
        "outputId": "9027f2f1-7de7-4ff3-d284-3a75bae83960"
      },
      "outputs": [
        {
          "data": {
            "text/plain": [
              "[<matplotlib.lines.Line2D at 0x7f15e11743d0>]"
            ]
          },
          "execution_count": 164,
          "metadata": {},
          "output_type": "execute_result"
        },
        {
          "data": {
            "image/png": "[encoded data removed]",
            "text/plain": [
              "<Figure size 432x288 with 1 Axes>"
            ]
          },
          "metadata": {},
          "output_type": "display_data"
        }
      ],
      "source": [
        "number_degrees = [1,2,3,4,5,6,7,8,9,10]\n",
        "plt_mean_squared_error = []\n",
        "for degree in number_degrees:\n",
        "\n",
        "   poly_model = PolynomialFeatures(degree=degree)\n",
        "  \n",
        "   #poly_x_values = poly_model.fit_transform(X_train)\n",
        "   poly_x_train = poly_model.fit_transform(X_train)\n",
        "   poly_model.fit(poly_x_train,y_train)\n",
        "   \n",
        "   poly_x_test = poly_model.fit_transform(X_test)\n",
        "   \n",
        "   regression_model = LinearRegression()\n",
        "   regression_model.fit(poly_x_train,y_train)\n",
        "   y_pred = regression_model.predict(poly_x_test)\n",
        "  \n",
        "   plt_mean_squared_error.append(mean_squared_error(y_test, y_pred, squared=False))\n",
        "  \n",
        "plt.scatter(number_degrees,plt_mean_squared_error, color=\"blue\")\n",
        "plt.plot(number_degrees,plt_mean_squared_error, color=\"maroon\")"
      ]
    },
    {
      "cell_type": "markdown",
      "metadata": {
        "id": "XastaJqRnHHp"
      },
      "source": [
        "From above, we see our model did best when our degree=7 to help us predict the away score most accurately."
      ]
    },
    {
      "cell_type": "markdown",
      "metadata": {
        "id": "BZANQihTw0aF"
      },
      "source": [
        "# Logistic Regression"
      ]
    },
    {
      "cell_type": "markdown",
      "metadata": {
        "id": "rKHvuwBVw3At"
      },
      "source": [
        "Model : Figure out from the home team’s perspective if the game is a Win, Lose or Draw (W, L, D)"
      ]
    },
    {
      "cell_type": "code",
      "execution_count": null,
      "metadata": {
        "id": "uLaBYGYYw4u1"
      },
      "outputs": [],
      "source": [
        "# Preparing the Data\n",
        "# divide the data into \"attributes\" and \"labels\" by assigning the attributes to variable X and the label to variable y \n",
        "X = matches_copy[[\"home_team\",\"away_team\",\"away_score\",\"home_rank\",\"away_rank\",\"tournament_type\"]]\n",
        "Y = matches_copy[\"home_score\"]"
      ]
    },
    {
      "cell_type": "code",
      "execution_count": null,
      "metadata": {
        "id": "tA54QCvtw7Hi"
      },
      "outputs": [],
      "source": [
        "# Encoding the categorical variables using the get dummies function\n",
        "X = pd.get_dummies(X, drop_first=True)"
      ]
    },
    {
      "cell_type": "code",
      "execution_count": null,
      "metadata": {
        "id": "VSvQ581YxAnF"
      },
      "outputs": [],
      "source": [
        "# Splitting the dataset into train and test sets\n",
        "X_train, X_test, y_train, y_test = train_test_split(X, Y, test_size = 0.3, random_state = 30)"
      ]
    },
    {
      "cell_type": "code",
      "execution_count": null,
      "metadata": {
        "id": "b3CJiBm3xDAK"
      },
      "outputs": [],
      "source": [
        "# Introducing logistic regression to our dataset\n",
        "logistic = LogisticRegression()\n",
        "\n",
        "# Fit and transform the train sets\n",
        "logistic.fit(X_train, y_train)\n",
        "\n",
        "# Making predictions using the logistic model\n",
        "y_pred = logistic.predict(X_test)"
      ]
    },
    {
      "cell_type": "code",
      "execution_count": null,
      "metadata": {
        "id": "LMM8ZSJ7xHR3"
      },
      "outputs": [],
      "source": [
        "# Measuring the accuracy of the model using the accuracy_score function\n",
        "print(\"The accuracy of the model is\", {accuracy_score(y_test, y_pred)})"
      ]
    },
    {
      "cell_type": "code",
      "source": [
        "# use accuracy_score function to compute the accuracy of the model\n",
        "from sklearn.metrics import accuracy_score\n",
        "\n",
        "accuracy1 = accuracy_score(y_test, y_pred)\n",
        "\n",
        "# print the accuracy value\n",
        "print('Accuracy: ', accuracy1)\n",
        "\n",
        "print(\"\")"
      ],
      "metadata": {
        "colab": {
          "base_uri": "https://localhost:8080/"
        },
        "id": "RRPgs1bi0O33",
        "outputId": "51d41c30-0b30-4f1b-813f-a74bb0ea468a"
      },
      "execution_count": 105,
      "outputs": [
        {
          "output_type": "stream",
          "name": "stdout",
          "text": [
            "Accuracy:  0.3115942028985507\n",
            "\n"
          ]
        }
      ]
    },
    {
      "cell_type": "markdown",
      "source": [
        "The accuracy test shows that our algorithm is approximately 31.15% accurate in predicting the match status of the home team."
      ],
      "metadata": {
        "id": "I0GgaiyW0jO-"
      }
    },
    {
      "cell_type": "markdown",
      "source": [
        "# Conclusion,\n",
        "Our Model in Polynomial approach did best when our degree is 1  for home score and  when our degree is 7  for away score .\n",
        "Cross Validation model number 4 is the best for predicting our home score and away score.\n",
        "The Logistic approach regression the accuracy test shows that our algorithm is approximately 31.15% accurate in predicting the match status of the home team."
      ],
      "metadata": {
        "id": "fbbnyyV83SeT"
      }
    },
    {
      "cell_type": "markdown",
      "source": [
        "\n",
        "# Recommendation.\n",
        "The first solution brought almost a perfect model which means that there could be changes that could be made. We could have maybe added the weighted points and previous points. Also, some factors such as injury on players should have been included in the dataset and players being given a red card and benched can affect the outcome of their next 2 games."
      ],
      "metadata": {
        "id": "WdRPsDM53ZYn"
      }
    }
  ],
  "metadata": {
    "colab": {
      "provenance": [],
      "collapsed_sections": [
        "PCsckPP2kV1U",
        "tTjHmBL1ke7l",
        "oj01Uzb6JzUw",
        "sWAeoNw0p2eg",
        "pC8EOxWsp9Gg"
      ],
      "include_colab_link": true
    },
    "kernelspec": {
      "display_name": "Python 3",
      "name": "python3"
    },
    "language_info": {
      "name": "python"
    }
  },
  "nbformat": 4,
  "nbformat_minor": 0
}